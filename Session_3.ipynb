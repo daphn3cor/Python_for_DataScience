{
  "nbformat": 4,
  "nbformat_minor": 0,
  "metadata": {
    "colab": {
      "name": "Session_3.ipynb",
      "provenance": [],
      "collapsed_sections": []
    },
    "kernelspec": {
      "name": "python3",
      "display_name": "Python 3"
    }
  },
  "cells": [
    {
      "cell_type": "markdown",
      "metadata": {
        "id": "zqLNmHY-c_am",
        "colab_type": "text"
      },
      "source": [
        "#Week 1\n",
        "##Session 3\n",
        "\n",
        "This is the third session of the Python for Data Science Bootcamp. In this session we will cover Object Oriented Programming, or OOP in short.\n",
        "\n",
        "\n",
        "###Outline\n",
        "​\n",
        "- Introduction to Object-oriented progamming\n",
        "- Imperative & Declarative Programming \n",
        "- Classes and Objects\n",
        "- Methods, Init, Self\n",
        "- Inheritance \n",
        "- Super\n",
        "- Challenges\n",
        "\n",
        "​\n",
        "\n",
        "\n",
        "![alt_text](https://miro.medium.com/max/582/1*-dmHYcAiphpWe6m0pcd-AA.png)\n"
      ]
    },
    {
      "cell_type": "markdown",
      "metadata": {
        "id": "DnOZjZvZjI0z",
        "colab_type": "text"
      },
      "source": [
        "## Object-oriented Programming\n",
        "\n",
        "Python is an object-oriented programming language, which means it manipulates programming constructs called objects. You can think of an object as a single data structure that contains data as well as functions; the functions of an object are called its methods. A class is just a way of organizing and producing objects with similar attributes and methods. \n",
        "\n",
        "### What Is Object Oriented Programming (OOP)\n",
        "\n",
        "Python is an **imperative programming language**, just like Ruby, C, C++ and Java to name a few.\n",
        "OOP is based on the imperative programming paradigm. \n",
        "\n",
        "The definition of a paradigm is \"a typical example or pattern of something; a pattern or model.'' So programming paradigms are a way to classify programming languages based on their characteristics. \n",
        "\n",
        "\n",
        "![alt text](https://drive.google.com/uc?id=1c-llek9tMVgrrK7GmZ6vTRXfXpvV68XZ)\n",
        "\n",
        "\n",
        "Unlike Declarative Paradigms, in which the programmer only vaguely describes what the goal is, in imperative programming languages the programmer precisely instructs the machine how to change its state. \n",
        "\n",
        "**Object Oriented** programming falls in the imperative programming languages category. OOP is all about creating code patterns that can be reused. \n",
        "You can think of it as recycling, but then with code. \n",
        "When you are working on larger coding projects with abstract data structures, it is very important to keep your code as efficient and readable as possible.\n",
        "\n",
        "This idea about creating reusable code is known as **DRY** (Don't Repeat Yourself).\n",
        "\n",
        "​\n",
        "\n",
        "This is **Steve Jobs'** answer when asked to explain OOP in simple terms\n",
        "\n",
        "*\"Objects are like people. They’re living, breathing things that have knowledge inside them about how to do things and have memory inside them so they can remember things. And rather than interacting with them at a very low level, you interact with them at a very high level of abstraction, like we’re doing right here.*\n",
        "\n",
        "*Here’s an example: If I’m your laundry object, you can give me your dirty clothes and send me a message that says, “Can you get my clothes laundered, please.” I happen to know where the best laundry place in San Francisco is. And I speak English, and I have dollars in my pockets. So I go out and hail a taxicab and tell the driver to take me to this place in San Francisco. I go get your clothes laundered, I jump back in the cab, I get back here. I give you your clean clothes and say, “Here are your clean clothes.”*\n",
        "\n",
        "*You have no idea how I did that. You have no knowledge of the laundry place. Maybe you speak French, and you can’t even hail a taxi. You can’t pay for one, you don’t have dollars in your pocket. Yet, I knew how to do all of that. And you didn’t have to know any of it. All that **complexity was hidden inside of me**, and we were able to interact at a very high level of abstraction. That’s what objects are. They encapsulate complexity, and the interfaces to that complexity are high level.\" *\n",
        "\n",
        "(digression; [this](https://www.youtube.com/watch?v=5Z1gfgM7kzo) video is quite interesting)\n",
        "\n",
        "\n",
        "### Why use OOP\n",
        "\n",
        "- faster development\n",
        "- better maintainable and readable ( you will see why )\n",
        "--> leading to higher quality software\n",
        "\n",
        "\n",
        "\n"
      ]
    },
    {
      "cell_type": "markdown",
      "metadata": {
        "id": "e4JIJxDKgye9",
        "colab_type": "text"
      },
      "source": [
        "### Classes and Objects\n",
        "\n",
        "Let's first distinguish between Classes and Objects\n",
        "\n",
        "- **Class**\n",
        "  - can be seen as a 'blueprint' for an object.\n",
        "  - this defines a set of attributes (features) \n",
        "  \n",
        "- **Object**\n",
        "  - a single instance of a class\n",
        "  - have their own attributes and methods ( i.e. actions )\n",
        " \n",
        "\n",
        "Think about it like this, if you want to build a house. You need a blueprint first (`class`), and then you can build houses in different styles (`objects`).\n",
        "\n",
        "![alt text](https://ak3.picdn.net/shutterstock/videos/947443/thumb/12.jpg)\n",
        "\n"
      ]
    },
    {
      "cell_type": "markdown",
      "metadata": {
        "id": "A2FsnYOdgw8u",
        "colab_type": "text"
      },
      "source": [
        "Dogs, cats and giraffes can all be seen as 'instances' from the animal class. They are the objects within the class. Starting from the point that they are all animals, they all have lots of unique properties. ( coat, behaviour, food etc.)\n",
        "\n",
        "\n",
        "\n",
        "![alt text](https://drive.google.com/uc?id=1yhaPT7txXe0TP9ew0cojiwjI8YOQgjCD)\n",
        "\n"
      ]
    },
    {
      "cell_type": "markdown",
      "metadata": {
        "id": "6s-2zpMfS2CG",
        "colab_type": "text"
      },
      "source": [
        "## An Intuitive example; `Animal()`\n",
        "\n",
        "More specifically, let's say we have a base class `Animal` which has two subclasses; `cat` and `dog`. Dog and cat are similar in that they are both animals, they can both move and have a name and age. \n",
        "\n",
        "Different about cats and dogs is however that they make a different sound. We can incorporate that by giving cat and dog their own unique **methods**. `meow()` for cat, and `bark()` for dog.\n",
        "\n",
        "This gives us hierarchy, with `Animal` as the base class, and `Cat` and `Dog` both using the things we gave Animal + a method that makes them unique.\n",
        "\n",
        "\n",
        "![alt text](https://drive.google.com/uc?id=1wWbyMPOR8krfNLPUuQ0rkY3FlfLnj--5)"
      ]
    },
    {
      "cell_type": "markdown",
      "metadata": {
        "id": "wqj-20Ow849E",
        "colab_type": "text"
      },
      "source": [
        "### Starting from Scratch\n",
        "\n",
        "To take a step back, we start by creating the blueprint of an animal, or in coding terms, a class."
      ]
    },
    {
      "cell_type": "code",
      "metadata": {
        "trusted": true,
        "id": "Bhx12rnTjI05",
        "colab_type": "code",
        "colab": {}
      },
      "source": [
        "# create a class by using the class keyword\n",
        "class Animal:\n",
        "  pass"
      ],
      "execution_count": 0,
      "outputs": []
    },
    {
      "cell_type": "code",
      "metadata": {
        "trusted": true,
        "id": "6ufQEKZljI08",
        "colab_type": "code",
        "colab": {}
      },
      "source": [
        "# inside our class we always define an __init__ method\n",
        "class Animal:\n",
        "  def __init__(self):\n",
        "    pass"
      ],
      "execution_count": 0,
      "outputs": []
    },
    {
      "cell_type": "code",
      "metadata": {
        "id": "a7GgIM69eo7Q",
        "colab_type": "code",
        "outputId": "827db6ca-e897-4459-be6f-2c7ae1d72cce",
        "colab": {
          "base_uri": "https://localhost:8080/",
          "height": 34
        }
      },
      "source": [
        "# create new instances\n",
        "molly = Animal()\n",
        "tiger = Animal()\n",
        "\n",
        "print(molly)"
      ],
      "execution_count": 0,
      "outputs": [
        {
          "output_type": "stream",
          "text": [
            "<__main__.Animal object at 0x7f349b229f98>\n"
          ],
          "name": "stdout"
        }
      ]
    },
    {
      "cell_type": "markdown",
      "metadata": {
        "id": "8dlW0LpML00G",
        "colab_type": "text"
      },
      "source": [
        "### About __init__ and Self\n",
        "\n",
        "The `__init__` function defined above is called a **constructor or initialiser**. It is a special method in Python that is called automatically when a new instance of a class (i.e. object) is created. \n",
        "\n",
        "This init function takes `self` as argument, meaning the *instance of the object itself*. In Python you have to declare this explicitly; Python needs to know in which object the function must be executed.\n",
        "\n",
        "​\n",
        "\n",
        "So when we call our class Animal() by instantiating an object, Python creates an object for us, then passes that as the first parameter to the `__init__` method. Or in other words, the `__init__` method is run automatically. You can see it as the core part of a class.\n",
        "\n",
        "[more about init and self](https://stackoverflow.com/questions/625083/python-init-and-self-what-do-they-do)\n",
        "\n",
        "### Methods and Functions\n",
        "\n",
        "In Session 1 we introduced the concept of functions. Now we can elaborate on that.\n",
        "\n",
        "We learned that a function is like a mini program that performs some operation to its input. Now methods, are similiar. Methods are functions that belong to an object and have access to the object's attributes, that's it!\n",
        "\n",
        "\n",
        "```\n",
        "# basic function\n",
        "\n",
        "def function_name ( arg1, arg2, ...): \n",
        "    ...... \n",
        "    # body \n",
        "    ......    \n",
        "\n",
        "```\n",
        "\n",
        "```\n",
        "# basic method  \n",
        "\n",
        "class class_name \n",
        "    def method_name (): \n",
        "        ...... \n",
        "        # body \n",
        "        ......    \n",
        "```\n",
        "​\n",
        "\n",
        "These are the differences and similarities in a table;\n",
        "\n",
        "| Functions | Methods |\n",
        "| ---- | ----: |\n",
        "| is called by its name; independent | is called by name, but is related to an object; dependent |\n",
        "| if parameters are passed, it is always explicit | is implicitly passed the object on which it is called upon |\n",
        "|may or may not return visible output| may or may not return visible output |\n",
        "| is not related to a class and instance  | can act on the instance variables that is contained by the corresponding class |\n",
        "\n",
        "​\n",
        "- In short: a **method** is a *function* that is associated with a *class*.\n",
        "\n",
        "​\n",
        "\n",
        "\"Now that we have created the blueprint for our object, we can start creating instances of the object. \n",
        "\n",
        "\n",
        "To continue with the code, having created the blueprint, our - class `Animal`- we can create instances of the class. \n",
        "\n",
        "You **instantiate**  an object like this: "
      ]
    },
    {
      "cell_type": "code",
      "metadata": {
        "id": "k1MAf_QHwAUZ",
        "colab_type": "code",
        "colab": {}
      },
      "source": [
        "# create new instance\n",
        "molly = Animal()"
      ],
      "execution_count": 0,
      "outputs": []
    },
    {
      "cell_type": "markdown",
      "metadata": {
        "id": "LapkX2izAITe",
        "colab_type": "text"
      },
      "source": [
        "Now we have two objects from our class Animal() and can assign attributes to it. We stated that Animal should have two **attributes**; name and age + a **method**; move.\n",
        "\n",
        "Then create two new objects and pass in the arguments for name and age. \n"
      ]
    },
    {
      "cell_type": "code",
      "metadata": {
        "id": "FMpDxboAjr0W",
        "colab_type": "code",
        "outputId": "4e58dba6-66ec-4a8a-d0ce-6f450c623468",
        "colab": {
          "base_uri": "https://localhost:8080/",
          "height": 51
        }
      },
      "source": [
        "# we also include a method inside our class Animal\n",
        "class Animal:\n",
        "\n",
        "    # instance attributes\n",
        "    def __init__(self, name, age):  \n",
        "        self.name = name\n",
        "        self.age = age\n",
        "    \n",
        "    # instance method\n",
        "    def move(self):\n",
        "      return f'{self.name} is moving!'\n",
        "        \n",
        "        \n",
        "dog = Animal('molly',5)\n",
        "cat = Animal('tiger',8)\n",
        "\n",
        "print(cat.move())\n",
        "print(dog.move())"
      ],
      "execution_count": 0,
      "outputs": [
        {
          "output_type": "stream",
          "text": [
            "tiger is moving!\n",
            "molly is moving!\n"
          ],
          "name": "stdout"
        }
      ]
    },
    {
      "cell_type": "code",
      "metadata": {
        "id": "GKhYEC-yeoya",
        "colab_type": "code",
        "outputId": "ef101af9-5e84-4e89-c13c-b6080890de1f",
        "colab": {
          "base_uri": "https://localhost:8080/",
          "height": 85
        }
      },
      "source": [
        "# to access the attributes of molly (i.e. the object) do this\n",
        "print(dog.name)\n",
        "print(dog.age)\n",
        "\n",
        "print(cat.name)\n",
        "print(cat.age)"
      ],
      "execution_count": 0,
      "outputs": [
        {
          "output_type": "stream",
          "text": [
            "molly\n",
            "5\n",
            "tiger\n",
            "8\n"
          ],
          "name": "stdout"
        }
      ]
    },
    {
      "cell_type": "code",
      "metadata": {
        "id": "sXUs5XchqTb7",
        "colab_type": "code",
        "outputId": "5e346f71-6fb9-4c7b-9f14-de3b59550a00",
        "colab": {
          "base_uri": "https://localhost:8080/",
          "height": 51
        }
      },
      "source": [
        "# call the instance methods\n",
        "# note that we have to use ()\n",
        "print(molly.move())\n",
        "print(tiger.move())"
      ],
      "execution_count": 0,
      "outputs": [
        {
          "output_type": "stream",
          "text": [
            "molly is moving!\n",
            "tiger is moving!\n"
          ],
          "name": "stdout"
        }
      ]
    },
    {
      "cell_type": "markdown",
      "metadata": {
        "id": "p9CbTYj1lDhD",
        "colab_type": "text"
      },
      "source": [
        "Note that, when we create an **instance** of the class Animal(), for example with `molly`,  `molly` is passed in as the `self` in the `init` method. Because the `init` method is run by default, `molly` gets the attributes specified in the method ( in this case `name and age`). \n",
        "This happens for each instance of the class that we will instantiate.\n"
      ]
    },
    {
      "cell_type": "markdown",
      "metadata": {
        "id": "1HviQtsDNzcY",
        "colab_type": "text"
      },
      "source": [
        "### Inheritance \n",
        "\n",
        "Remember how we always want to use our code efficiently? Inheritance is related to that notion as well. As the word suggests, inheritance is when a class is reused to form the basis of another class. \n",
        "\n",
        "In OOP, Classes have a parent/child relationship. Where the children inherit the properties of the parent and add to that other attributes or methods to become unique classes themselves.\n",
        "\n",
        "![alt text](https://drive.google.com/uc?id=11D4KWKylnOy3c7lLiR4Ow54kkqX7Fauo)\n",
        "\n",
        "\n",
        "As you could see in the image on top, Animal is our parent class, and cat and dog are the children classes. We want to create the children classes so that they *inherit* properties from their parent class, Animal."
      ]
    },
    {
      "cell_type": "code",
      "metadata": {
        "id": "vyT_8YjTCJ_y",
        "colab_type": "code",
        "colab": {}
      },
      "source": [
        "# parent class\n",
        "class Animal:\n",
        "\n",
        "    def __init__(self, name, age):  \n",
        "        self.name = name\n",
        "        self.age = age\n",
        "    \n",
        "    def move(self):\n",
        "      return f'{self.name} is moving!'\n",
        "\n",
        "    \n",
        "# child class (inherits from Animal)\n",
        "class Dog(Animal):\n",
        "  \n",
        "  def __init__(self,name,age):\n",
        "    # call super() function\n",
        "    super().__init__(name,age)\n",
        "  \n",
        "  # method \n",
        "  def bark(self):\n",
        "    return 'bark bark!'\n",
        "  \n",
        "  \n",
        "# child class (inherits from Animal)\n",
        "class Cat(Animal):\n",
        "  \n",
        "  def __init__(self,name,age):\n",
        "    # call super() function\n",
        "    super().__init__(name,age)\n",
        "  \n",
        "  def meow(self):\n",
        "    return 'meoooow'\n",
        "\n",
        "# create instances\n",
        "molly = Dog('molly',7)\n",
        "tiger = Cat('tiger',8)"
      ],
      "execution_count": 0,
      "outputs": []
    },
    {
      "cell_type": "code",
      "metadata": {
        "id": "ZLphDuHw0Ex4",
        "colab_type": "code",
        "outputId": "fc1a9ab8-acc0-4fa0-de50-05c514ab727f",
        "colab": {
          "base_uri": "https://localhost:8080/",
          "height": 34
        }
      },
      "source": [
        "tiger.meow()"
      ],
      "execution_count": 0,
      "outputs": [
        {
          "output_type": "execute_result",
          "data": {
            "text/plain": [
              "'meoooow'"
            ]
          },
          "metadata": {
            "tags": []
          },
          "execution_count": 25
        }
      ]
    },
    {
      "cell_type": "markdown",
      "metadata": {
        "id": "LJNEWvpUjRsh",
        "colab_type": "text"
      },
      "source": [
        "## OOP example 2\n",
        "\n",
        "Watch [this](https://www.youtube.com/watch?v=ZDa-Z5JzLYM&list=PL-osiE80TeTsqhIuOqKhwlXsIBIdSeYtc) other great tutorial first.\n",
        "\n",
        "When you watched the video, you have seen again how efficient Object Oriented Programming is. The code was reduced to these lines."
      ]
    },
    {
      "cell_type": "code",
      "metadata": {
        "id": "vHL3_tBh9VQG",
        "colab_type": "code",
        "outputId": "796ea5dd-6e0c-441c-b252-5334d57b5b45",
        "colab": {
          "base_uri": "https://localhost:8080/",
          "height": 51
        }
      },
      "source": [
        "class Employee:\n",
        "  def __init__(self, first, last, pay):\n",
        "    self.first = first\n",
        "    self.last = last\n",
        "    self.pay = pay\n",
        "    self.email = first + '.' + last + '@company.com'\n",
        "    \n",
        "  def fullname(self):\n",
        "    #return '{} {}'.format(self.first,self.last)\n",
        "    return f'{self.first}{self.last}'\n",
        "\n",
        "  \n",
        "emp_1 = Employee('Corey','Schafer',50000)\n",
        "emp_2 = Employee('Test','User', 60000)\n",
        "\n",
        "# call the method fullname\n",
        "print(emp_1.fullname())\n",
        "\n",
        "print(emp_1.email)"
      ],
      "execution_count": 0,
      "outputs": [
        {
          "output_type": "stream",
          "text": [
            "CoreySchafer\n",
            "Corey.Schafer@company.com\n"
          ],
          "name": "stdout"
        }
      ]
    },
    {
      "cell_type": "markdown",
      "metadata": {
        "id": "CfvhaG0N9VUi",
        "colab_type": "text"
      },
      "source": [
        "where\n",
        "- first, last, pay and email are the **attributes** of our class Employee\n",
        "- `fullname` is a **method** of our class, which returns the full name of each instance created\n",
        "  - notice that when you call a method, you use () \n",
        "\n",
        "> always insert the `self` argument!\n",
        "\n",
        "\n",
        "Then in [his other tutorial](https://www.youtube.com/watch?v=RSl87lqOXDE&index=4&list=PL-osiE80TeTsqhIuOqKhwlXsIBIdSeYtc) **inheritance** is explained and implemented in the code.\n",
        "\n",
        "- `Super()`"
      ]
    },
    {
      "cell_type": "code",
      "metadata": {
        "id": "D5AN6MEV9VbP",
        "colab_type": "code",
        "outputId": "beacb666-2075-4408-a5b4-2904a7da7978",
        "colab": {
          "base_uri": "https://localhost:8080/",
          "height": 34
        }
      },
      "source": [
        "# parent class\n",
        "class Employee:\n",
        "\n",
        "    # class attribute\n",
        "    raise_amt = 1.04\n",
        "\n",
        "    # instance attributes\n",
        "    def __init__(self, first, last, pay):\n",
        "        self.first = first\n",
        "        self.last = last\n",
        "        self.email = first + '.' + last + '@email.com'\n",
        "        self.pay = pay\n",
        "\n",
        "    def fullname(self):\n",
        "        return '{} {}'.format(self.first, self.last)\n",
        "\n",
        "    def apply_raise(self):\n",
        "        self.pay = int(self.pay * self.raise_amt)\n",
        "\n",
        "\n",
        "# child class\n",
        "class Developer(Employee):\n",
        "  pass\n",
        "\n",
        "\n",
        "dev_1 = Developer('Corey', 'Schafer', 50000)\n",
        "\n",
        "# we could already do this\n",
        "dev_1.fullname()\n",
        "dev_1.apply_raise()\n",
        "print(dev_1.pay)\n",
        "\n"
      ],
      "execution_count": 0,
      "outputs": [
        {
          "output_type": "stream",
          "text": [
            "52000\n"
          ],
          "name": "stdout"
        }
      ]
    },
    {
      "cell_type": "code",
      "metadata": {
        "id": "c4p2xnP76vbK",
        "colab_type": "code",
        "outputId": "d613988d-6079-4d05-b521-1cfd34a4c797",
        "colab": {
          "base_uri": "https://localhost:8080/",
          "height": 51
        }
      },
      "source": [
        "# child class\n",
        "class Developer(Employee):\n",
        "    raise_amt = 1.10\n",
        "  \n",
        "    # add programming language to init method\n",
        "    def __init__(self, first, last, pay, prog_lang):\n",
        "        super().__init__(first, last, pay) # inherit from parent class \n",
        "        self.prog_lang = prog_lang # adding new attribute\n",
        "\n",
        "\n",
        "# child class\n",
        "class Manager(Employee):\n",
        "\n",
        "    def __init__(self, first, last, pay, employees=None):\n",
        "        super().__init__(first, last, pay)\n",
        "        if employees is None:\n",
        "            self.employees = []\n",
        "        else:\n",
        "            self.employees = employees\n",
        "\n",
        "    def add_emp(self, emp):\n",
        "        if emp not in self.employees:\n",
        "            self.employees.append(emp)\n",
        "\n",
        "    def remove_emp(self, emp):\n",
        "        if emp in self.employees:\n",
        "            self.employees.remove(emp)\n",
        "\n",
        "    def print_emps(self):\n",
        "        for emp in self.employees:\n",
        "            print('-->', emp.fullname())\n",
        "\n",
        "\n",
        "dev_1 = Developer('Corey', 'Schafer', 50000, 'Python')\n",
        "dev_2 = Developer('Test', 'Employee', 60000, 'Java')\n",
        "\n",
        "mgr_1 = Manager('Sue', 'Smith', 90000, [dev_1])\n",
        "\n",
        "print(mgr_1.email)\n",
        "\n",
        "mgr_1.add_emp(dev_2)\n",
        "mgr_1.remove_emp(dev_2)\n",
        "\n",
        "mgr_1.print_emps()"
      ],
      "execution_count": 0,
      "outputs": [
        {
          "output_type": "stream",
          "text": [
            "Sue.Smith@email.com\n",
            "--> Corey Schafer\n"
          ],
          "name": "stdout"
        }
      ]
    },
    {
      "cell_type": "markdown",
      "metadata": {
        "id": "LWl5R_opN0Rr",
        "colab_type": "text"
      },
      "source": [
        "Play around with it! Try to call different methods or add some attributes."
      ]
    },
    {
      "cell_type": "markdown",
      "metadata": {
        "id": "4yIAxYr84ijm",
        "colab_type": "text"
      },
      "source": [
        "### Finally; If you want to know more\n",
        "\n",
        "We decifed to not include some other key concepts of OOP, namely encapsulation, abstraction and polymorphism. \n",
        "\n",
        "Briefly summarised, they mean the following.\n",
        "\n",
        "- **encapsulation.**Hiding private information of a class from other objects.\n",
        "- **abstraction.** Hiding complexity that are not necesarrily relevant.\n",
        "- **polymorphism.** (= many shapes). Performing different operations on an object minding the precise type of the object.\n",
        "\n",
        "However, these short descriptions are not sufficient to truly understand them. Thus, if you want to learn about them, I recommend reading [this](https://medium.freecodecamp.org/object-oriented-programming-concepts-21bb035f7260 ) well explained article."
      ]
    },
    {
      "cell_type": "markdown",
      "metadata": {
        "id": "3XHJ8gaok7sg",
        "colab_type": "text"
      },
      "source": [
        "## Challenges"
      ]
    },
    {
      "cell_type": "markdown",
      "metadata": {
        "id": "aVFWzCZkk5sQ",
        "colab_type": "text"
      },
      "source": [
        "### Introduction to Challenge; Bank account balance calculator\n",
        "\n",
        "###Description of the exercise \n",
        "\n",
        "Many students have trouble managing their personal finances. That is why we will create a model that shows how much money we left on our account based on past deposits and withdrawals\n",
        "To illustrate how far we have come on our coding journey, I have written the code of how you probably would have approached this problem earlier this week:"
      ]
    },
    {
      "cell_type": "code",
      "metadata": {
        "id": "JlWr92uzk59H",
        "colab_type": "code",
        "outputId": "1eeff108-9626-426f-fb83-69cf8b04e7a3",
        "colab": {
          "base_uri": "https://localhost:8080/",
          "height": 33
        }
      },
      "source": [
        "#This may seem like a nicely written function, but it is very unpractical\n",
        "#It becomes especially difficult if we have multiple bank accounts\n",
        "balance = 0\n",
        "\n",
        "def deposit(amount):\n",
        "    global balance\n",
        "    balance += amount\n",
        "    return balance\n",
        "\n",
        "def withdraw(amount):\n",
        "    global balance\n",
        "    balance -= amount\n",
        "    return balance\n",
        "  \n",
        "deposit(10)\n",
        "withdraw(4)\n",
        "print(balance)"
      ],
      "execution_count": 0,
      "outputs": [
        {
          "output_type": "stream",
          "text": [
            "6\n"
          ],
          "name": "stdout"
        }
      ]
    },
    {
      "cell_type": "markdown",
      "metadata": {
        "id": "nJfzrDvhnJ5n",
        "colab_type": "text"
      },
      "source": [
        "### Challenge 1\n",
        "\n",
        "###Description of the exercise:\n",
        "- Create a class called 'BankAccount'\n",
        "- Define a function that initializes the class and give it the logical parameter that we have been using for classes\n",
        "- Define another function within the class called 'withdraw with two parameters, of which one parameter is  called 'amount'\n",
        "  - Let any withdrawn amount have a negative impact on the balance of the account and return it\n",
        "- Define yet another function within the class called 'deposit with two parameters, of which one parameter is  called 'amount'\n",
        "  - Let any deposited amount have a positive impact on the balance of the bank account and return it\n",
        "  \n",
        "    \n",
        "\n"
      ]
    },
    {
      "cell_type": "code",
      "metadata": {
        "id": "K0vI3OLmOa7f",
        "colab_type": "code",
        "colab": {}
      },
      "source": [
        ""
      ],
      "execution_count": 0,
      "outputs": []
    },
    {
      "cell_type": "markdown",
      "metadata": {
        "id": "0BbRgzb6k6EF",
        "colab_type": "text"
      },
      "source": [
        "### Challenge 2\n",
        "###Description of the exercise:\n",
        "- Create two bank accounts 'a' and 'b' and set them equal to the BankAccount class\n",
        "- Call the functions related to deposits and withdrawals to calculate the account balance of both accounts after these transactions:\n",
        "- Hint --> To reset your bank account balances back to 0, run the origninal code where you defined your classes and bank accounts again. \n",
        "\n",
        "\n",
        "###For account 'a':\n",
        "\n",
        ">Type | Amount\n",
        ">--- | ---\n",
        ">Deposit | 156\n",
        ">Withdraw| 55\n",
        "> Withdraw| 200\n",
        "\n",
        "\n",
        "\n",
        "###For account 'b':\n",
        "\n",
        ">Type | Amount\n",
        ">--- | ---\n",
        ">Withdraw | 477\n",
        ">Deposit | 546\n",
        ">Deposit | 37"
      ]
    },
    {
      "cell_type": "code",
      "metadata": {
        "id": "gx-ikaozOW06",
        "colab_type": "code",
        "colab": {}
      },
      "source": [
        ""
      ],
      "execution_count": 0,
      "outputs": []
    },
    {
      "cell_type": "markdown",
      "metadata": {
        "id": "eFR-WP2Kw0XZ",
        "colab_type": "text"
      },
      "source": [
        "### Challenge 3\n",
        "\n",
        "### Description of the exercise:\n",
        "- If your code seems to work thus far, copy and paste the code of challenge #1 in the cell below\n",
        "- Below your code, add another function to the class called 'minimum_balance', that checks if the bank account of the user has at least 0 in his/her bank account\n",
        "- If the user has at least 0 in his/her bank account, return \"Enough credit\"\n",
        "- If the user has less than 0 in his/her bank account, return \"Not enough credit\"\n",
        "- Finally, define Bank account c, that has a balance of 12 and print the result of testing if bank account 'c' has at least the minimum balance in its account\n",
        "- If you have done this succesfully, we recommend changing the 'minimum_balance' value and the value in accont c and play around with your new function! "
      ]
    },
    {
      "cell_type": "code",
      "metadata": {
        "id": "PXAvLqfZOXa2",
        "colab_type": "code",
        "colab": {}
      },
      "source": [
        ""
      ],
      "execution_count": 0,
      "outputs": []
    },
    {
      "cell_type": "markdown",
      "metadata": {
        "id": "q44snO_FKWLM",
        "colab_type": "text"
      },
      "source": [
        "### Creative Challenge 4 \n",
        "\n",
        "Here you can create any type of class you want! \n",
        "The only criteria are that your class needs is use;\n",
        "- one parent class\n",
        "- two child classes\n",
        "- 4 attributes\n",
        "- 3 methods\n",
        "- inheritance\n",
        "\n",
        "\n",
        "Be creative! Try to think of a good use case of OOP.\n",
        "\n"
      ]
    },
    {
      "cell_type": "code",
      "metadata": {
        "id": "aXqzeku3OYDo",
        "colab_type": "code",
        "colab": {}
      },
      "source": [
        ""
      ],
      "execution_count": 0,
      "outputs": []
    },
    {
      "cell_type": "markdown",
      "metadata": {
        "id": "IPkkxC5ucsiJ",
        "colab_type": "text"
      },
      "source": [
        "###Resources / More info\n",
        "\n",
        "- [Datacamp OOP article]( https://www.datacamp.com/community/tutorials/python-oop-tutorial)\n",
        "- [Another good OOP article with examples](https://www.digitalocean.com/community/tutorials/how-to-construct-classes-and-define-objects-in-python-3)\n",
        "\n",
        " - [Datacamp article on functions](https://www.datacamp.com/community/tutorials/functions-python-tutorial)\n",
        "\n",
        "\n"
      ]
    }
  ]
}