{
  "nbformat": 4,
  "nbformat_minor": 0,
  "metadata": {
    "colab": {
      "name": "Session_2.ipynb",
      "provenance": [],
      "collapsed_sections": []
    },
    "kernelspec": {
      "name": "python3",
      "display_name": "Python 3"
    }
  },
  "cells": [
    {
      "cell_type": "markdown",
      "metadata": {
        "id": "ZvPPqgEijDnJ",
        "colab_type": "text"
      },
      "source": [
        "#Week 1\n",
        "##Session 2\n",
        "\n",
        "###Welcome to the second session of the Python for datascience bootcamp. During this session we will continue on our path to learn Python and get familar with data science.\n",
        "\n",
        "###Outline:\n",
        "\n",
        "- Recap Session 1\n",
        "- Lists and Tuples\n",
        "- Loops\n",
        "- List comprehensions\n",
        "- In-class project\n",
        "\n",
        "###Challenges\n",
        "- 3 Challenges, Vacation costs calculator\n",
        "\n",
        "![alt_text](https://i.pinimg.com/originals/19/89/1b/19891b1eb9c47b70b739e06b20ba83cd.jpg)"
      ]
    },
    {
      "cell_type": "markdown",
      "metadata": {
        "id": "C-CBrd6haLmC",
        "colab_type": "text"
      },
      "source": [
        "##Recap Session 1\n",
        "####Now, we will quickly go through some of the most important things we learned during the last session in order to make sure everyone remembers the problems we can solve with Python up to now."
      ]
    },
    {
      "cell_type": "markdown",
      "metadata": {
        "id": "TIwO2x7VN4Wi",
        "colab_type": "text"
      },
      "source": [
        "\n",
        "\n",
        "In Python, you will deal with different *data types*, a category for values. \n",
        "These are a few common data types;\n",
        "\n",
        "\n",
        "---\n",
        "\n",
        "\n",
        ">Data type | Examples\n",
        ">--- | ---\n",
        ">Integers | -2, -1, 0, 1, 2, 3, 4, 5\n",
        ">Floating-point numbers | -1.25, -1.0, --0.5, 0.0, 0.5, 1.0, 1.25\n",
        "> Strings | 'a', 'aa', 'aaa', 'Hello!', '11 cats'\n",
        "​\n",
        "​\n",
        "\n",
        "---\n",
        "\n",
        "\n",
        "It is often useful to store a data type, like an integer, in a box. Then we can save it and use it later on.\n",
        "We call boxes where we can store information in a **variable**.\n",
        "​\n",
        "A variable is created when you assign a value to it. Below we assign julie to name. You can think of this as storing julie in a box, called name.\n",
        "​\n",
        "We can store strings but also numbers in a variable. \n",
        "​\n",
        "Watch [this](https://www.youtube.com/watch?v=Z1Yd7upQsXY) video on variables at home! \n",
        "​\n",
        "​\n",
        "\n",
        "\n",
        "![alt text](https://mozilla.github.io/webmaker-curriculum/QuackingJavascript/images/boxes_variables_arrow.png)"
      ]
    },
    {
      "cell_type": "code",
      "metadata": {
        "id": "cAHFNGrsN6X1",
        "colab_type": "code",
        "colab": {}
      },
      "source": [
        "# Recap of strings and how they can be assigned to variables as well\n",
        "greeting = 'Hello'\n",
        "name = 'Bob'"
      ],
      "execution_count": 0,
      "outputs": []
    },
    {
      "cell_type": "code",
      "metadata": {
        "id": "Q7PqWCSzqD3p",
        "colab_type": "code",
        "outputId": "b293b8f8-7873-4090-e1d4-9dcd17ea99c6",
        "colab": {
          "base_uri": "https://localhost:8080/",
          "height": 35
        }
      },
      "source": [
        "message = greeting + \" \" + name\n",
        "print(message)"
      ],
      "execution_count": 0,
      "outputs": [
        {
          "output_type": "stream",
          "text": [
            "Hello Bob\n"
          ],
          "name": "stdout"
        }
      ]
    },
    {
      "cell_type": "markdown",
      "metadata": {
        "id": "_uprJOVYQx-K",
        "colab_type": "text"
      },
      "source": [
        "## Global vs. Local variables\n",
        "\n",
        "###Global variables\n",
        "In Python, a variable declared outside of the function or in global scope is known as global variable. This means, global variable can be accessed inside or outside of the function.\n",
        "\n",
        "###Local variables\n",
        "A variable declared inside the function's body or in the local scope is known as local variable.\n",
        "\n",
        "\n",
        "The image below clearly shows the difference between calling local and global variables\n",
        "![alt_text](https://www.guru99.com/images/Pythonnew/Python5.3.png)"
      ]
    },
    {
      "cell_type": "code",
      "metadata": {
        "id": "qIc38kLnQyGS",
        "colab_type": "code",
        "outputId": "39ca7805-4dd9-4842-f0a9-363165b95628",
        "colab": {
          "base_uri": "https://localhost:8080/",
          "height": 35
        }
      },
      "source": [
        "# Let's see an example on how a global variable is created in Python.\n",
        "\n",
        "# This function uses global variable s \n",
        "def function():  \n",
        "    print(s)  \n",
        "  \n",
        "# Global scope \n",
        "s = \"I love Python\"\n",
        "function() "
      ],
      "execution_count": 0,
      "outputs": [
        {
          "output_type": "stream",
          "text": [
            "I love Python\n"
          ],
          "name": "stdout"
        }
      ]
    },
    {
      "cell_type": "code",
      "metadata": {
        "id": "knQF7VaHQyNd",
        "colab_type": "code",
        "outputId": "c88f95a8-3192-47af-a543-e37550629ede",
        "colab": {
          "base_uri": "https://localhost:8080/",
          "height": 52
        }
      },
      "source": [
        "# This function has a variable with the same name as s. \n",
        "def function():  \n",
        "    s = \"Me too.\"\n",
        "    print(s)\n",
        "  \n",
        "# Global scope \n",
        "s = \"I love Python\" \n",
        "function() \n",
        "print(s)"
      ],
      "execution_count": 0,
      "outputs": [
        {
          "output_type": "stream",
          "text": [
            "Me too.\n",
            "I love Python\n"
          ],
          "name": "stdout"
        }
      ]
    },
    {
      "cell_type": "markdown",
      "metadata": {
        "id": "WTaX0saKQyUa",
        "colab_type": "text"
      },
      "source": [
        "####Any variable which is changed or created inside of a function is local, if it hasn’t been declared as a global variable. To tell Python, that we want to use the global variable, we have to use the keyword “global”, as can be seen in the following example:"
      ]
    },
    {
      "cell_type": "code",
      "metadata": {
        "id": "JjXrmkjaQynI",
        "colab_type": "code",
        "outputId": "a2f42a4e-1ad5-441f-be28-37e594d12917",
        "colab": {
          "base_uri": "https://localhost:8080/",
          "height": 69
        }
      },
      "source": [
        "# This function modifies global variable 's' \n",
        "def function(): \n",
        "    global s \n",
        "    print(s) \n",
        "    s = \"Python is alright\"\n",
        "    print(s)  \n",
        "  \n",
        "# Global Scope \n",
        "s = \"Python is great!\" \n",
        "function() \n",
        "print(s)"
      ],
      "execution_count": 0,
      "outputs": [
        {
          "output_type": "stream",
          "text": [
            "Python is great!\n",
            "Python is alright\n",
            "Python is alright\n"
          ],
          "name": "stdout"
        }
      ]
    },
    {
      "cell_type": "markdown",
      "metadata": {
        "id": "ZFz8H4tMN6Tm",
        "colab_type": "text"
      },
      "source": [
        "### Strings\n",
        "\n",
        "We have seen that strings in pythons are surrounded with either single (' ') or double (\" \") quotation marks, and can be displayed using the `print` statement. \n",
        "\n",
        "[This](https://www.youtube.com/watch?v=k9TUPpGqYTo&list=PL-osiE80TeTskrapNbzXhwoFUiLCjGgY7&index=2) video explains the concepts of string formatting really well.\n",
        "\n",
        "Now we will check out a few things we can do with strings in Python."
      ]
    },
    {
      "cell_type": "code",
      "metadata": {
        "id": "XYbZw6SjO9x7",
        "colab_type": "code",
        "colab": {}
      },
      "source": [
        "# we will create a string variable\n",
        "city = 'Rotterdam'"
      ],
      "execution_count": 0,
      "outputs": []
    },
    {
      "cell_type": "code",
      "metadata": {
        "id": "TCZlFS4mN6LM",
        "colab_type": "code",
        "outputId": "ce644450-7703-46ee-ee16-eaec1fe2b318",
        "colab": {
          "base_uri": "https://localhost:8080/",
          "height": 35
        }
      },
      "source": [
        "# We can select and print a part of our string (a substring)\n",
        "print(city[0:3])"
      ],
      "execution_count": 0,
      "outputs": [
        {
          "output_type": "stream",
          "text": [
            "Rot\n"
          ],
          "name": "stdout"
        }
      ]
    },
    {
      "cell_type": "code",
      "metadata": {
        "id": "kVQbH-tZN6Gz",
        "colab_type": "code",
        "outputId": "e88af783-43c9-44f3-8938-1ad642e9c31e",
        "colab": {
          "base_uri": "https://localhost:8080/",
          "height": 35
        }
      },
      "source": [
        "# what is the length of our string?\n",
        "print(len(city))"
      ],
      "execution_count": 0,
      "outputs": [
        {
          "output_type": "stream",
          "text": [
            "9\n"
          ],
          "name": "stdout"
        }
      ]
    },
    {
      "cell_type": "markdown",
      "metadata": {
        "id": "QjqGESgmN5YY",
        "colab_type": "text"
      },
      "source": [
        "### Comparison Operators\n",
        "\n",
        "- we use comparison operators to compare two values\n",
        "- when comparing two values, the output will be a Boolean value (True or False)\n",
        "\n",
        "**Boolean values**. A data type that has one of two possible values, `True or False`. Together they represent the truth values of logic and Boolean algebra  [George Boole](https://en.wikipedia.org/wiki/George_Boole).\n",
        "\n",
        "\n",
        "These are the comparison operators\n",
        "\n",
        ">Operator | Meaning\n",
        ">--- | ---\n",
        "> == | equal to\n",
        ">!= | not equal to\n",
        "> < | less than\n",
        "> > | greater than\n",
        "> <= | less than or equal to\n",
        "> >= | greater than or equal to \n"
      ]
    },
    {
      "cell_type": "code",
      "metadata": {
        "id": "GpXEC8_7N4Q0",
        "colab_type": "code",
        "outputId": "d8ce4651-53ab-4e45-d29c-d33850248fb1",
        "colab": {
          "base_uri": "https://localhost:8080/",
          "height": 35
        }
      },
      "source": [
        "# check if they are equal\n",
        "14 == 14"
      ],
      "execution_count": 0,
      "outputs": [
        {
          "output_type": "execute_result",
          "data": {
            "text/plain": [
              "True"
            ]
          },
          "metadata": {
            "tags": []
          },
          "execution_count": 7
        }
      ]
    },
    {
      "cell_type": "code",
      "metadata": {
        "id": "2u5ganRkN4Ij",
        "colab_type": "code",
        "outputId": "1ef12c5b-37a3-4192-e70e-82a64bb1aca7",
        "colab": {
          "base_uri": "https://localhost:8080/",
          "height": 35
        }
      },
      "source": [
        "17 == 42"
      ],
      "execution_count": 0,
      "outputs": [
        {
          "output_type": "execute_result",
          "data": {
            "text/plain": [
              "False"
            ]
          },
          "metadata": {
            "tags": []
          },
          "execution_count": 8
        }
      ]
    },
    {
      "cell_type": "code",
      "metadata": {
        "id": "nDQjMAgON3_5",
        "colab_type": "code",
        "outputId": "3c026cb6-62eb-4bc3-a9ff-48cf4a35a67c",
        "colab": {
          "base_uri": "https://localhost:8080/",
          "height": 35
        }
      },
      "source": [
        "# we can also do this for strings!\n",
        "'Erasmus' == 'Erasmus' "
      ],
      "execution_count": 0,
      "outputs": [
        {
          "output_type": "execute_result",
          "data": {
            "text/plain": [
              "True"
            ]
          },
          "metadata": {
            "tags": []
          },
          "execution_count": 9
        }
      ]
    },
    {
      "cell_type": "markdown",
      "metadata": {
        "id": "qHjZIEBnN3uD",
        "colab_type": "text"
      },
      "source": [
        "#### Be careful!\n",
        "\n",
        "- the `=` operator is for assignment, it puts the value on the right into the variable on the left. \n",
        "- the `==` operator compares 2 values, essentially checks if they are the same\n"
      ]
    },
    {
      "cell_type": "markdown",
      "metadata": {
        "id": "7vEd2CyDN3qb",
        "colab_type": "text"
      },
      "source": [
        "### Boolean Operators\n",
        "​\n",
        "​\n",
        "​\n",
        "![alt text](http://www.emcu.it/Python/Immagini/LogicalOperators.png)\n",
        "​\n",
        "​\n",
        "​\n",
        "this video (7 min) explains [boolean operators](https://www.youtube.com/watch?v=CI7LN3Gr2y4) well"
      ]
    },
    {
      "cell_type": "code",
      "metadata": {
        "id": "8c9qsVFYN3Mg",
        "colab_type": "code",
        "outputId": "4fe48ee6-61a2-4b7a-d158-33a675ce43ec",
        "colab": {
          "base_uri": "https://localhost:8080/",
          "height": 35
        }
      },
      "source": [
        "# we can combine math operators and boolean operators\n",
        "\n",
        "(4 < 5) and (5 < 6)\n",
        "# End of Recap and Start of new content"
      ],
      "execution_count": 0,
      "outputs": [
        {
          "output_type": "execute_result",
          "data": {
            "text/plain": [
              "True"
            ]
          },
          "metadata": {
            "tags": []
          },
          "execution_count": 10
        }
      ]
    },
    {
      "cell_type": "markdown",
      "metadata": {
        "id": "93ggP4SpN3H4",
        "colab_type": "text"
      },
      "source": [
        "##Lists & Tuples\n",
        "\n",
        "###Lists\n",
        "Lists in Python are used to store collection of heterogeneous items. These are mutable, which means that you can change their content without changing their identity. You can recognize lists by their square brackets and that hold elements, separated by a comma.\n",
        "\n",
        "###Tuples\n",
        "Tuples are another standard sequence data type. The difference between tuples and lists is that tuples are immutable, which means once defined you cannot delete, add or edit any values inside it. This might be useful in situations where you might to pass the control to someone else but you do not want them to manipulate data in your collection, but rather maybe just see them or perform operations separately in a copy of the data.\n",
        "\n",
        ">Lists | Tuples\n",
        ">--- | ---\n",
        ">Values can be altered | Values cannot be altered\n",
        ">Have square brackets | Often have round brackets or no brackets at all\n",
        "​\n",
        "\n",
        "####In short --> Lists can be altered, tuples cannot be altered. So, once a tuple is defined, we can no longer modify it. The syntax determines whether we have a tuple or a list.\n",
        "\n",
        "Watch [this](https://www.youtube.com/watch?v=RVXIBZvg-W8) video (6 min) about the differences between Tuples & Lists."
      ]
    },
    {
      "cell_type": "code",
      "metadata": {
        "id": "kYMT0jFBN3Bu",
        "colab_type": "code",
        "colab": {}
      },
      "source": [
        "#Here are some examples of tuples & lists\n",
        "tuple1 = 5, 6, 2, 6\n",
        "tuple2 = (5, 6, 2, 6)\n",
        "list1 = [5,6,2,6]"
      ],
      "execution_count": 0,
      "outputs": []
    },
    {
      "cell_type": "code",
      "metadata": {
        "id": "93PDXcoWRBv1",
        "colab_type": "code",
        "outputId": "906faf83-9801-4f95-d59e-7c0df28ac0ea",
        "colab": {
          "base_uri": "https://localhost:8080/",
          "height": 34
        }
      },
      "source": [
        "#We can also print lists in the same way as we printed stuff earlier\n",
        "xlist = [3, 5, 6]\n",
        "print (xlist)"
      ],
      "execution_count": 0,
      "outputs": [
        {
          "output_type": "stream",
          "text": [
            "[3, 5, 6]\n"
          ],
          "name": "stdout"
        }
      ]
    },
    {
      "cell_type": "code",
      "metadata": {
        "id": "2HhUKqIzR5Xz",
        "colab_type": "code",
        "outputId": "16188815-e4a3-43f9-e4ee-37ea99d40d8f",
        "colab": {
          "base_uri": "https://localhost:8080/",
          "height": 34
        }
      },
      "source": [
        "#Or print an item of our list\n",
        "print(xlist[0:2])"
      ],
      "execution_count": 0,
      "outputs": [
        {
          "output_type": "stream",
          "text": [
            "[3, 5]\n"
          ],
          "name": "stdout"
        }
      ]
    },
    {
      "cell_type": "code",
      "metadata": {
        "id": "zo7OVJwwRCCr",
        "colab_type": "code",
        "outputId": "3a8eb9e3-17a9-4b94-d4b0-05a2e53857ed",
        "colab": {
          "base_uri": "https://localhost:8080/",
          "height": 34
        }
      },
      "source": [
        "#We can add an item to our list as well\n",
        "xlist.append([10,3,5])\n",
        "print(xlist)"
      ],
      "execution_count": 0,
      "outputs": [
        {
          "output_type": "stream",
          "text": [
            "[3, 5, 6, 10, [10, 3, 5]]\n"
          ],
          "name": "stdout"
        }
      ]
    },
    {
      "cell_type": "code",
      "metadata": {
        "id": "wxedNYRVN2gP",
        "colab_type": "code",
        "outputId": "96f35acf-1f72-4f85-ba37-df47ca1414ad",
        "colab": {
          "base_uri": "https://localhost:8080/",
          "height": 34
        }
      },
      "source": [
        "#Now we will create a new list and print it\n",
        "ylist = [7, 4, 1, 9]\n",
        "print(ylist)"
      ],
      "execution_count": 0,
      "outputs": [
        {
          "output_type": "stream",
          "text": [
            "[7, 4, 1, 9]\n"
          ],
          "name": "stdout"
        }
      ]
    },
    {
      "cell_type": "code",
      "metadata": {
        "id": "6mwmIO1lQg1U",
        "colab_type": "code",
        "outputId": "e61ff7f0-5557-4639-a0c0-d40667f63373",
        "colab": {
          "base_uri": "https://localhost:8080/",
          "height": 34
        }
      },
      "source": [
        "#Let's see what happens when we add our lists together in a new variable and print the result:\n",
        "largelist = xlist + ylist\n",
        "print(largelist)"
      ],
      "execution_count": 0,
      "outputs": [
        {
          "output_type": "stream",
          "text": [
            "[3, 5, 6, 10, [10, 3, 5], 7, 4, 1, 9]\n"
          ],
          "name": "stdout"
        }
      ]
    },
    {
      "cell_type": "code",
      "metadata": {
        "id": "FGqP52RvQhAy",
        "colab_type": "code",
        "outputId": "3209de8c-e845-4843-be55-99ed0a2219c7",
        "colab": {
          "base_uri": "https://localhost:8080/",
          "height": 34
        }
      },
      "source": [
        "#It is also possible to check if certain values are present in a list:\n",
        "#These simple tests can be very useful when analysing data\n",
        "1 in largelist"
      ],
      "execution_count": 0,
      "outputs": [
        {
          "output_type": "execute_result",
          "data": {
            "text/plain": [
              "True"
            ]
          },
          "metadata": {
            "tags": []
          },
          "execution_count": 10
        }
      ]
    },
    {
      "cell_type": "code",
      "metadata": {
        "id": "1H8WSgerQhFJ",
        "colab_type": "code",
        "outputId": "4149bb29-cea9-420c-e0a0-6d21ea3a0ba3",
        "colab": {
          "base_uri": "https://localhost:8080/",
          "height": 34
        }
      },
      "source": [
        "2 in largelist"
      ],
      "execution_count": 0,
      "outputs": [
        {
          "output_type": "execute_result",
          "data": {
            "text/plain": [
              "False"
            ]
          },
          "metadata": {
            "tags": []
          },
          "execution_count": 11
        }
      ]
    },
    {
      "cell_type": "markdown",
      "metadata": {
        "id": "61xtrzpSQhIt",
        "colab_type": "text"
      },
      "source": [
        "###Tuples can be used when you are sure you do not want to change your data\n",
        "###Lists can be used when you want to eventually modify your data"
      ]
    },
    {
      "cell_type": "code",
      "metadata": {
        "id": "AQ8NE0uZQhPD",
        "colab_type": "code",
        "outputId": "43b0ee8e-2e28-4c05-b374-2112689ec10a",
        "colab": {
          "base_uri": "https://localhost:8080/",
          "height": 34
        }
      },
      "source": [
        "old_list = [1,2,3,4]\n",
        "print(old_list)"
      ],
      "execution_count": 0,
      "outputs": [
        {
          "output_type": "stream",
          "text": [
            "[1, 2, 3, 4]\n"
          ],
          "name": "stdout"
        }
      ]
    },
    {
      "cell_type": "code",
      "metadata": {
        "id": "xun27rMSQhSk",
        "colab_type": "code",
        "outputId": "e4fce2f0-405b-4b3d-eebb-6b88e7880f65",
        "colab": {
          "base_uri": "https://localhost:8080/",
          "height": 34
        }
      },
      "source": [
        "#Now you will see how you can print a list without first defining the list\n",
        "new_list = list(range(1,5))\n",
        "print(new_list)"
      ],
      "execution_count": 0,
      "outputs": [
        {
          "output_type": "stream",
          "text": [
            "[1, 2, 3, 4]\n"
          ],
          "name": "stdout"
        }
      ]
    },
    {
      "cell_type": "markdown",
      "metadata": {
        "id": "VurFVQlGRCDn",
        "colab_type": "text"
      },
      "source": [
        "##Dictionaries\n",
        "####A dictionary is a collection which is unordered, changeable and indexed. In Python dictionaries are written with curly brackets. While other compound data types have only value as an element, a dictionary has a key: value pair. Simply put, you can use a dictionary to match values with a key to show relationships within your data.\n",
        "\n",
        "Each key is separated from its value by a colon (:), the items are separated by commas, and the whole thing is enclosed in curly braces. An empty dictionary without any items is written with just two curly braces, like this: {}.\n",
        "\n",
        "Keys are unique within a dictionary while values may not be. The values of a dictionary can be of any type, but the keys must be of an immutable data type such as strings, numbers, or tuples.\n",
        "\n",
        "![alt_text](http://www.trytoprogram.com/images/python_dictionary.jpg)\n",
        "\n",
        "\n",
        "[This video (10 min)](https://www.youtube.com/watch?v=daefaLgNkw0) will teach you about the basics of dictonaries and how you can alter them in Python\n"
      ]
    },
    {
      "cell_type": "code",
      "metadata": {
        "id": "H4eJY8HQRCIH",
        "colab_type": "code",
        "outputId": "8f56b277-7d88-45d2-c3e3-9d335eff52af",
        "colab": {
          "base_uri": "https://localhost:8080/",
          "height": 34
        }
      },
      "source": [
        "# Here we create and print a dictionary:\n",
        "dictionary_example =\t{ \"brand\": \"Ford\", \"model\": \"Mustang\", \"year\": 1964 }\n",
        "print(dictionary_example)"
      ],
      "execution_count": 0,
      "outputs": [
        {
          "output_type": "stream",
          "text": [
            "{'brand': 'Ford', 'model': 'Mustang', 'year': 1964}\n"
          ],
          "name": "stdout"
        }
      ]
    },
    {
      "cell_type": "code",
      "metadata": {
        "id": "VDikeVFeRCMW",
        "colab_type": "code",
        "outputId": "4ae09dca-d8ef-4992-b940-1947c8f21e39",
        "colab": {
          "base_uri": "https://localhost:8080/",
          "height": 51
        }
      },
      "source": [
        "# Next, we can display the value of the 'model' key\n",
        "x = dictionary_example[\"model\"]\n",
        "print(x)\n",
        "\n",
        "dictionary_example.values()"
      ],
      "execution_count": 0,
      "outputs": [
        {
          "output_type": "stream",
          "text": [
            "Mustang\n"
          ],
          "name": "stdout"
        },
        {
          "output_type": "execute_result",
          "data": {
            "text/plain": [
              "dict_values(['Ford', 'Mustang', 1964])"
            ]
          },
          "metadata": {
            "tags": []
          },
          "execution_count": 18
        }
      ]
    },
    {
      "cell_type": "code",
      "metadata": {
        "id": "OM9o0RDzRG-N",
        "colab_type": "code",
        "outputId": "3640ca50-f7d8-458b-aef5-96ba309d0324",
        "colab": {
          "base_uri": "https://localhost:8080/",
          "height": 34
        }
      },
      "source": [
        "# Now we will alter the dictionary\n",
        "# We will set the year of the car equal to 2018 and print out tge whole dictionary to view our changes\n",
        "\n",
        "dictionary_example[\"brand\"] = \"Audi\"\n",
        "print(dictionary_example)"
      ],
      "execution_count": 0,
      "outputs": [
        {
          "output_type": "stream",
          "text": [
            "{'brand': 'Audi', 'model': 'Mustang', 'year': 2018}\n"
          ],
          "name": "stdout"
        }
      ]
    },
    {
      "cell_type": "markdown",
      "metadata": {
        "id": "L7I0YXkNRCQu",
        "colab_type": "text"
      },
      "source": [
        "####We can loop through a dictionary by using a for loop.\n",
        "\n",
        "When looping through a dictionary, the return value are the keys of the dictionary, but there are methods to return the values as well."
      ]
    },
    {
      "cell_type": "code",
      "metadata": {
        "id": "D_lRPp4-RCcp",
        "colab_type": "code",
        "outputId": "f04d574d-4ccb-45fa-b67b-696dd9fe715f",
        "colab": {
          "base_uri": "https://localhost:8080/",
          "height": 68
        }
      },
      "source": [
        "# Here we print all key names in the dictionary, one by one:\n",
        "\n",
        "for x in dictionary_example:\n",
        "  print(x)"
      ],
      "execution_count": 0,
      "outputs": [
        {
          "output_type": "stream",
          "text": [
            "brand\n",
            "model\n",
            "year\n"
          ],
          "name": "stdout"
        }
      ]
    },
    {
      "cell_type": "code",
      "metadata": {
        "id": "eQfEy9L6RCiX",
        "colab_type": "code",
        "outputId": "31a6b832-9a9f-4a84-d532-6a4ad92a2ae7",
        "colab": {
          "base_uri": "https://localhost:8080/",
          "height": 68
        }
      },
      "source": [
        "# Now we print out all values in the dictionary, one by one:\n",
        "for x in dictionary_example:\n",
        "  print(dictionary_example[x])"
      ],
      "execution_count": 0,
      "outputs": [
        {
          "output_type": "stream",
          "text": [
            "Audi\n",
            "Mustang\n",
            "2018\n"
          ],
          "name": "stdout"
        }
      ]
    },
    {
      "cell_type": "code",
      "metadata": {
        "id": "pg1QFh_cRCY6",
        "colab_type": "code",
        "outputId": "cf3ebf1d-0011-4d93-f746-193759ab00e5",
        "colab": {
          "base_uri": "https://localhost:8080/",
          "height": 69
        }
      },
      "source": [
        "# You can loop through both keys and values, by using the items() function:\n",
        "\n",
        "for x, y in dictionary_example.items():\n",
        "  print(x, y)"
      ],
      "execution_count": 0,
      "outputs": [
        {
          "output_type": "stream",
          "text": [
            "brand Ford\n",
            "model Mustang\n",
            "year 2018\n"
          ],
          "name": "stdout"
        }
      ]
    },
    {
      "cell_type": "code",
      "metadata": {
        "id": "2Rm8CSkoRCWU",
        "colab_type": "code",
        "outputId": "9b25f277-3422-46ff-bda5-641e67da44e6",
        "colab": {
          "base_uri": "https://localhost:8080/",
          "height": 35
        }
      },
      "source": [
        "# There are also ways to add keys and values to our dictionary:\n",
        "\n",
        "dictionary_example[\"color\"] = \"red\"\n",
        "print(dictionary_example)"
      ],
      "execution_count": 0,
      "outputs": [
        {
          "output_type": "stream",
          "text": [
            "{'brand': 'Ford', 'model': 'Mustang', 'year': 2018, 'color': 'red'}\n"
          ],
          "name": "stdout"
        }
      ]
    },
    {
      "cell_type": "code",
      "metadata": {
        "id": "w_7pX_N7ROEf",
        "colab_type": "code",
        "outputId": "85ab713c-a18c-4f33-dbd2-5b3d013d54a6",
        "colab": {
          "base_uri": "https://localhost:8080/",
          "height": 35
        }
      },
      "source": [
        "# Finally, we can also remove values from our dictionary\n",
        "\n",
        "del dictionary_example[\"model\"]\n",
        "print(dictionary_example)"
      ],
      "execution_count": 0,
      "outputs": [
        {
          "output_type": "stream",
          "text": [
            "{'brand': 'Ford', 'year': 2018, 'color': 'red'}\n"
          ],
          "name": "stdout"
        }
      ]
    },
    {
      "cell_type": "markdown",
      "metadata": {
        "id": "LMYnOwg8QhYD",
        "colab_type": "text"
      },
      "source": [
        "\n",
        "##LOOPS\n",
        "###below we will create the list we want to loop through:"
      ]
    },
    {
      "cell_type": "code",
      "metadata": {
        "id": "8P1vPmNHQhbm",
        "colab_type": "code",
        "colab": {}
      },
      "source": [
        "fruits = ['apple', 'banana', 'cherry']"
      ],
      "execution_count": 0,
      "outputs": []
    },
    {
      "cell_type": "markdown",
      "metadata": {
        "id": "karhXxdzQhe4",
        "colab_type": "text"
      },
      "source": [
        "###Our goal:\n",
        "####To print every item in our fruits list.\n",
        "First we will try the hard way:\n",
        "\n"
      ]
    },
    {
      "cell_type": "code",
      "metadata": {
        "id": "fofVz1VUQjnQ",
        "colab_type": "code",
        "outputId": "72075a17-4843-471c-c1d0-b6fa125813c5",
        "colab": {
          "base_uri": "https://localhost:8080/",
          "height": 34
        }
      },
      "source": [
        "print(fruits[0])"
      ],
      "execution_count": 0,
      "outputs": [
        {
          "output_type": "stream",
          "text": [
            "apple\n"
          ],
          "name": "stdout"
        }
      ]
    },
    {
      "cell_type": "code",
      "metadata": {
        "id": "DjvJd760Qjwg",
        "colab_type": "code",
        "outputId": "c983d87c-7299-43dd-b110-d5fd922971ff",
        "colab": {
          "base_uri": "https://localhost:8080/",
          "height": 34
        }
      },
      "source": [
        "print(fruits[1])"
      ],
      "execution_count": 0,
      "outputs": [
        {
          "output_type": "stream",
          "text": [
            "banana\n"
          ],
          "name": "stdout"
        }
      ]
    },
    {
      "cell_type": "code",
      "metadata": {
        "id": "Tq0MU-HXQj7-",
        "colab_type": "code",
        "outputId": "5381d959-21db-4d89-fd2d-426c8863b427",
        "colab": {
          "base_uri": "https://localhost:8080/",
          "height": 34
        }
      },
      "source": [
        "print(fruits[2])"
      ],
      "execution_count": 0,
      "outputs": [
        {
          "output_type": "stream",
          "text": [
            "cherry\n"
          ],
          "name": "stdout"
        }
      ]
    },
    {
      "cell_type": "markdown",
      "metadata": {
        "id": "K4bmFE0bQkCg",
        "colab_type": "text"
      },
      "source": [
        "###The easy way is to create a so called 'for' loop. Then we will 'loop' through the function and make something will happen 'for' every relevant value in our funtion. For example, you may want to print out each character in the word 'oxygen'. This is the intuition behind an approach that includes a for loop to print out each character in a word: \n",
        "\n",
        "\n",
        "![alt text](https://swcarpentry.github.io/python-novice-inflammation/fig/loops_image.png)\n",
        "\n",
        "\n",
        "###If you want to learn more about for loops [This](https://www.youtube.com/watch?v=9LgyKiq_hU0) tutorial (10 min) gives some more explanation about how to interpret for loops. "
      ]
    },
    {
      "cell_type": "code",
      "metadata": {
        "id": "oSQMXthg99Jr",
        "colab_type": "code",
        "outputId": "2af54fce-6289-43ec-aff8-041744ac6e86",
        "colab": {
          "base_uri": "https://localhost:8080/",
          "height": 119
        }
      },
      "source": [
        "word = 'oxygen'\n",
        "\n",
        "for i in word:\n",
        "  print(i)"
      ],
      "execution_count": 0,
      "outputs": [
        {
          "output_type": "stream",
          "text": [
            "o\n",
            "x\n",
            "y\n",
            "g\n",
            "e\n",
            "n\n"
          ],
          "name": "stdout"
        }
      ]
    },
    {
      "cell_type": "code",
      "metadata": {
        "id": "p_K2V5YkQkd4",
        "colab_type": "code",
        "outputId": "03239a2e-be78-4ab2-eaee-91be4716d0ef",
        "colab": {
          "base_uri": "https://localhost:8080/",
          "height": 68
        }
      },
      "source": [
        "#Below, we want to print out each element in our list 'fruits':\n",
        "for element in fruits:\n",
        "    print(element)"
      ],
      "execution_count": 0,
      "outputs": [
        {
          "output_type": "stream",
          "text": [
            "apple\n",
            "banana\n",
            "cherry\n"
          ],
          "name": "stdout"
        }
      ]
    },
    {
      "cell_type": "code",
      "metadata": {
        "id": "KpLvtkWAwZvN",
        "colab_type": "code",
        "outputId": "7872218d-d89e-43c0-aaba-791f854ccb14",
        "colab": {
          "base_uri": "https://localhost:8080/",
          "height": 68
        }
      },
      "source": [
        "#'element' can also be written as 'i' (This is the most popular way to loop through each element)\n",
        "#But, note that 'i' can be anything you want.\n",
        "#Try it yourself, substitute 'i' for a random piece of text and check if you get the same result\n",
        "for i in fruits:\n",
        "    print(i)"
      ],
      "execution_count": 0,
      "outputs": [
        {
          "output_type": "stream",
          "text": [
            "apple\n",
            "banana\n",
            "cherry\n"
          ],
          "name": "stdout"
        }
      ]
    },
    {
      "cell_type": "code",
      "metadata": {
        "id": "TWsVzEPXWKP3",
        "colab_type": "code",
        "outputId": "9ebdd344-be1e-430e-ed30-de6c472773ad",
        "colab": {
          "base_uri": "https://localhost:8080/",
          "height": 87
        }
      },
      "source": [
        "xlist = [1, 2, 3 ,4]\n",
        "for i in xlist:\n",
        "    print(i)"
      ],
      "execution_count": 0,
      "outputs": [
        {
          "output_type": "stream",
          "text": [
            "1\n",
            "2\n",
            "3\n",
            "4\n"
          ],
          "name": "stdout"
        }
      ]
    },
    {
      "cell_type": "code",
      "metadata": {
        "id": "liatlEIuWKbR",
        "colab_type": "code",
        "outputId": "f77af409-9c62-4b2a-fc30-13cede4b38ee",
        "colab": {
          "base_uri": "https://localhost:8080/",
          "height": 85
        }
      },
      "source": [
        "n=5\n",
        "\n",
        "for i in range(1,n):\n",
        "    i += 1\n",
        "    print(i)"
      ],
      "execution_count": 0,
      "outputs": [
        {
          "output_type": "stream",
          "text": [
            "2\n",
            "3\n",
            "4\n",
            "5\n"
          ],
          "name": "stdout"
        }
      ]
    },
    {
      "cell_type": "markdown",
      "metadata": {
        "id": "4vJe9ibY9U-c",
        "colab_type": "text"
      },
      "source": [
        "##In-class exercise:\n",
        "- Start by creating a variable called sum_range and set it equal to zero\n",
        "- Write a for loop that defines a list of the numbers 1 until 4\n",
        "- Within the for loop, let the value of sum_range increase for each element within the range of the list you just created \n",
        "- Finally, print the value of sum_range\n"
      ]
    },
    {
      "cell_type": "code",
      "metadata": {
        "id": "hKYGMoafxA-j",
        "colab_type": "code",
        "colab": {}
      },
      "source": [
        ""
      ],
      "execution_count": 0,
      "outputs": []
    },
    {
      "cell_type": "markdown",
      "metadata": {
        "id": "cSizM0XPWLDX",
        "colab_type": "text"
      },
      "source": [
        "#Modulo %\n",
        "\n",
        "For our next in-class project we will put the modulo into practice. It seems very simple at first, but do not underestimate how useful this modulo can be in data science. The modulo is very similar to simply dividing a number by another number, except the modulo will give you the remainder of the division. These next examples will illustrate how the modulo can be used in practice"
      ]
    },
    {
      "cell_type": "code",
      "metadata": {
        "id": "yYqlaDDfWK_z",
        "colab_type": "code",
        "outputId": "a02a561f-6334-4bf9-d92c-fa2542b396e6",
        "colab": {
          "base_uri": "https://localhost:8080/",
          "height": 34
        }
      },
      "source": [
        "9 % 3"
      ],
      "execution_count": 0,
      "outputs": [
        {
          "output_type": "execute_result",
          "data": {
            "text/plain": [
              "0"
            ]
          },
          "metadata": {
            "tags": []
          },
          "execution_count": 37
        }
      ]
    },
    {
      "cell_type": "code",
      "metadata": {
        "id": "9TYlFsPaWK8G",
        "colab_type": "code",
        "outputId": "4e59b6bc-083e-43f6-f669-fc2701f029b5",
        "colab": {
          "base_uri": "https://localhost:8080/",
          "height": 34
        }
      },
      "source": [
        "10%3"
      ],
      "execution_count": 0,
      "outputs": [
        {
          "output_type": "execute_result",
          "data": {
            "text/plain": [
              "1"
            ]
          },
          "metadata": {
            "tags": []
          },
          "execution_count": 38
        }
      ]
    },
    {
      "cell_type": "code",
      "metadata": {
        "id": "Q9D4qPN8WK4U",
        "colab_type": "code",
        "outputId": "9db15c5e-3ae7-4c5c-91ef-a6c0de2de690",
        "colab": {
          "base_uri": "https://localhost:8080/",
          "height": 34
        }
      },
      "source": [
        "11%3"
      ],
      "execution_count": 0,
      "outputs": [
        {
          "output_type": "execute_result",
          "data": {
            "text/plain": [
              "2"
            ]
          },
          "metadata": {
            "tags": []
          },
          "execution_count": 39
        }
      ]
    },
    {
      "cell_type": "code",
      "metadata": {
        "id": "f4jA0EqKWK2f",
        "colab_type": "code",
        "outputId": "e5f535e0-17ec-4e8a-b08a-ff4c35bd4602",
        "colab": {
          "base_uri": "https://localhost:8080/",
          "height": 34
        }
      },
      "source": [
        "12%3"
      ],
      "execution_count": 0,
      "outputs": [
        {
          "output_type": "execute_result",
          "data": {
            "text/plain": [
              "0"
            ]
          },
          "metadata": {
            "tags": []
          },
          "execution_count": 40
        }
      ]
    },
    {
      "cell_type": "code",
      "metadata": {
        "id": "7QuwVtKRWKt_",
        "colab_type": "code",
        "outputId": "fc63c814-d8f6-4090-efd7-7a4082fe8226",
        "colab": {
          "base_uri": "https://localhost:8080/",
          "height": 34
        }
      },
      "source": [
        "29%5"
      ],
      "execution_count": 0,
      "outputs": [
        {
          "output_type": "execute_result",
          "data": {
            "text/plain": [
              "4"
            ]
          },
          "metadata": {
            "tags": []
          },
          "execution_count": 41
        }
      ]
    },
    {
      "cell_type": "code",
      "metadata": {
        "id": "VtOBtTGgWKqU",
        "colab_type": "code",
        "outputId": "7ab2c4a9-f4e7-4549-e313-0c9d13653a30",
        "colab": {
          "base_uri": "https://localhost:8080/",
          "height": 34
        }
      },
      "source": [
        "7463584329 % 7"
      ],
      "execution_count": 0,
      "outputs": [
        {
          "output_type": "execute_result",
          "data": {
            "text/plain": [
              "5"
            ]
          },
          "metadata": {
            "tags": []
          },
          "execution_count": 42
        }
      ]
    },
    {
      "cell_type": "code",
      "metadata": {
        "id": "ykYJWhYeWKm0",
        "colab_type": "code",
        "outputId": "9034fb00-71ba-44a9-b9a4-5247ac2cc3ae",
        "colab": {
          "base_uri": "https://localhost:8080/",
          "height": 34
        }
      },
      "source": [
        "7463584324 % 7"
      ],
      "execution_count": 0,
      "outputs": [
        {
          "output_type": "execute_result",
          "data": {
            "text/plain": [
              "0"
            ]
          },
          "metadata": {
            "tags": []
          },
          "execution_count": 43
        }
      ]
    },
    {
      "cell_type": "code",
      "metadata": {
        "id": "cjx61vu1WKkc",
        "colab_type": "code",
        "outputId": "cb875c94-83eb-412d-cc30-54898b89e77f",
        "colab": {
          "base_uri": "https://localhost:8080/",
          "height": 34
        }
      },
      "source": [
        "7463584324 / 7"
      ],
      "execution_count": 0,
      "outputs": [
        {
          "output_type": "execute_result",
          "data": {
            "text/plain": [
              "1066226332.0"
            ]
          },
          "metadata": {
            "tags": []
          },
          "execution_count": 44
        }
      ]
    },
    {
      "cell_type": "markdown",
      "metadata": {
        "id": "2IrbBbOmWKhD",
        "colab_type": "text"
      },
      "source": [
        "#In-class exercise\n",
        "####Find the sum of all multiples of the numbers 5 and 9 that fall in the range of 1 up to and including 200. Double counting is not allowed.\n",
        "####(Hint)-->  If you are stuck, Google is your best friend\n",
        "- Illustration: In the range from 1 up to and including 20. \n",
        "  - The multiples of 5 are: 5, 10, 15 & 20 (sum = 50)\n",
        "  - The multiples of 9 are: 9, 18, 27 (sum = 54)\n",
        " - So the sum of all multiples of the numbers 5 & 9 that are in the range of 1 up to and including 20 is 104 (50 + 54)\n",
        " - Now do the same thing for the range of 1 up to and including 200\n",
        " \n",
        "![alt_text](https://i.pinimg.com/originals/11/b4/20/11b420fbf1595be3056ad6355277933c.jpg)"
      ]
    },
    {
      "cell_type": "code",
      "metadata": {
        "id": "q36K2ItUWKfb",
        "colab_type": "code",
        "colab": {}
      },
      "source": [
        ""
      ],
      "execution_count": 0,
      "outputs": []
    },
    {
      "cell_type": "code",
      "metadata": {
        "id": "hqb4aj1N3PqH",
        "colab_type": "code",
        "colab": {}
      },
      "source": [
        ""
      ],
      "execution_count": 0,
      "outputs": []
    },
    {
      "cell_type": "markdown",
      "metadata": {
        "id": "heg7Mga-WKVS",
        "colab_type": "text"
      },
      "source": [
        "## WHILE LOOPS\n",
        "\n",
        "Also widely used in Python. Intuition --> you use While loops for situations of which you do not know when they will end. For loops are typically used in situation of which you know when they will end.\n",
        "\n",
        "\"It's like using an if statement that you want to happen over-and-over again\"\n",
        "\n",
        "Problem --> Infinite loops that crash your program. \n",
        "\n",
        "The flow chart below illustrates how an eternally truthful statement may lead to an unlimited amount of loops\n",
        "\n",
        "![alt_text](http://4.bp.blogspot.com/-5ZONKPftmOQ/UeBya1b_D0I/AAAAAAAAAFE/ipsgv5bmNK8/s1600/Do+While+Loop+C+(flowchart)"
      ]
    },
    {
      "cell_type": "markdown",
      "metadata": {
        "id": "J8RrUKELvuSm",
        "colab_type": "text"
      },
      "source": [
        "###Problem --> Infinite loops that crash your Program!\n",
        "- If your while loop is not defined properly, it may run forever.\n",
        "- Be sure to let your while loop end at a certain point.\n",
        "- Read [this](https://www.tutorialspoint.com/python/python_while_loop.htm) article that explains loops and how you can avoid crashing your system with an infinte while loop"
      ]
    },
    {
      "cell_type": "code",
      "metadata": {
        "id": "KdcEQk1lYHuw",
        "colab_type": "code",
        "outputId": "f98cb023-8097-4dbe-8f3c-e276dce220a4",
        "colab": {
          "base_uri": "https://localhost:8080/",
          "height": 187
        }
      },
      "source": [
        "#To illustrate how a while loop is used, we will build a countdown loop for a spaceship\n",
        "count = 0\n",
        "while count < 10:\n",
        "    print(count)\n",
        "    count = count +  1"
      ],
      "execution_count": 0,
      "outputs": [
        {
          "output_type": "stream",
          "text": [
            "0\n",
            "1\n",
            "2\n",
            "3\n",
            "4\n",
            "5\n",
            "6\n",
            "7\n",
            "8\n",
            "9\n"
          ],
          "name": "stdout"
        }
      ]
    },
    {
      "cell_type": "code",
      "metadata": {
        "id": "fiS0cRj5YHx0",
        "colab_type": "code",
        "outputId": "431ad129-556a-4816-d482-f7f235a3cc06",
        "colab": {
          "base_uri": "https://localhost:8080/",
          "height": 187
        }
      },
      "source": [
        "count = 0\n",
        "while count < 10:\n",
        "    print(count)\n",
        "    count += 1"
      ],
      "execution_count": 0,
      "outputs": [
        {
          "output_type": "stream",
          "text": [
            "0\n",
            "1\n",
            "2\n",
            "3\n",
            "4\n",
            "5\n",
            "6\n",
            "7\n",
            "8\n",
            "9\n"
          ],
          "name": "stdout"
        }
      ]
    },
    {
      "cell_type": "code",
      "metadata": {
        "id": "NgFvC0EsYH1X",
        "colab_type": "code",
        "outputId": "a67edba7-e021-4926-ec29-62622716cb34",
        "colab": {
          "base_uri": "https://localhost:8080/",
          "height": 208
        }
      },
      "source": [
        "count = 10\n",
        "while count >= 0:\n",
        "    if count == 0:\n",
        "        print (\"Blast off!\")\n",
        "    else:\n",
        "        print(count)\n",
        "    count -= 1\n",
        "              "
      ],
      "execution_count": 0,
      "outputs": [
        {
          "output_type": "stream",
          "text": [
            "10\n",
            "9\n",
            "8\n",
            "7\n",
            "6\n",
            "5\n",
            "4\n",
            "3\n",
            "2\n",
            "1\n",
            "Blast off!\n"
          ],
          "name": "stdout"
        }
      ]
    },
    {
      "cell_type": "markdown",
      "metadata": {
        "id": "yM0s9i6uYH5G",
        "colab_type": "text"
      },
      "source": [
        "##List Comprehensions\n",
        "\n",
        "List comprehensions are a short way of writing for loops and can be very useful when merging or altering datasets for example. \n",
        "\n",
        "We will show a basic example of this below\n",
        "\n",
        "You can also get a head start before we begin and already watch [this](https://www.youtube.com/watch?v=5K08WcjGV6c) tutorial (7 min)."
      ]
    },
    {
      "cell_type": "code",
      "metadata": {
        "id": "D7dacvG6YIHU",
        "colab_type": "code",
        "colab": {}
      },
      "source": [
        "# make a list\n",
        "a = [1, 3, 5, 7, 9, 11]"
      ],
      "execution_count": 0,
      "outputs": []
    },
    {
      "cell_type": "code",
      "metadata": {
        "id": "pa9exhd_YI0U",
        "colab_type": "code",
        "colab": {}
      },
      "source": [
        "b = [2, 6, 10, 14, 18, 22]"
      ],
      "execution_count": 0,
      "outputs": []
    },
    {
      "cell_type": "code",
      "metadata": {
        "id": "Dt_k2fczYI4U",
        "colab_type": "code",
        "outputId": "d3353393-7a70-4df6-97d2-6c8e5dec6acb",
        "colab": {
          "base_uri": "https://localhost:8080/",
          "height": 34
        }
      },
      "source": [
        "# make a list\n",
        "c = []\n",
        "\n",
        "c.append(10)\n",
        "c.append(3)\n",
        "c.append(7)\n",
        "print(c)"
      ],
      "execution_count": 0,
      "outputs": [
        {
          "output_type": "stream",
          "text": [
            "[10, 3, 7]\n"
          ],
          "name": "stdout"
        }
      ]
    },
    {
      "cell_type": "code",
      "metadata": {
        "id": "TLIhwVHKyROY",
        "colab_type": "code",
        "outputId": "2faa388f-2934-4df6-8b8b-ba1baaf1d982",
        "colab": {
          "base_uri": "https://localhost:8080/",
          "height": 35
        }
      },
      "source": [
        "#Whereas, .extend extends the list by appending elements from the iterable.\n",
        "d = [1, 2, 3]\n",
        "d.extend([4, 5])\n",
        "print(d)"
      ],
      "execution_count": 0,
      "outputs": [
        {
          "output_type": "stream",
          "text": [
            "[1, 2, 3, 4, 5]\n"
          ],
          "name": "stdout"
        }
      ]
    },
    {
      "cell_type": "code",
      "metadata": {
        "id": "MFIfo-d_5lWI",
        "colab_type": "code",
        "outputId": "120a22b1-2138-4bf8-b6dd-b9abc956741e",
        "colab": {
          "base_uri": "https://localhost:8080/",
          "height": 51
        }
      },
      "source": [
        "#The difference between the extend and append methods is best illustrated by using them on the same lists:\n",
        "#Note that the append function will lead to a list within a list here!\n",
        "a1 = [1, 'x', 'y']  \n",
        "a2 = [1, 'x', 'y']  \n",
        "\n",
        "b = [2, 3]\n",
        "\n",
        "a1.append(b)   \n",
        "a2.extend(b)\n",
        "\n",
        "print(a1)  \n",
        "print(a2)  "
      ],
      "execution_count": 0,
      "outputs": [
        {
          "output_type": "stream",
          "text": [
            "[1, 'x', 'y', [2, 3]]\n",
            "[1, 'x', 'y', 2, 3]\n"
          ],
          "name": "stdout"
        }
      ]
    },
    {
      "cell_type": "code",
      "metadata": {
        "id": "SENE3UphYI8f",
        "colab_type": "code",
        "outputId": "87ad2802-c5e6-40a8-d75f-7ce7a54d2851",
        "colab": {
          "base_uri": "https://localhost:8080/",
          "height": 51
        }
      },
      "source": [
        "e = []\n",
        "for i in c:\n",
        "    e.append(i * 2)\n",
        "print(e)\n",
        "\n",
        "e = [i * 2 for i in c]\n",
        "print(e)"
      ],
      "execution_count": 0,
      "outputs": [
        {
          "output_type": "stream",
          "text": [
            "[20, 6, 14]\n",
            "[20, 6, 14]\n"
          ],
          "name": "stdout"
        }
      ]
    },
    {
      "cell_type": "code",
      "metadata": {
        "id": "IDez6WUBYJOs",
        "colab_type": "code",
        "outputId": "fd1e4459-0fb5-4790-f4a6-f1f7a8a27d1e",
        "colab": {
          "base_uri": "https://localhost:8080/",
          "height": 33
        }
      },
      "source": [
        "f = [i ** 2 for i in range(1, 7)]\n",
        "print(f)"
      ],
      "execution_count": 0,
      "outputs": [
        {
          "output_type": "stream",
          "text": [
            "[1, 4, 9, 16, 25, 36]\n"
          ],
          "name": "stdout"
        }
      ]
    },
    {
      "cell_type": "code",
      "metadata": {
        "id": "yaacV4cJvsll",
        "colab_type": "code",
        "outputId": "e72ebadf-629d-4959-e5b3-77e82c0b89d6",
        "colab": {
          "base_uri": "https://localhost:8080/",
          "height": 34
        }
      },
      "source": [
        "# Here we create and print a dictionary:\n",
        "\n",
        "dictionary_example =\t{ \"brand\": \"Ford\", \"model\": \"Mustang\", \"year\": 1964 }\n",
        "print(dictionary_example)"
      ],
      "execution_count": 0,
      "outputs": [
        {
          "output_type": "stream",
          "text": [
            "{'brand': 'Ford', 'model': 'Mustang', 'year': 1964}\n"
          ],
          "name": "stdout"
        }
      ]
    },
    {
      "cell_type": "code",
      "metadata": {
        "id": "vtIf0ODbvsy7",
        "colab_type": "code",
        "outputId": "590fc33f-64c3-4476-f6d9-f9f2fbce6aa3",
        "colab": {
          "base_uri": "https://localhost:8080/",
          "height": 34
        }
      },
      "source": [
        "# Next, we can display the value of the 'model' key\n",
        "\n",
        "x = dictionary_example[\"model\"]\n",
        "print(x)"
      ],
      "execution_count": 0,
      "outputs": [
        {
          "output_type": "stream",
          "text": [
            "Mustang\n"
          ],
          "name": "stdout"
        }
      ]
    },
    {
      "cell_type": "code",
      "metadata": {
        "id": "ovmZty33vsww",
        "colab_type": "code",
        "outputId": "941be2b4-d108-495f-d8fa-c75c6fc7efb4",
        "colab": {
          "base_uri": "https://localhost:8080/",
          "height": 34
        }
      },
      "source": [
        "# Now we will alter the dictionary\n",
        "# We will set the year of the car equal to 2018 and print out tge whole dictionary to view our changes\n",
        "\n",
        "dictionary_example[\"year\"] = 2018\n",
        "print(dictionary_example)"
      ],
      "execution_count": 0,
      "outputs": [
        {
          "output_type": "stream",
          "text": [
            "{'brand': 'Ford', 'model': 'Mustang', 'year': 2018}\n"
          ],
          "name": "stdout"
        }
      ]
    },
    {
      "cell_type": "markdown",
      "metadata": {
        "id": "KmYoAo2qvsuU",
        "colab_type": "text"
      },
      "source": [
        "####We can loop through a dictionary by using a for loop.\n",
        "\n",
        "When looping through a dictionary, the return value are the keys of the dictionary, but there are methods to return the values as well."
      ]
    },
    {
      "cell_type": "code",
      "metadata": {
        "id": "sB0l-86Kvsr2",
        "colab_type": "code",
        "outputId": "8f5e196c-661a-4217-ec61-b3c6a41d57a4",
        "colab": {
          "base_uri": "https://localhost:8080/",
          "height": 68
        }
      },
      "source": [
        "# Here we print all key names in the dictionary, one by one:\n",
        "\n",
        "for x in dictionary_example:\n",
        "  print(x)"
      ],
      "execution_count": 0,
      "outputs": [
        {
          "output_type": "stream",
          "text": [
            "brand\n",
            "model\n",
            "year\n"
          ],
          "name": "stdout"
        }
      ]
    },
    {
      "cell_type": "code",
      "metadata": {
        "id": "pxy2RNu2yBFh",
        "colab_type": "code",
        "outputId": "47083120-969e-4213-b9ce-aed01eaf692f",
        "colab": {
          "base_uri": "https://localhost:8080/",
          "height": 68
        }
      },
      "source": [
        "# Now we print out all values in the dictionary, one by one:\n",
        "\n",
        "for x in dictionary_example:\n",
        "  print(dictionary_example[x])"
      ],
      "execution_count": 0,
      "outputs": [
        {
          "output_type": "stream",
          "text": [
            "Ford\n",
            "Mustang\n",
            "2018\n"
          ],
          "name": "stdout"
        }
      ]
    },
    {
      "cell_type": "code",
      "metadata": {
        "id": "KT6su-0VyBMg",
        "colab_type": "code",
        "outputId": "96217ba6-002c-4800-e206-7f8d571bc76a",
        "colab": {
          "base_uri": "https://localhost:8080/",
          "height": 68
        }
      },
      "source": [
        "# You can loop through both keys and values, by using the items() function:\n",
        "\n",
        "for x, y in dictionary_example.items():\n",
        "  print(x, y)"
      ],
      "execution_count": 0,
      "outputs": [
        {
          "output_type": "stream",
          "text": [
            "brand Ford\n",
            "model Mustang\n",
            "year 2018\n"
          ],
          "name": "stdout"
        }
      ]
    },
    {
      "cell_type": "code",
      "metadata": {
        "id": "gb29QoX_yBQY",
        "colab_type": "code",
        "outputId": "105586a9-51d8-425f-f8c3-5e324772bc19",
        "colab": {
          "base_uri": "https://localhost:8080/",
          "height": 34
        }
      },
      "source": [
        "# There are also ways to add keys and values to our dictionary:\n",
        "\n",
        "dictionary_example[\"color\"] = \"red\"\n",
        "print(dictionary_example)"
      ],
      "execution_count": 0,
      "outputs": [
        {
          "output_type": "stream",
          "text": [
            "{'brand': 'Ford', 'model': 'Mustang', 'year': 2018, 'color': 'red'}\n"
          ],
          "name": "stdout"
        }
      ]
    },
    {
      "cell_type": "code",
      "metadata": {
        "id": "m_DLhjAXyBLX",
        "colab_type": "code",
        "outputId": "58037a8b-6d2b-47e0-f361-ec40667c57f7",
        "colab": {
          "base_uri": "https://localhost:8080/",
          "height": 34
        }
      },
      "source": [
        "# Finally, we can also remove values from our dictionary\n",
        "\n",
        "del dictionary_example[\"model\"]\n",
        "print(dictionary_example)"
      ],
      "execution_count": 0,
      "outputs": [
        {
          "output_type": "stream",
          "text": [
            "{'brand': 'Ford', 'year': 2018, 'color': 'red'}\n"
          ],
          "name": "stdout"
        }
      ]
    },
    {
      "cell_type": "code",
      "metadata": {
        "id": "WW0QjEtx0OWL",
        "colab_type": "code",
        "outputId": "37d80b63-5d32-4148-f47d-a57790418d29",
        "colab": {
          "base_uri": "https://localhost:8080/",
          "height": 34
        }
      },
      "source": [
        "# Let's see an example on how a global variable is created in Python.\n",
        "\n",
        "# This function uses global variable s \n",
        "def function():  \n",
        "    print(s)  \n",
        "  \n",
        "# Global scope \n",
        "s = \"I love Python\"\n",
        "function() "
      ],
      "execution_count": 0,
      "outputs": [
        {
          "output_type": "stream",
          "text": [
            "I love Python\n"
          ],
          "name": "stdout"
        }
      ]
    },
    {
      "cell_type": "code",
      "metadata": {
        "id": "glwHjV0v5ho2",
        "colab_type": "code",
        "outputId": "9e0d25e6-5330-4465-f088-cec74a49ca16",
        "colab": {
          "base_uri": "https://localhost:8080/",
          "height": 51
        }
      },
      "source": [
        "# This function has a variable with the same name as s. \n",
        "def function():  \n",
        "    s = \"Me too.\"\n",
        "    print(s)\n",
        "  \n",
        "# Global scope \n",
        "s = \"I love Python\" \n",
        "function() \n",
        "print(s)"
      ],
      "execution_count": 0,
      "outputs": [
        {
          "output_type": "stream",
          "text": [
            "Me too.\n",
            "I love Python\n"
          ],
          "name": "stdout"
        }
      ]
    },
    {
      "cell_type": "markdown",
      "metadata": {
        "id": "fg1OxQrI0OZa",
        "colab_type": "text"
      },
      "source": [
        "####Any variable which is changed or created inside of a function is local, if it hasn’t been declared as a global variable. To tell Python, that we want to use the global variable, we have to use the keyword “global”, as can be seen in the following example:"
      ]
    },
    {
      "cell_type": "code",
      "metadata": {
        "id": "KoWK3Z7N0Rq5",
        "colab_type": "code",
        "outputId": "0ad7259b-2e98-4034-c064-5e575e880e3e",
        "colab": {
          "base_uri": "https://localhost:8080/",
          "height": 68
        }
      },
      "source": [
        "# This function modifies global variable 's' \n",
        "def function(): \n",
        "    global s \n",
        "    print(s) \n",
        "    s = \"Python is alright\"\n",
        "    print(s)  \n",
        "  \n",
        "# Global Scope \n",
        "s = \"Python is great!\" \n",
        "function() \n",
        "print(s)"
      ],
      "execution_count": 0,
      "outputs": [
        {
          "output_type": "stream",
          "text": [
            "Python is great!\n",
            "Python is alright\n",
            "Python is alright\n"
          ],
          "name": "stdout"
        }
      ]
    },
    {
      "cell_type": "markdown",
      "metadata": {
        "id": "qELWsfLNYJKn",
        "colab_type": "text"
      },
      "source": [
        "## Introduction to the Challenge; Vacation costs calculator\n",
        "\n",
        "### Description of the exercise : \n",
        "\n",
        "Multiple types of costs should be budgeted when going on holiday. the first type of costs that we will define is hotel costs (we will create this first function together)\n",
        "\n",
        "Note that in these functions we use a return 'return' statement instead of a 'print' statement\n",
        "If you are having some trouble with functions [this tutorial](https://www.youtube.com/watch?v=NSbOtYzIQI0) (15 min) could help you understand it better."
      ]
    },
    {
      "cell_type": "code",
      "metadata": {
        "id": "BglkZjMXZatB",
        "colab_type": "code",
        "outputId": "bd79a57c-618f-4919-fdee-8de6fdadc3be",
        "colab": {
          "base_uri": "https://localhost:8080/",
          "height": 68
        }
      },
      "source": [
        "nights = int(input('How many nights do you want to stay?\\n'))\n",
        "\n",
        "def hotel_cost(nights):\n",
        "    return 140 * nights\n",
        "  \n",
        "hotel_cost(nights)"
      ],
      "execution_count": 0,
      "outputs": [
        {
          "output_type": "stream",
          "text": [
            "How many nights do you want to stay?\n",
            "4\n"
          ],
          "name": "stdout"
        },
        {
          "output_type": "execute_result",
          "data": {
            "text/plain": [
              "560"
            ]
          },
          "metadata": {
            "tags": []
          },
          "execution_count": 3
        }
      ]
    },
    {
      "cell_type": "markdown",
      "metadata": {
        "id": "9rGACogZY-3J",
        "colab_type": "text"
      },
      "source": [
        "###Difference between 'Return' statement vs. 'Print' Statement:\n",
        "####Intuition --> Print shows the human what is going on, return is often unseen by human user, but it used by computers within the functions\n",
        "####Rule of thumb --> 'print' does not affect the function (it is only there to show what is going on, 'return' is the main way used within functions to return a value"
      ]
    },
    {
      "cell_type": "code",
      "metadata": {
        "id": "lAh_A36OYJHA",
        "colab_type": "code",
        "outputId": "435c2575-54da-4e58-e39c-a56fdc9c3667",
        "colab": {
          "base_uri": "https://localhost:8080/",
          "height": 87
        }
      },
      "source": [
        "#The functions below illustrate how the use of 'print' and 'return' may lead to different outcomes:\n",
        "\n",
        "def function_that_prints():\n",
        "    print(\"I printed\")\n",
        "\n",
        "def function_that_returns():\n",
        "    return \"I returned\"\n",
        "\n",
        "f1 = function_that_prints()\n",
        "f2 = function_that_returns()\n",
        "print(\"Now let us see what the values of f1 and f2 are:\")\n",
        "print(f1)\n",
        "print(f2)"
      ],
      "execution_count": 0,
      "outputs": [
        {
          "output_type": "stream",
          "text": [
            "I printed\n",
            "Now let us see what the values of f1 and f2 are:\n",
            "None\n",
            "I returned\n"
          ],
          "name": "stdout"
        }
      ]
    },
    {
      "cell_type": "markdown",
      "metadata": {
        "id": "KmnIovQadtg_",
        "colab_type": "text"
      },
      "source": [
        "## Challenge #1\n",
        "###The next costs that we will include in our model are the plane ride costs. Note that these costs will differ for different destinations.\n",
        "- Create a function that takes 'city' as a parameter and return different costs of the plane ride for four different cities.\n",
        "- Use the 'input' method from the last session to define the variable city\n",
        "- When one of the cities below is given as input, your function should return the costs for the corresponding city\n",
        "###Here are the cities and their respective costs for your function:\n",
        "\n",
        ">City | Costs\n",
        ">--- | ---\n",
        ">Rome | 183\n",
        ">Dublin | 220\n",
        "> Prague | 222\n",
        "> Madrid | 475\n"
      ]
    },
    {
      "cell_type": "code",
      "metadata": {
        "id": "hci10s7RpTGa",
        "colab_type": "code",
        "colab": {}
      },
      "source": [
        ""
      ],
      "execution_count": 0,
      "outputs": []
    },
    {
      "cell_type": "markdown",
      "metadata": {
        "id": "5L2srClSdzOC",
        "colab_type": "text"
      },
      "source": [
        "##Challenge #2 \n",
        "####Now we will include the costs of a rental car in our model. Note that in this model, the price per day of renting a car changes for diffent lengths of the total time the car was rented.\n",
        "####We will create an entire new function that will take 'days' as a parameter and return the costs of renting a car for a numbers of days.\n",
        "####In this function we want:\n",
        "- The cost per day for renting a car per day to be equal to 40, but:\n",
        "- If the number of days is equal to or above seven, then the costs per day of renting a car are equal to 50\n",
        "- If the amount of days that the car is rented is equal or below three, the costs per day of renting the car are 20.\n",
        "####Finally, return the cost of renting a car in your function"
      ]
    },
    {
      "cell_type": "code",
      "metadata": {
        "id": "0Tp7E3twpQzU",
        "colab_type": "code",
        "colab": {}
      },
      "source": [
        ""
      ],
      "execution_count": 0,
      "outputs": []
    },
    {
      "cell_type": "markdown",
      "metadata": {
        "id": "LhnYBzBYeKlg",
        "colab_type": "text"
      },
      "source": [
        "##Challenge #3 \n",
        "####Now it is time for the big finale. We will create a new function that combines all the costs in our model and gives us our total costs of the trip. This big function will have all the smaller functions as arguments\n",
        "####Define a function that takes all three parameters of the three previous functions related to the vacation costs calculator as parameters (Introduction to the Challenge, Challenge #1 and #2). (Hint--> Separate the parameters by using commas)\n",
        "####(Hint #2 --> If you have already defined the relevant variables and functions that are needed for the 'total function' in cells that you have run earlier, Python will remember these values)\n",
        "- Make sure this total function will return the cummulative costs of all three functions with their respective parameters\n",
        "- When the function is defined, you can test if it works by calling the function"
      ]
    },
    {
      "cell_type": "code",
      "metadata": {
        "id": "hKZp1taMpRO6",
        "colab_type": "code",
        "colab": {}
      },
      "source": [
        ""
      ],
      "execution_count": 0,
      "outputs": []
    },
    {
      "cell_type": "markdown",
      "metadata": {
        "id": "j2gj1HZdkXu5",
        "colab_type": "text"
      },
      "source": [
        "##Challenge #4 (Be creative)\n",
        "- Create a list with the values ['Beer', 'Wine', 'Water', 'Scotch', 'Orange juice', 'Milk', 'Red Bull', 'Coffee'] (Copy & Paste)\n",
        "- Write a method that prints the following output of the list: ['Coffee', 'Milk', 'Scotch']\n",
        "\n",
        "Hint --> Understanding the fundamentals of list indexing might help you\n",
        "\n",
        "Hint --> Google & Stackoverflow are your best friends"
      ]
    },
    {
      "cell_type": "code",
      "metadata": {
        "id": "jI3FzO-KnthD",
        "colab_type": "code",
        "colab": {}
      },
      "source": [
        ""
      ],
      "execution_count": 0,
      "outputs": []
    },
    {
      "cell_type": "markdown",
      "metadata": {
        "id": "QkRRpAsUoMQa",
        "colab_type": "text"
      },
      "source": [
        "##Challenge #5 (while loop)\n",
        "\n",
        "\n",
        "We will make a simple version of the game Blackjack:\n",
        "- Create a variable that is equal to the user's input\n",
        "- Create a while loop that keeps on asking for your input and counts the sum of your input up to and including the number 21\n",
        "- If the sum of all your input is higher than 21: the loop should print ('Your total sum is: [your_sum]'), and the loop should end\n",
        "- If the sum of all your input is lower than 21, the loop should continue to keep running and continue to ask for your input until the value of 21 is reached and you lose the game :(\n",
        "\n",
        "\n",
        "####Remember to be careful with while loops, as they may run into infinity!\n",
        "Hint --> Try working with the 'break' method in your while loop to solve the problem of infinite loops"
      ]
    },
    {
      "cell_type": "code",
      "metadata": {
        "id": "e_EHjWHBoMnA",
        "colab_type": "code",
        "colab": {}
      },
      "source": [
        ""
      ],
      "execution_count": 0,
      "outputs": []
    },
    {
      "cell_type": "markdown",
      "metadata": {
        "id": "NevJDEcFb9fn",
        "colab_type": "text"
      },
      "source": [
        "###Resources:\n",
        "- [Explanation of Python data structures (strings, booleans, lists, typles, etc.)](https://www.datacamp.com/community/tutorials/data-structures-python)\n",
        "- [Further explanation of Lists and Tuples](https://www.programiz.com/python-programming/list-vs-tuples)\n",
        "- [Python loops article](https://www.tutorialspoint.com/python/python_while_loop.htm)\n",
        "- [10 min video that explains Python loops](https://www.youtube.com/watch?v=6iF8Xb7Z3wQ)"
      ]
    }
  ]
}