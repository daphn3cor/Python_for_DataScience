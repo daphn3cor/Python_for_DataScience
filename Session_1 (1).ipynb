{
  "nbformat": 4,
  "nbformat_minor": 0,
  "metadata": {
    "colab": {
      "name": "Session_1.ipynb",
      "provenance": [],
      "collapsed_sections": [
        "ZSK6DuR9fk9A",
        "4tcO_of3gpC7"
      ]
    },
    "kernelspec": {
      "name": "python3",
      "display_name": "Python 3"
    }
  },
  "cells": [
    {
      "cell_type": "markdown",
      "metadata": {
        "id": "aErGS4oIx3yH",
        "colab_type": "text"
      },
      "source": [
        "# Week 1\n",
        "## Session 1\n",
        "\n",
        "Welcome to the first session of the Python for Data Science bootcamp! In the coming 2 weeks, you will learn the fundamentals of programming in python, and the major libraries used in Data Science. \n",
        "\n",
        "**Outline**\n",
        "\n",
        "- Jupyter Notebooks\n",
        "- Basic python syntax\n",
        "- String variables & formatting\n",
        "- Boolean operators\n",
        "- If statements\n",
        "- Functions \n",
        "\n",
        "**Challenges**\n",
        "- 1\n",
        "- 2\n",
        "- 3\n",
        "- 4\n",
        "- 5\n",
        "- 6\n",
        "\n",
        "---\n",
        "\n",
        "\n",
        "### History and Motivation\n",
        "\n",
        "But before we start, a little bit of history and motivation on why you would want to learn Python in the first place. Python is a high-level programming language, meaning that there is a lot of stuff under the hood that we don't have to worry about, making it a very intuitive language to code in. Python was first released in 1991, by a Dutch guy named Guido van Rossum. \n",
        "\n",
        "Fun fact: unlike you probably assume, it is not named after the snake, but instead after a British TV series Monty Python. \n",
        "\n",
        "The popularity of Python has [been increasing a lot ](https://stackoverflow.blog/2017/09/06/incredible-growth-python/) over the last 6 years, and still is (see the graph below). Many experts say that Python is now also the *\"lingua franca\"* of Machine Learning. Interestingly, according to a [survey from Jetbrains in 2018](https://www.jetbrains.com/research/devecosystem-2018/python/?gclid=CjwKCAjw6-_eBRBXEiwA-5zHaYmJk6TUceGT3clJV3WfBm5lJqfrVthFJYW0Bvwf00yxcgzvVDOnJxoC5IAQAvD_BwE&gclsrc=aw.ds)  the top 3 areas that people use Python for are Data analysis, Web development, and Machine Learning (ML). \n",
        "\n",
        "\n",
        "\n",
        "---\n",
        "\n",
        "![alt text](https://zgab33vy595fw5zq-zippykid.netdna-ssl.com/wp-content/uploads/2017/09/growth_major_languages-1-1024x878.png)\n",
        "\n",
        "\n",
        "**Why**  is Python so popular? There are many reasons, but it comes down to 3 main points: \n",
        "1. Python is simple (i.e. intuitive)\n",
        "2. Python is productive (i.e. there is a lot of documentation and active users community to ask or search for questions)\n",
        "3. Python is readable (therefore easier to maintain)\n",
        "\n",
        "Learning Python will not only give you the skills to dive into many other cool areas, such as ML or Data Science, it will also teach to think like a developer. Being able to translate problems to code. Let's keep this in mind when you start coding.\n",
        "\n",
        "![alt text](https://qph.fs.quoracdn.net/main-qimg-80975433d302b1a5ddbcd5b6919655a1.webp)\n",
        "\n",
        "\n",
        "Ok, lets start coding!\n",
        "\n"
      ]
    },
    {
      "cell_type": "code",
      "metadata": {
        "id": "Rw8kiGQcWA7G",
        "colab_type": "code",
        "outputId": "bab7598c-1bb3-43b3-cf39-3ee653486055",
        "colab": {
          "base_uri": "https://localhost:8080/",
          "height": 38
        }
      },
      "source": [
        "%%html\n",
        "<marquee style='width: 30%; color: blue;'><b>Wheeee</b></marquee>\n"
      ],
      "execution_count": 0,
      "outputs": [
        {
          "output_type": "display_data",
          "data": {
            "text/html": [
              "<marquee style='width: 30%; color: blue;'><b>Wheeee</b></marquee>"
            ],
            "text/plain": [
              "<IPython.core.display.HTML object>"
            ]
          },
          "metadata": {
            "tags": []
          }
        }
      ]
    },
    {
      "cell_type": "markdown",
      "metadata": {
        "id": "LNEPyUWGT8_i",
        "colab_type": "text"
      },
      "source": [
        "\n",
        "### By the way, we are working in a Jupyter notebook. Before you continue,  check out [this](https://github.com/fastai/course-v3/blob/master/nbs/dl1/00_notebook_tutorial.ipynb) Jupyter Notebook to learn more about... Jupyter Notebooks\n",
        "\n",
        "\n",
        "### Remember the shortcuts! \n",
        "\n",
        "| Command | Action |\n",
        "| ---- | ----: |\n",
        "|⌘/Ctrl+Enter | Run Selected Cell |\n",
        "|Shift+Enter| Run Cell and Select Next |\n",
        "|Alt+Enter| Run cell and insert new cell|\n",
        "|Ctrl + M A | Add cell above |\n",
        "|Ctrl + M B  | Add cell below |\n",
        "|⌘/Ctrl+M  | Interrupt Execution |\n",
        "|⌘/Ctrl+M D | Delete Cell |\n",
        "|⌘/Ctrl+Shift + Z I | Undo Action|\n",
        "|⌘/Ctrl+S | Save Progress |\n",
        "|⌘/Ctrl+ Shift + P |  Open command pallete |"
      ]
    },
    {
      "cell_type": "markdown",
      "metadata": {
        "id": "LVUMAHNZXQks",
        "colab_type": "text"
      },
      "source": [
        "## Python Syntax, Operators and Variables"
      ]
    },
    {
      "cell_type": "code",
      "metadata": {
        "id": "-ulcGkyWxHrN",
        "colab_type": "code",
        "outputId": "9a1e21e1-360a-497f-fc97-1c914ff96c4e",
        "colab": {
          "base_uri": "https://localhost:8080/",
          "height": 34
        }
      },
      "source": [
        "# This is a comment, you use this to explain or say something about your code\n",
        "\n",
        "# lets print something!\n",
        "print('hoi')"
      ],
      "execution_count": 0,
      "outputs": [
        {
          "output_type": "stream",
          "text": [
            "hoi\n"
          ],
          "name": "stdout"
        }
      ]
    },
    {
      "cell_type": "markdown",
      "metadata": {
        "id": "HTU_Q2SMx3oe",
        "colab_type": "text"
      },
      "source": [
        "So we use \n",
        "\n",
        "```\n",
        "print('something')\n",
        "```\n",
        "\n",
        "to **print**, or display something on the screen \n",
        "\n",
        "We can also do math in Python\n",
        "\n",
        "> Operator | Operation \n",
        ">--- | ---\n",
        "> ** | Exponent\n",
        "> % | Modulus / remainder\n",
        "> // | Integer division / floored division\n",
        "> * | Multiplication\n",
        "> - | Subtraction\n",
        "> + | Addition"
      ]
    },
    {
      "cell_type": "code",
      "metadata": {
        "id": "iTbSy4TEWpjS",
        "colab_type": "code",
        "outputId": "6f2a5c74-a0ee-4a9f-91c8-01c967072d62",
        "colab": {
          "base_uri": "https://localhost:8080/",
          "height": 85
        }
      },
      "source": [
        "# Math in Python\n",
        "print(4+7)\n",
        "\n",
        "# note that we don't have to put numbers in quotation marks, only text\n",
        "print(2**5)\n",
        "\n",
        "print(10 - 4)\n",
        "\n",
        "# ** is to the power of in python\n",
        "print(2**3)"
      ],
      "execution_count": 0,
      "outputs": [
        {
          "output_type": "stream",
          "text": [
            "11\n",
            "32\n",
            "6\n",
            "8\n"
          ],
          "name": "stdout"
        }
      ]
    },
    {
      "cell_type": "markdown",
      "metadata": {
        "id": "e8cZ5QThYIEr",
        "colab_type": "text"
      },
      "source": [
        "In Python, you will deal with different *data types*, a category for values. \n",
        "These are a few common data types;\n",
        "\n",
        ">Data type | Examples\n",
        ">--- | ---\n",
        ">Integers | -2, -1, 0, 1, 2, 3, 4, 5\n",
        ">Floating-point numbers | -1.25, -1.0, --0.5, 0.0, 0.5, 1.0, 1.25\n",
        "> Strings | 'a', 'aa', 'aaa', 'Hello!', '11 cats'\n",
        "\n",
        "\n",
        "### Variables\n",
        "\n",
        "It is often useful to store a data type, like an integer, in a box. Then we can save it and use it later on.\n",
        "We call a box where we can store information a **variable**.\n",
        "\n",
        "A variable is created when you assign a value to it. Below you see a code where we assign julie to name. You can think of this as storing julie in a box, called name.\n",
        "\n",
        "We can store strings but also numbers in a variable. \n",
        "\n",
        "Watch [this](https://www.youtube.com/watch?v=Z1Yd7upQsXY) video on variables at home! \n",
        "\n",
        "\n",
        "![](https://mozilla.github.io/webmaker-curriculum/QuackingJavascript/images/boxes_variables_arrow.png)"
      ]
    },
    {
      "cell_type": "code",
      "metadata": {
        "id": "wm76wu4jXbfP",
        "colab_type": "code",
        "outputId": "8f70f6a1-0313-455e-a396-f2f8a3571611",
        "colab": {
          "base_uri": "https://localhost:8080/",
          "height": 51
        }
      },
      "source": [
        "name = 'Kevin'\n",
        "\n",
        "# here we assign 5 to the variable x\n",
        "x = 4\n",
        "\n",
        "print(name)\n",
        "print(x)"
      ],
      "execution_count": 0,
      "outputs": [
        {
          "output_type": "stream",
          "text": [
            "Kevin\n",
            "4\n"
          ],
          "name": "stdout"
        }
      ]
    },
    {
      "cell_type": "code",
      "metadata": {
        "id": "nJ4DNrwBYIV6",
        "colab_type": "code",
        "outputId": "1667c30c-9e38-48fb-af50-034b3ca41e27",
        "colab": {
          "base_uri": "https://localhost:8080/",
          "height": 34
        }
      },
      "source": [
        "# we can do all kinds of stuff with our variables\n",
        "\n",
        "add = x + 10\n",
        "\n",
        "print(add)"
      ],
      "execution_count": 0,
      "outputs": [
        {
          "output_type": "stream",
          "text": [
            "14\n"
          ],
          "name": "stdout"
        }
      ]
    },
    {
      "cell_type": "code",
      "metadata": {
        "id": "NPlNRubwcY-w",
        "colab_type": "code",
        "outputId": "11f52996-e196-43e8-de6c-ed9ba6547079",
        "colab": {
          "base_uri": "https://localhost:8080/",
          "height": 34
        }
      },
      "source": [
        "add * 5 "
      ],
      "execution_count": 0,
      "outputs": [
        {
          "output_type": "execute_result",
          "data": {
            "text/plain": [
              "70"
            ]
          },
          "metadata": {
            "tags": []
          },
          "execution_count": 6
        }
      ]
    },
    {
      "cell_type": "code",
      "metadata": {
        "id": "xwfrONfteCM-",
        "colab_type": "code",
        "outputId": "f0c0a936-8b01-4390-a2e9-e5a24b8fdc1e",
        "colab": {
          "base_uri": "https://localhost:8080/",
          "height": 34
        }
      },
      "source": [
        "# make a new variable y, which is a multiple of x\n",
        "y = 3 * x\n",
        "\n",
        "print(y)"
      ],
      "execution_count": 0,
      "outputs": [
        {
          "output_type": "stream",
          "text": [
            "12\n"
          ],
          "name": "stdout"
        }
      ]
    },
    {
      "cell_type": "code",
      "metadata": {
        "id": "ji37FkZjfrxK",
        "colab_type": "code",
        "outputId": "89802474-862d-4fd7-9912-08d55a0dcc80",
        "colab": {
          "base_uri": "https://localhost:8080/",
          "height": 34
        }
      },
      "source": [
        "# we can concatenate strings\n",
        "language = 'Python' \n",
        "a = ' is super cool!'\n",
        "\n",
        "print(language + a)"
      ],
      "execution_count": 0,
      "outputs": [
        {
          "output_type": "stream",
          "text": [
            "Python is super cool!\n"
          ],
          "name": "stdout"
        }
      ]
    },
    {
      "cell_type": "markdown",
      "metadata": {
        "id": "nwdq4AjIfXUa",
        "colab_type": "text"
      },
      "source": [
        "## Strings\n",
        "\n",
        "We have seen that strings in python are surrounded with either single (' ') or double (\" \") quotation marks, and can be displayed using the `print` statement. \n",
        "\n",
        "Watch [this](https://www.youtube.com/watch?v=k9TUPpGqYTo&list=PL-osiE80TeTskrapNbzXhwoFUiLCjGgY7&index=2) video on string formatting at home.\n",
        "\n",
        "Now we will check out a few things we can do with strings in Python.\n",
        "\n",
        "\n"
      ]
    },
    {
      "cell_type": "code",
      "metadata": {
        "id": "RAHgWHdjeqJW",
        "colab_type": "code",
        "outputId": "e2e6d027-d77f-4f61-b8b4-da309b3359e0",
        "colab": {
          "base_uri": "https://localhost:8080/",
          "height": 34
        }
      },
      "source": [
        "# get the first item of our variable language, Python starts counting at 0!\n",
        "print(language[2])"
      ],
      "execution_count": 0,
      "outputs": [
        {
          "output_type": "stream",
          "text": [
            "t\n"
          ],
          "name": "stdout"
        }
      ]
    },
    {
      "cell_type": "code",
      "metadata": {
        "id": "N-EjUN0mfWsA",
        "colab_type": "code",
        "outputId": "8f47b0de-903c-4a00-a769-77052802dd35",
        "colab": {
          "base_uri": "https://localhost:8080/",
          "height": 34
        }
      },
      "source": [
        "# or what if we want a part of our string (a substring)\n",
        "# up \n",
        "print(language[:3])"
      ],
      "execution_count": 0,
      "outputs": [
        {
          "output_type": "stream",
          "text": [
            "Pyt\n"
          ],
          "name": "stdout"
        }
      ]
    },
    {
      "cell_type": "code",
      "metadata": {
        "id": "1n5FeT9ifWz-",
        "colab_type": "code",
        "outputId": "9db2e510-c963-4613-d705-3646457752b0",
        "colab": {
          "base_uri": "https://localhost:8080/",
          "height": 34
        }
      },
      "source": [
        "# what is the length of our string?\n",
        "# we use the python build in len() function for that\n",
        "print(len('Daphne'))"
      ],
      "execution_count": 0,
      "outputs": [
        {
          "output_type": "stream",
          "text": [
            "6\n"
          ],
          "name": "stdout"
        }
      ]
    },
    {
      "cell_type": "code",
      "metadata": {
        "id": "w_1B_gHJVpca",
        "colab_type": "code",
        "outputId": "be8ab115-8fb6-4ecc-98e1-625853688cff",
        "colab": {
          "base_uri": "https://localhost:8080/",
          "height": 34
        }
      },
      "source": [
        "# lets make everything lowercase\n",
        "language.lower()"
      ],
      "execution_count": 0,
      "outputs": [
        {
          "output_type": "execute_result",
          "data": {
            "text/plain": [
              "'python'"
            ]
          },
          "metadata": {
            "tags": []
          },
          "execution_count": 18
        }
      ]
    },
    {
      "cell_type": "code",
      "metadata": {
        "id": "mTVaCS0pV7tz",
        "colab_type": "code",
        "outputId": "ab7f378a-c069-4b8c-92cd-3de65820e896",
        "colab": {
          "base_uri": "https://localhost:8080/",
          "height": 34
        }
      },
      "source": [
        "# or maybe uppercase\n",
        "language.upper()"
      ],
      "execution_count": 0,
      "outputs": [
        {
          "output_type": "execute_result",
          "data": {
            "text/plain": [
              "'PYTHON'"
            ]
          },
          "metadata": {
            "tags": []
          },
          "execution_count": 22
        }
      ]
    },
    {
      "cell_type": "code",
      "metadata": {
        "id": "oegLO7qJV7xs",
        "colab_type": "code",
        "outputId": "d364854b-5951-47b3-feef-97628279cf95",
        "colab": {
          "base_uri": "https://localhost:8080/",
          "height": 34
        }
      },
      "source": [
        "# we can also replace a part of the string by another letter\n",
        "language.replace('y','o')"
      ],
      "execution_count": 0,
      "outputs": [
        {
          "output_type": "execute_result",
          "data": {
            "text/plain": [
              "'Pothon'"
            ]
          },
          "metadata": {
            "tags": []
          },
          "execution_count": 23
        }
      ]
    },
    {
      "cell_type": "code",
      "metadata": {
        "id": "JLTCTdZLV71T",
        "colab_type": "code",
        "outputId": "f4cb1b1e-a131-4af8-8b36-5b12b1d819fc",
        "colab": {
          "base_uri": "https://localhost:8080/",
          "height": 34
        }
      },
      "source": [
        "sentence = language + a\n",
        "\n",
        "# split separates our string on what we indicate, a space in this case\n",
        "sentence.split(' ')"
      ],
      "execution_count": 0,
      "outputs": [
        {
          "output_type": "execute_result",
          "data": {
            "text/plain": [
              "['Python', 'is', 'super', 'cool!']"
            ]
          },
          "metadata": {
            "tags": []
          },
          "execution_count": 26
        }
      ]
    },
    {
      "cell_type": "code",
      "metadata": {
        "id": "fcu0lM1EW6LE",
        "colab_type": "code",
        "outputId": "d1eb3347-32e9-484a-975d-1e2502f67e8a",
        "colab": {
          "base_uri": "https://localhost:8080/",
          "height": 68
        }
      },
      "source": [
        "# we can also ask the user for input\n",
        "\n",
        "print(\"Hi, whats your name?\")\n",
        "x = input()\n",
        "print(\"Goodevening, \" + x)"
      ],
      "execution_count": 0,
      "outputs": [
        {
          "output_type": "stream",
          "text": [
            "Hi, whats your name?\n",
            "kevin\n",
            "Goodevening, kevin\n"
          ],
          "name": "stdout"
        }
      ]
    },
    {
      "cell_type": "markdown",
      "metadata": {
        "id": "-4fRhlv1Xo2y",
        "colab_type": "text"
      },
      "source": [
        "## Comparison Operators\n",
        "\n",
        "- we use comparison operators to compare two values\n",
        "- when comparing two values, the output will be a Boolean value (True or False)\n",
        "\n",
        "**Boolean values**. A data type that has one of two possible values, `True or False`. Together they represent the truth values of logic and Boolean algebra  [George Boole](https://en.wikipedia.org/wiki/George_Boole).\n",
        "\n",
        "\n",
        "These are the comparison operators\n",
        "\n",
        ">Operator | Meaning\n",
        ">--- | ---\n",
        "> == | equal to\n",
        ">!= | not equal to\n",
        "> < | less than\n",
        "> > | greater than\n",
        "> <= | less than or equal to\n",
        "> >= | greater than or equal to \n",
        "\n",
        "\n",
        "\n"
      ]
    },
    {
      "cell_type": "code",
      "metadata": {
        "id": "qE2JTUoLXNMb",
        "colab_type": "code",
        "outputId": "e4fa049e-215b-4c9b-ed24-436c7498ecf0",
        "colab": {
          "base_uri": "https://localhost:8080/",
          "height": 34
        }
      },
      "source": [
        "# check if they are equal\n",
        "21 == 21"
      ],
      "execution_count": 0,
      "outputs": [
        {
          "output_type": "execute_result",
          "data": {
            "text/plain": [
              "True"
            ]
          },
          "metadata": {
            "tags": []
          },
          "execution_count": 21
        }
      ]
    },
    {
      "cell_type": "code",
      "metadata": {
        "id": "UBGZZq5ee7gZ",
        "colab_type": "code",
        "outputId": "da50bec4-16af-40d8-efbd-0da6a7ed063e",
        "colab": {
          "base_uri": "https://localhost:8080/",
          "height": 34
        }
      },
      "source": [
        "10 == 63"
      ],
      "execution_count": 0,
      "outputs": [
        {
          "output_type": "execute_result",
          "data": {
            "text/plain": [
              "False"
            ]
          },
          "metadata": {
            "tags": []
          },
          "execution_count": 22
        }
      ]
    },
    {
      "cell_type": "code",
      "metadata": {
        "id": "8fOOZ3VcgXNX",
        "colab_type": "code",
        "outputId": "5d340af6-5779-4772-f3b7-bbcd880158be",
        "colab": {
          "base_uri": "https://localhost:8080/",
          "height": 34
        }
      },
      "source": [
        "21 != 21"
      ],
      "execution_count": 0,
      "outputs": [
        {
          "output_type": "execute_result",
          "data": {
            "text/plain": [
              "False"
            ]
          },
          "metadata": {
            "tags": []
          },
          "execution_count": 23
        }
      ]
    },
    {
      "cell_type": "code",
      "metadata": {
        "id": "GBVmSrUafChq",
        "colab_type": "code",
        "outputId": "7163471d-ec88-4418-93ce-5ad571e25213",
        "colab": {
          "base_uri": "https://localhost:8080/",
          "height": 34
        }
      },
      "source": [
        "# we can also do this for strings!\n",
        "'brain' != 'brain' "
      ],
      "execution_count": 0,
      "outputs": [
        {
          "output_type": "execute_result",
          "data": {
            "text/plain": [
              "False"
            ]
          },
          "metadata": {
            "tags": []
          },
          "execution_count": 28
        }
      ]
    },
    {
      "cell_type": "code",
      "metadata": {
        "id": "WaAgG729fLb5",
        "colab_type": "code",
        "outputId": "b406d3a3-c3c4-4332-ed77-2328889f4d84",
        "colab": {
          "base_uri": "https://localhost:8080/",
          "height": 34
        }
      },
      "source": [
        "'Python' != 'Java'"
      ],
      "execution_count": 0,
      "outputs": [
        {
          "output_type": "execute_result",
          "data": {
            "text/plain": [
              "True"
            ]
          },
          "metadata": {
            "tags": []
          },
          "execution_count": 29
        }
      ]
    },
    {
      "cell_type": "code",
      "metadata": {
        "id": "F1Gq1ggKfYLZ",
        "colab_type": "code",
        "outputId": "f9e4ed37-5e12-46a5-f40a-1c32ade47013",
        "colab": {
          "base_uri": "https://localhost:8080/",
          "height": 34
        }
      },
      "source": [
        "# this one is tricky\n",
        "'42' == 42"
      ],
      "execution_count": 0,
      "outputs": [
        {
          "output_type": "execute_result",
          "data": {
            "text/plain": [
              "False"
            ]
          },
          "metadata": {
            "tags": []
          },
          "execution_count": 30
        }
      ]
    },
    {
      "cell_type": "markdown",
      "metadata": {
        "id": "ZSK6DuR9fk9A",
        "colab_type": "text"
      },
      "source": [
        "#### Be careful!\n",
        "\n",
        "- the `=` operator is for assignment, it puts the value on the right into the variable on the left. \n",
        "- the `==` operator compares 2 values, essentially checks if they are the same\n"
      ]
    },
    {
      "cell_type": "markdown",
      "metadata": {
        "id": "4tcO_of3gpC7",
        "colab_type": "text"
      },
      "source": [
        "## Boolean Operators\n",
        "\n",
        "\n",
        "\n",
        "![alt text](http://www.emcu.it/Python/Immagini/LogicalOperators.png)\n",
        "\n",
        "\n",
        "\n",
        "this video explains [boolean operators](https://www.youtube.com/watch?v=CI7LN3Gr2y4) well"
      ]
    },
    {
      "cell_type": "code",
      "metadata": {
        "id": "eyicVnklghGP",
        "colab_type": "code",
        "outputId": "3c824671-792e-4a95-94de-3e4731560c55",
        "colab": {
          "base_uri": "https://localhost:8080/",
          "height": 34
        }
      },
      "source": [
        "True or False"
      ],
      "execution_count": 0,
      "outputs": [
        {
          "output_type": "execute_result",
          "data": {
            "text/plain": [
              "True"
            ]
          },
          "metadata": {
            "tags": []
          },
          "execution_count": 26
        }
      ]
    },
    {
      "cell_type": "code",
      "metadata": {
        "id": "0TFvu4QhghLH",
        "colab_type": "code",
        "outputId": "4381e590-daac-4633-b035-8aa2c4c030da",
        "colab": {
          "base_uri": "https://localhost:8080/",
          "height": 34
        }
      },
      "source": [
        "True and False"
      ],
      "execution_count": 0,
      "outputs": [
        {
          "output_type": "execute_result",
          "data": {
            "text/plain": [
              "False"
            ]
          },
          "metadata": {
            "tags": []
          },
          "execution_count": 27
        }
      ]
    },
    {
      "cell_type": "code",
      "metadata": {
        "id": "Jv34b4gSghO9",
        "colab_type": "code",
        "outputId": "6e3fa93a-957e-48c2-ce4d-019e6624f256",
        "colab": {
          "base_uri": "https://localhost:8080/",
          "height": 34
        }
      },
      "source": [
        "not True"
      ],
      "execution_count": 0,
      "outputs": [
        {
          "output_type": "execute_result",
          "data": {
            "text/plain": [
              "False"
            ]
          },
          "metadata": {
            "tags": []
          },
          "execution_count": 28
        }
      ]
    },
    {
      "cell_type": "code",
      "metadata": {
        "id": "h09NDF_BghVG",
        "colab_type": "code",
        "outputId": "a9b495b7-670c-435b-dd97-71670334e909",
        "colab": {
          "base_uri": "https://localhost:8080/",
          "height": 34
        }
      },
      "source": [
        "not False "
      ],
      "execution_count": 0,
      "outputs": [
        {
          "output_type": "execute_result",
          "data": {
            "text/plain": [
              "True"
            ]
          },
          "metadata": {
            "tags": []
          },
          "execution_count": 29
        }
      ]
    },
    {
      "cell_type": "code",
      "metadata": {
        "id": "HU8A7CHyiMB8",
        "colab_type": "code",
        "outputId": "bf3def7c-bdea-471e-a0bf-2ff8d77e0cf4",
        "colab": {
          "base_uri": "https://localhost:8080/",
          "height": 34
        }
      },
      "source": [
        "# we can combine math operators and boolean operators\n",
        "\n",
        "(4 < 5) and (5 < 6)"
      ],
      "execution_count": 0,
      "outputs": [
        {
          "output_type": "execute_result",
          "data": {
            "text/plain": [
              "True"
            ]
          },
          "metadata": {
            "tags": []
          },
          "execution_count": 24
        }
      ]
    },
    {
      "cell_type": "markdown",
      "metadata": {
        "id": "qjDy4obkiYmc",
        "colab_type": "text"
      },
      "source": [
        "## IF statements\n",
        "\n",
        "explanation of if statements\n",
        "\n",
        "[Bill Gates](https://www.youtube.com/watch?v=m2Ux2PnJe6E) explains it for you \n",
        "\n",
        "Ok that was fun but [here ](https://www.youtube.com/watch?v=DZwmZ8Usvnk&t=738s)is a real, in-depth explanation \n",
        "\n",
        "![alt text](https://www.tutorialspoint.com/scala/images/scala_decision_making.jpg)"
      ]
    },
    {
      "cell_type": "markdown",
      "metadata": {
        "id": "pb_biDisbhnn",
        "colab_type": "text"
      },
      "source": [
        "Now, lets look at a few examples. What if you have to study at the library, but depending on the weather you either take the bike, or take the tram. We can translate this to an if statement as follows."
      ]
    },
    {
      "cell_type": "code",
      "metadata": {
        "id": "emc2MpHeiS-O",
        "colab_type": "code",
        "outputId": "75b4b584-b303-40d2-b08f-11981e8758e1",
        "colab": {
          "base_uri": "https://localhost:8080/",
          "height": 51
        }
      },
      "source": [
        "# weather example\n",
        "weather = input('what is the weather?')\n",
        "\n",
        "if weather == 'sunny':\n",
        "  print('take the bike!')\n",
        "else:\n",
        "  print('better take the tram')"
      ],
      "execution_count": 0,
      "outputs": [
        {
          "output_type": "stream",
          "text": [
            "what is the weather?r\n",
            "better take the tram\n"
          ],
          "name": "stdout"
        }
      ]
    },
    {
      "cell_type": "markdown",
      "metadata": {
        "id": "1uTxbXnlcjWG",
        "colab_type": "text"
      },
      "source": [
        "We can even add more conditions ! We do this by the `elif` statement, which stands for `else if`"
      ]
    },
    {
      "cell_type": "markdown",
      "metadata": {
        "id": "SnNAXnNpd28M",
        "colab_type": "text"
      },
      "source": [
        "conditionals will always have the following structure\n",
        "\n",
        "```\n",
        "if something:\n",
        "     statement (do something)\n",
        "elif:\n",
        "    do something else\n",
        "else:\n",
        "    do something else\n",
        "```\n",
        "\n",
        "### Remember to indent properly!!\n",
        "\n",
        "To indicate a block of code in Python, you must indent each line of the block by the same amount ( just use tab ). Commonly we indent by 4 spaces, which is one tab in a code block.\n",
        "\n",
        "In most other programming languages, indentation is used only to help make the code look pretty. But in Python, it is needed indicate what block of code a statement belongs to. Thus, make sure you always indent your code otherwise it will not work correctly."
      ]
    },
    {
      "cell_type": "code",
      "metadata": {
        "id": "nCpX5Vc6iTHA",
        "colab_type": "code",
        "outputId": "f2047ac3-c10e-40c9-a4c4-beef6bd53f16",
        "colab": {
          "base_uri": "https://localhost:8080/",
          "height": 51
        }
      },
      "source": [
        "weather = input('wheather?')\n",
        "\n",
        "if weather == 'sunny':\n",
        "  print('take the bike!')\n",
        "  \n",
        "elif weather == 'cloudy':\n",
        "  print('you can still take the bike')\n",
        "\n",
        "elif weather == 'storm':\n",
        "  print('you better stay inside')\n",
        "  \n",
        "else:\n",
        "  print('better take the tram')"
      ],
      "execution_count": 0,
      "outputs": [
        {
          "output_type": "stream",
          "text": [
            "wheather?j\n",
            "better take the tram\n"
          ],
          "name": "stdout"
        }
      ]
    },
    {
      "cell_type": "code",
      "metadata": {
        "id": "118F0xMmiTOK",
        "colab_type": "code",
        "outputId": "0564586e-7838-4cdc-9727-301625ab7d82",
        "colab": {
          "base_uri": "https://localhost:8080/",
          "height": 68
        }
      },
      "source": [
        "# you will always lose :(\n",
        "\n",
        "user = input('type in rock paper or scissors...\\n')\n",
        "\n",
        "if user == 'rock':\n",
        "  print('paper')\n",
        "elif user == 'paper':\n",
        "  print('scissors')\n",
        "elif user == 'scissors':\n",
        "  print('rock')\n",
        "else:\n",
        "  print('no valid input, try again')"
      ],
      "execution_count": 0,
      "outputs": [
        {
          "output_type": "stream",
          "text": [
            "type in rock paper or scissors...\n",
            "h\n",
            "no valid input, try again\n"
          ],
          "name": "stdout"
        }
      ]
    },
    {
      "cell_type": "markdown",
      "metadata": {
        "id": "QYBiwGBkjWNp",
        "colab_type": "text"
      },
      "source": [
        "## Functions\n",
        "\n",
        "Functions take an input, do something with it, and then output the result. Functions can be seen as mini-programs on themselves. \n",
        "\n",
        "![alt text](https://upload.wikimedia.org/wikipedia/commons/thumb/3/3b/Function_machine2.svg/220px-Function_machine2.svg.png)\n",
        "\n",
        "In Python we have 3 types of functions;\n",
        "- **Built-in Functions**. We have seen several of these already, such as the `len()`, `min()` and `print()` functions\n",
        "- User Defined Functions (**UDF**'s) functions that people create themselves\n",
        "- Anonymous or **Lambda functions** ( not declared with the standard `def` keyword )\n",
        "\n",
        "\n",
        "watch this [Video about functions](https://www.youtube.com/watch?v=9Os0o3wzS_I)\n",
        "\n",
        "The syntax for functions in Python is as follows. We have;\n",
        "\n",
        "- `def statement` | function name | parameter\n",
        "- body of the function \n",
        "- function calls | input an argument\n",
        "\n",
        "\n",
        "Remember\n",
        "- a **parameter** is a placeholder for the actual value\n",
        "- an **argument** is the actual value that is passed in"
      ]
    },
    {
      "cell_type": "markdown",
      "metadata": {
        "id": "aapAUMsp8aUz",
        "colab_type": "text"
      },
      "source": [
        "![alt text](https://drive.google.com/uc?id=1hQV_c74lYUT9lSMD2dltLr_uca80gYK8)\n",
        "\n",
        "what is the parameter here? and the argument?\n"
      ]
    },
    {
      "cell_type": "code",
      "metadata": {
        "id": "WvEQqZu6jY3H",
        "colab_type": "code",
        "outputId": "071aeee5-8240-4e1f-891e-c19de86ec590",
        "colab": {
          "base_uri": "https://localhost:8080/",
          "height": 51
        }
      },
      "source": [
        "def euro_to_pounds(amount):\n",
        "  \n",
        "  euros = amount*0.90\n",
        "  print(f'{amount} euros is {euros} pounds!')\n",
        "  return euros\n",
        "  \n",
        "euro_to_pounds(50)"
      ],
      "execution_count": 0,
      "outputs": [
        {
          "output_type": "stream",
          "text": [
            "50 euros is 45.0 pounds!\n"
          ],
          "name": "stdout"
        },
        {
          "output_type": "execute_result",
          "data": {
            "text/plain": [
              "45.0"
            ]
          },
          "metadata": {
            "tags": []
          },
          "execution_count": 46
        }
      ]
    },
    {
      "cell_type": "code",
      "metadata": {
        "id": "R1jvTbIdAWHz",
        "colab_type": "code",
        "outputId": "5e60259f-93b8-45ab-e6c7-65fea1ec96d2",
        "colab": {
          "base_uri": "https://localhost:8080/",
          "height": 34
        }
      },
      "source": [
        "x = 5\n",
        "\n",
        "print(f'I have {x} apples')"
      ],
      "execution_count": 0,
      "outputs": [
        {
          "output_type": "stream",
          "text": [
            "I have 5 apples\n"
          ],
          "name": "stdout"
        }
      ]
    },
    {
      "cell_type": "code",
      "metadata": {
        "id": "hY7Vw7lg8aFV",
        "colab_type": "code",
        "outputId": "6f4f25be-da6c-42fd-fd07-e07475be9ff7",
        "colab": {
          "base_uri": "https://localhost:8080/",
          "height": 34
        }
      },
      "source": [
        "# we can also create a function without input\n",
        "\n",
        "def say_hello():\n",
        "  \n",
        "  print('Hi there')\n",
        "\n",
        "say_hello()"
      ],
      "execution_count": 0,
      "outputs": [
        {
          "output_type": "stream",
          "text": [
            "Hi there\n"
          ],
          "name": "stdout"
        }
      ]
    },
    {
      "cell_type": "markdown",
      "metadata": {
        "id": "ZmGfh9NZGsz4",
        "colab_type": "text"
      },
      "source": [
        "Functions make your code more efficient. So if you want to execute the same code multiple times, you won't have the same code multiple times.\n",
        "In general, you should always **avoid having duplicated code**. It is not necessary and when having a bug you will have to remember to change it for each line you wrote the code in.\n",
        "\n"
      ]
    },
    {
      "cell_type": "code",
      "metadata": {
        "id": "2zrcRE0b427z",
        "colab_type": "code",
        "outputId": "eed080ed-f1a3-42ce-d39b-e6681ad6de33",
        "colab": {
          "base_uri": "https://localhost:8080/",
          "height": 51
        }
      },
      "source": [
        "name = 'Piet'\n",
        "\n",
        "def func(n):\n",
        "  print(name)\n",
        "  return name\n",
        "\n",
        "func(name)"
      ],
      "execution_count": 0,
      "outputs": [
        {
          "output_type": "stream",
          "text": [
            "Piet\n"
          ],
          "name": "stdout"
        },
        {
          "output_type": "execute_result",
          "data": {
            "text/plain": [
              "'Piet'"
            ]
          },
          "metadata": {
            "tags": []
          },
          "execution_count": 15
        }
      ]
    },
    {
      "cell_type": "markdown",
      "metadata": {
        "id": "zDkkKye3MtSj",
        "colab_type": "text"
      },
      "source": [
        "- note that when we use `print` there are no quotes from the sting. When we use return the quotes are there. This is because `print` **does not** return the string, but displays it.  \n",
        "- `print` actually returns a special value called `None`\n",
        "  - None is a special value, it stands for the lack of a value\n",
        "  - None doesn't show up when we type it ( check below )\n",
        "- Each function call has a return value. Without the return statement however, your function will return the None value, which is not visible.\n",
        "\n",
        "\n",
        "\n",
        "---\n",
        "\n",
        "We can return multiple values at once.\n",
        "- note that without explicitly telling which variable is which value, is is assumed that the order determines to which var it belongs."
      ]
    },
    {
      "cell_type": "code",
      "metadata": {
        "id": "r1JFuodCjY8B",
        "colab_type": "code",
        "outputId": "e2c57b3a-fb10-4ca9-d1cb-f2af9af7207a",
        "colab": {
          "base_uri": "https://localhost:8080/",
          "height": 34
        }
      },
      "source": [
        "k=2\n",
        "l=5\n",
        "\n",
        "# declare a function\n",
        "def multiply(i,j):\n",
        "  mult = i * j\n",
        "  return (mult, i, j)\n",
        "\n",
        "# Call function\n",
        "multiply(k,l)\n"
      ],
      "execution_count": 0,
      "outputs": [
        {
          "output_type": "execute_result",
          "data": {
            "text/plain": [
              "(10, 2, 5)"
            ]
          },
          "metadata": {
            "tags": []
          },
          "execution_count": 51
        }
      ]
    },
    {
      "cell_type": "markdown",
      "metadata": {
        "id": "C6aWLMwjUwVu",
        "colab_type": "text"
      },
      "source": [
        "### Docstrings\n",
        "\n",
        "Docstrings describe what your function does. When your function is part of a big script of code, it is important to shortly describe what each function does. This way someone else ( or you yourself ) can easily get what the function does later, without having to go through each line and see what happens.\n",
        "\n",
        "\n"
      ]
    },
    {
      "cell_type": "code",
      "metadata": {
        "id": "RE5SO8PGjY0d",
        "colab_type": "code",
        "outputId": "3f712366-bc5b-4c56-fa3e-fa4996ee0b71",
        "colab": {
          "base_uri": "https://localhost:8080/",
          "height": 34
        }
      },
      "source": [
        "def summer(a,b):\n",
        "  '''takes two numbers \n",
        "   returns the sum\n",
        "  '''\n",
        "  return a + b\n",
        "\n",
        "summer(5,6)"
      ],
      "execution_count": 0,
      "outputs": [
        {
          "output_type": "execute_result",
          "data": {
            "text/plain": [
              "11"
            ]
          },
          "metadata": {
            "tags": []
          },
          "execution_count": 55
        }
      ]
    },
    {
      "cell_type": "markdown",
      "metadata": {
        "id": "fHva5bwhXg2I",
        "colab_type": "text"
      },
      "source": [
        "### Types of Arguments\n",
        "\n",
        "There are 4 types of arguments that our functions that take in\n",
        "- Default\n",
        "- Required\n",
        "- Keyword\n",
        "- Variable number of arguments\n"
      ]
    },
    {
      "cell_type": "code",
      "metadata": {
        "id": "EZrE8m5gZqfC",
        "colab_type": "code",
        "outputId": "660f93b6-b725-4823-d3d0-3397d0ffc8c5",
        "colab": {
          "base_uri": "https://localhost:8080/",
          "height": 68
        }
      },
      "source": [
        "# default arguments\n",
        "def summer(i=3, j=4):\n",
        "  return i+j\n",
        " \n",
        "# change j\n",
        "print(summer(j=5))\n",
        "\n",
        "# use default arguments\n",
        "print(summer())\n",
        "\n",
        "# change both\n",
        "print(summer(i=1,j=3))"
      ],
      "execution_count": 0,
      "outputs": [
        {
          "output_type": "stream",
          "text": [
            "8\n",
            "7\n",
            "4\n"
          ],
          "name": "stdout"
        }
      ]
    },
    {
      "cell_type": "code",
      "metadata": {
        "id": "jVUC_P5macAP",
        "colab_type": "code",
        "outputId": "21775a7d-5c56-4ba4-e424-c706cdb9ee7a",
        "colab": {
          "base_uri": "https://localhost:8080/",
          "height": 198
        }
      },
      "source": [
        "# required arguments\n",
        "def summer(i,j):\n",
        "  return i+j\n",
        "\n",
        "# now we have to specify arguments\n",
        "summer()"
      ],
      "execution_count": 0,
      "outputs": [
        {
          "output_type": "error",
          "ename": "TypeError",
          "evalue": "ignored",
          "traceback": [
            "\u001b[0;31m---------------------------------------------------------------------------\u001b[0m",
            "\u001b[0;31mTypeError\u001b[0m                                 Traceback (most recent call last)",
            "\u001b[0;32m<ipython-input-57-f176587ac8c1>\u001b[0m in \u001b[0;36m<module>\u001b[0;34m()\u001b[0m\n\u001b[1;32m      3\u001b[0m \u001b[0;34m\u001b[0m\u001b[0m\n\u001b[1;32m      4\u001b[0m \u001b[0;31m# now we have to specify arguments\u001b[0m\u001b[0;34m\u001b[0m\u001b[0;34m\u001b[0m\u001b[0;34m\u001b[0m\u001b[0m\n\u001b[0;32m----> 5\u001b[0;31m \u001b[0msummer\u001b[0m\u001b[0;34m(\u001b[0m\u001b[0;34m)\u001b[0m\u001b[0;34m\u001b[0m\u001b[0;34m\u001b[0m\u001b[0m\n\u001b[0m",
            "\u001b[0;31mTypeError\u001b[0m: summer() missing 2 required positional arguments: 'i' and 'j'"
          ]
        }
      ]
    },
    {
      "cell_type": "code",
      "metadata": {
        "id": "CLJZvf7GacfO",
        "colab_type": "code",
        "outputId": "a89b8057-35eb-4d61-802b-6160cb21c8ae",
        "colab": {
          "base_uri": "https://localhost:8080/",
          "height": 34
        }
      },
      "source": [
        "# keyword arguments ; explicitly telling what is what\n",
        "def summer(i,j):\n",
        "  return i+j\n",
        "\n",
        "summer(i=1,j=4)"
      ],
      "execution_count": 0,
      "outputs": [
        {
          "output_type": "execute_result",
          "data": {
            "text/plain": [
              "5"
            ]
          },
          "metadata": {
            "tags": []
          },
          "execution_count": 43
        }
      ]
    },
    {
      "cell_type": "code",
      "metadata": {
        "id": "LekAC3DRackx",
        "colab_type": "code",
        "outputId": "aeef8b03-ebb9-4f48-e56d-5a0ad0229b16",
        "colab": {
          "base_uri": "https://localhost:8080/",
          "height": 34
        }
      },
      "source": [
        "# variable number of arguments ; if you don't know how many arguments there will be\n",
        "# its mainly about the *, args is used by convention\n",
        "def summer(*args):\n",
        "  \n",
        "  added = 0\n",
        "  for i in args:\n",
        "    added += i\n",
        "  return added\n",
        "\n",
        "summer(1,2,3,4,5)"
      ],
      "execution_count": 0,
      "outputs": [
        {
          "output_type": "execute_result",
          "data": {
            "text/plain": [
              "15"
            ]
          },
          "metadata": {
            "tags": []
          },
          "execution_count": 59
        }
      ]
    },
    {
      "cell_type": "markdown",
      "metadata": {
        "id": "1Nepl4FdKVuW",
        "colab_type": "text"
      },
      "source": [
        "## Challenges\n"
      ]
    },
    {
      "cell_type": "markdown",
      "metadata": {
        "id": "yq-XK9ncKYeW",
        "colab_type": "text"
      },
      "source": [
        "### Challenge 1\n",
        "\n",
        "Create a function that takes as input the name and age from the user. The function must return the age of the user + his/her name. \"... is ... old!\""
      ]
    },
    {
      "cell_type": "code",
      "metadata": {
        "id": "tan3KLrAWjHI",
        "colab_type": "code",
        "colab": {}
      },
      "source": [
        ""
      ],
      "execution_count": 0,
      "outputs": []
    },
    {
      "cell_type": "markdown",
      "metadata": {
        "id": "7VxVNKIYLDhE",
        "colab_type": "text"
      },
      "source": [
        "### Challenge 2\n",
        "\n",
        "Create a function that takes a number, first multiplies it with 2.71828 then squares the outcome, then times 5. Return the result.\n",
        "\n"
      ]
    },
    {
      "cell_type": "code",
      "metadata": {
        "id": "znUZ3rAVWjMM",
        "colab_type": "code",
        "colab": {}
      },
      "source": [
        ""
      ],
      "execution_count": 0,
      "outputs": []
    },
    {
      "cell_type": "markdown",
      "metadata": {
        "id": "cmDZqKl6LECC",
        "colab_type": "text"
      },
      "source": [
        "### Challenge 3\n",
        "Create a function: `what_should_I_drink` that first asks the user if today is January or not. If the answer is yes, ask the user what time of the day it is. If the answer is no, say too bad. Then, depending on the time of the day, return a different drink for each. (e.g. morning, afternoon, evening)"
      ]
    },
    {
      "cell_type": "code",
      "metadata": {
        "id": "97lsRWRNWjCW",
        "colab_type": "code",
        "colab": {}
      },
      "source": [
        ""
      ],
      "execution_count": 0,
      "outputs": []
    },
    {
      "cell_type": "markdown",
      "metadata": {
        "id": "eiuPNX-AWkfv",
        "colab_type": "text"
      },
      "source": [
        "### Challenge 4\n",
        "\n",
        "Create a function that has a string as input, such as **-** `'h sh i hello   th hoi  j' `**- ** that returns the string without spaces. The function has to work for inputs from various lengths."
      ]
    },
    {
      "cell_type": "code",
      "metadata": {
        "id": "shicBC4KWwqD",
        "colab_type": "code",
        "colab": {}
      },
      "source": [
        ""
      ],
      "execution_count": 0,
      "outputs": []
    },
    {
      "cell_type": "markdown",
      "metadata": {
        "id": "qAQA6TBSWkkF",
        "colab_type": "text"
      },
      "source": [
        "### Challenge 5\n",
        "\n",
        "Create a function that takes in any integer as argument and returns `\"even\"` for even numbers or `\"odd\"` for odd numbers.\n",
        "\n",
        "Test your function on these integers; 5,6,456,-2,53\n",
        "\n"
      ]
    },
    {
      "cell_type": "code",
      "metadata": {
        "id": "aejSMdJ_WxL3",
        "colab_type": "code",
        "colab": {}
      },
      "source": [
        ""
      ],
      "execution_count": 0,
      "outputs": []
    },
    {
      "cell_type": "markdown",
      "metadata": {
        "id": "yAzDAMCjWko-",
        "colab_type": "text"
      },
      "source": [
        "### Challenge 6 (Advanced)\n",
        "\n",
        "Create a function that takes an array of strings and sorts them in alphabetic order. Then return only the first item with '***' between each letter. \n",
        "\n",
        "For example\n",
        "\n",
        "input ` = ['this','is','what','we','call','list','of','strings']`\n",
        "\n",
        "should output \n",
        "`'c***a***l***l'`\n"
      ]
    },
    {
      "cell_type": "code",
      "metadata": {
        "id": "ylqSwym0Bzoz",
        "colab_type": "code",
        "colab": {}
      },
      "source": [
        ""
      ],
      "execution_count": 0,
      "outputs": []
    },
    {
      "cell_type": "code",
      "metadata": {
        "id": "J0BYL7TvF3jD",
        "colab_type": "code",
        "colab": {}
      },
      "source": [
        ""
      ],
      "execution_count": 0,
      "outputs": []
    },
    {
      "cell_type": "code",
      "metadata": {
        "id": "z4-yT1ddF3sO",
        "colab_type": "code",
        "colab": {}
      },
      "source": [
        ""
      ],
      "execution_count": 0,
      "outputs": []
    },
    {
      "cell_type": "markdown",
      "metadata": {
        "id": "DuhFuP1DgVOb",
        "colab_type": "text"
      },
      "source": [
        "##Resources\n",
        "\n",
        "- [Automate the boring stuff book](https://automatetheboringstuff.com/)\n",
        "- For a more elaborate explanation of functions, see this [Datacamp article on functions ](https://www.datacamp.com/community/tutorials/functions-python-tutorial)\n",
        "- [another functions tutorial](https://www.youtube.com/watch?v=NSbOtYzIQI0)\n",
        "- [Codewars ](www.codewars.com) ( super cool platform ! )"
      ]
    },
    {
      "cell_type": "code",
      "metadata": {
        "id": "JYfM8P_pAYqP",
        "colab_type": "code",
        "colab": {}
      },
      "source": [
        ""
      ],
      "execution_count": 0,
      "outputs": []
    }
  ]
}