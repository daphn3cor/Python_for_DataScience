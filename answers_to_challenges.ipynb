{
  "nbformat": 4,
  "nbformat_minor": 0,
  "metadata": {
    "colab": {
      "name": "answers_to_challenges.ipynb",
      "provenance": [],
      "collapsed_sections": [
        "nY-xMAGmArov",
        "1nozsWkKvjkr",
        "i9XtC1cqIFQi",
        "X951kxh9CYgS"
      ]
    },
    "kernelspec": {
      "name": "python3",
      "display_name": "Python 3"
    }
  },
  "cells": [
    {
      "cell_type": "markdown",
      "metadata": {
        "id": "EmnIkJ_vBJCM",
        "colab_type": "text"
      },
      "source": [
        "## Note\n",
        "\n",
        "Keep in mind that there are many different solutions to the challenges! There is not one, \"right\" solution. So if you have something else that works that may be correct as well. It is about the problem solving process.\n",
        "\n",
        "Just go through the challenges and compare your solution to ours. Also ask around how other people solved the challenge. You learn a lot by reading other people's code."
      ]
    },
    {
      "cell_type": "markdown",
      "metadata": {
        "id": "nY-xMAGmArov",
        "colab_type": "text"
      },
      "source": [
        "## Session 1"
      ]
    },
    {
      "cell_type": "code",
      "metadata": {
        "id": "CC09z20wAn0a",
        "colab_type": "code",
        "outputId": "927851a1-e864-4b14-b444-17b7cbba4ca3",
        "colab": {
          "base_uri": "https://localhost:8080/",
          "height": 102
        }
      },
      "source": [
        "# challenge 1\n",
        "\n",
        "age = input('What is your age?\\n')\n",
        "name = input('What is your name?\\n')\n",
        "\n",
        "def function(name, age):\n",
        "  return str(name) + ' is ' + str(age) + ' years old'\n",
        "\n",
        "function(name, age)"
      ],
      "execution_count": 0,
      "outputs": [
        {
          "output_type": "stream",
          "text": [
            "What is your age?\n",
            "d\n",
            "What is your name?\n",
            "d\n"
          ],
          "name": "stdout"
        },
        {
          "output_type": "execute_result",
          "data": {
            "text/plain": [
              "'d is d years old'"
            ]
          },
          "metadata": {
            "tags": []
          },
          "execution_count": 2
        }
      ]
    },
    {
      "cell_type": "code",
      "metadata": {
        "id": "T2aCUAxbBHcY",
        "colab_type": "code",
        "outputId": "ffd179ce-0cdc-468a-9880-889ae041358a",
        "colab": {
          "base_uri": "https://localhost:8080/",
          "height": 34
        }
      },
      "source": [
        "# challenge 2\n",
        "\n",
        "number = 4\n",
        "\n",
        "def function_2(number):\n",
        "  return ((number * 2.71828) ** 2) * 5\n",
        "\n",
        "function_2(number)"
      ],
      "execution_count": 0,
      "outputs": [
        {
          "output_type": "execute_result",
          "data": {
            "text/plain": [
              "591.1236926720001"
            ]
          },
          "metadata": {
            "tags": []
          },
          "execution_count": 3
        }
      ]
    },
    {
      "cell_type": "code",
      "metadata": {
        "id": "d7_GGkitAvbT",
        "colab_type": "code",
        "outputId": "49ba7e70-6e0f-452b-e4a0-e2ac6c53df3f",
        "colab": {
          "base_uri": "https://localhost:8080/",
          "height": 102
        }
      },
      "source": [
        "# challenge 3\n",
        "\n",
        "january = input('Is it January?\\n ')\n",
        "\n",
        "def what_should_I_drink(January):\n",
        "  \n",
        "    if january == 'yes':\n",
        "      time_of_day = input('What time of day is it?\\n')\n",
        "      \n",
        "      if time_of_day == 'morning':\n",
        "        print('Mimosa')\n",
        "      \n",
        "      elif time_of_day == 'afternoon':\n",
        "        print('Red wine')\n",
        "      \n",
        "      elif time_of_day == 'evening':\n",
        "        print('Scotch')\n",
        "        \n",
        "      else:\n",
        "        print('No time is specified')\n",
        "    \n",
        "    elif anuary == 'no':\n",
        "      print('Too bad')\n",
        "    \n",
        "    else:\n",
        "      print('I did not understand that')\n",
        "\n",
        "what_should_I_drink(january)"
      ],
      "execution_count": 0,
      "outputs": [
        {
          "output_type": "stream",
          "text": [
            "Is it January?\n",
            " yes\n",
            "What time of day is it?\n",
            "mk\n",
            "No time is specified\n"
          ],
          "name": "stdout"
        }
      ]
    },
    {
      "cell_type": "code",
      "metadata": {
        "id": "_w6fCVVcCw8k",
        "colab_type": "code",
        "outputId": "10e1ff24-e0bb-42d8-cddc-039028c86b89",
        "colab": {
          "base_uri": "https://localhost:8080/",
          "height": 34
        }
      },
      "source": [
        "# challenge 4\n",
        "\n",
        "string = 'h sh i hello th hoi j'\n",
        "\n",
        "def no_spaces(string):\n",
        "  \n",
        "  string = string.replace(' ','')\n",
        "  return string\n",
        "\n",
        "no_spaces(string)"
      ],
      "execution_count": 0,
      "outputs": [
        {
          "output_type": "execute_result",
          "data": {
            "text/plain": [
              "'hshihellothhoij'"
            ]
          },
          "metadata": {
            "tags": []
          },
          "execution_count": 7
        }
      ]
    },
    {
      "cell_type": "code",
      "metadata": {
        "id": "F70b7Xt7DXkK",
        "colab_type": "code",
        "outputId": "8c089073-df20-4828-ef32-e30c02d14afa",
        "colab": {
          "base_uri": "https://localhost:8080/",
          "height": 51
        }
      },
      "source": [
        "# challenge 5\n",
        "\n",
        "number = input('What is your number?')\n",
        "\n",
        "def even_test(number):\n",
        "  \n",
        "  if int(number) % 2 == 0:\n",
        "    return 'even'\n",
        "  else:\n",
        "    return 'odd'\n",
        "               \n",
        "even_test(number)  "
      ],
      "execution_count": 0,
      "outputs": [
        {
          "output_type": "stream",
          "text": [
            "What is your number?4\n"
          ],
          "name": "stdout"
        },
        {
          "output_type": "execute_result",
          "data": {
            "text/plain": [
              "'even'"
            ]
          },
          "metadata": {
            "tags": []
          },
          "execution_count": 8
        }
      ]
    },
    {
      "cell_type": "code",
      "metadata": {
        "id": "QFaB9B7BDlBK",
        "colab_type": "code",
        "outputId": "7aaf44f3-e57f-44e8-a02f-11d2b4bdf9c7",
        "colab": {
          "base_uri": "https://localhost:8080/",
          "height": 68
        }
      },
      "source": [
        "# challenge 6\n",
        "\n",
        "input = ['this','is','what','we','call','list','of','strings']\n",
        "\n",
        "def starring(arr):\n",
        "\n",
        "  # sort the array in alphabetical order\n",
        "  arr.sort()\n",
        "  # select the first item\n",
        "  first_word = arr[0]\n",
        "  # select first letter\n",
        "  output = first_word[0]\n",
        "  print(first_word)\n",
        "  print(output)\n",
        "\n",
        "  for item in first_word[1:len(first_word)]: # loop from 1 len of first_word\n",
        "    output = output + '***' + item  \n",
        "  \n",
        "  return output\n",
        "\n",
        "starring(input)"
      ],
      "execution_count": 0,
      "outputs": [
        {
          "output_type": "stream",
          "text": [
            "call\n",
            "c\n"
          ],
          "name": "stdout"
        },
        {
          "output_type": "execute_result",
          "data": {
            "text/plain": [
              "'c***a***l***l'"
            ]
          },
          "metadata": {
            "tags": []
          },
          "execution_count": 5
        }
      ]
    },
    {
      "cell_type": "markdown",
      "metadata": {
        "id": "1nozsWkKvjkr",
        "colab_type": "text"
      },
      "source": [
        "## Session 2\n",
        "\n"
      ]
    },
    {
      "cell_type": "code",
      "metadata": {
        "id": "70m63JAXMUNj",
        "colab_type": "code",
        "outputId": "c6f2dc49-e3a9-4498-d4e5-b9110489d855",
        "colab": {
          "base_uri": "https://localhost:8080/",
          "height": 35
        }
      },
      "source": [
        "# in class\n",
        "\n",
        "sum_range = 0\n",
        "for i in range(1,201):\n",
        "    if i % 9 == 0 or i %5 == 0:\n",
        "        sum_range = sum_range + i\n",
        "print(sum_range)"
      ],
      "execution_count": 0,
      "outputs": [
        {
          "output_type": "stream",
          "text": [
            "5927\n"
          ],
          "name": "stdout"
        }
      ]
    },
    {
      "cell_type": "code",
      "metadata": {
        "id": "4VdFzknhMbcv",
        "colab_type": "code",
        "outputId": "a980cb0b-7c7f-4229-c98e-3e6e3d56d197",
        "colab": {
          "base_uri": "https://localhost:8080/",
          "height": 35
        }
      },
      "source": [
        "# Here we will use the loop method to create a sum variable for our list\n",
        "\n",
        "sum_list = 0\n",
        "for i in range(1, 5):\n",
        "    sum_list = sum_list + i\n",
        "print(sum_list)"
      ],
      "execution_count": 0,
      "outputs": [
        {
          "output_type": "stream",
          "text": [
            "10\n"
          ],
          "name": "stdout"
        }
      ]
    },
    {
      "cell_type": "code",
      "metadata": {
        "id": "o4v3Lfc8vTHy",
        "colab_type": "code",
        "outputId": "54ddc076-ff7e-44cf-e808-085846a1473e",
        "colab": {
          "base_uri": "https://localhost:8080/",
          "height": 35
        }
      },
      "source": [
        "# challenge 1 \n",
        "# Note that we do not use the 'input' method to illustrate that there are other ways to assign a value to the number of nights\n",
        "\n",
        "def hotel_cost(nights):\n",
        "    \n",
        "    price = 140 * nights\n",
        "    return price\n",
        "  \n",
        "hotel_cost(4)"
      ],
      "execution_count": 0,
      "outputs": [
        {
          "output_type": "execute_result",
          "data": {
            "text/plain": [
              "560"
            ]
          },
          "metadata": {
            "tags": []
          },
          "execution_count": 4
        }
      ]
    },
    {
      "cell_type": "code",
      "metadata": {
        "id": "-Abd3XKlvvVD",
        "colab_type": "code",
        "outputId": "b8d8a371-147b-4c85-f425-6fd15dcb2708",
        "colab": {
          "base_uri": "https://localhost:8080/",
          "height": 35
        }
      },
      "source": [
        "# Note that we do not use the 'input' method to illustrate that there are other ways to assign a value to the city\n",
        "def plane_ride_cost(city):\n",
        "    if city == \"Rome\":\n",
        "        return 183\n",
        "    elif city == \"Dublin\":\n",
        "        return 220\n",
        "    elif city == \"Prague\":\n",
        "        return 222\n",
        "    elif city == \"Madrid\":\n",
        "        return 475\n",
        "    else:\n",
        "      return 0\n",
        "    \n",
        "plane_ride_cost(city=\"Dublin\")"
      ],
      "execution_count": 0,
      "outputs": [
        {
          "output_type": "execute_result",
          "data": {
            "text/plain": [
              "220"
            ]
          },
          "metadata": {
            "tags": []
          },
          "execution_count": 5
        }
      ]
    },
    {
      "cell_type": "code",
      "metadata": {
        "id": "Rao8W456vvco",
        "colab_type": "code",
        "outputId": "0f977145-e881-43f3-a2bc-920695726173",
        "colab": {
          "base_uri": "https://localhost:8080/",
          "height": 35
        }
      },
      "source": [
        "# challenge 2\n",
        "# Note that we do not use the 'input' method to illustrate that there are other ways to assign a value to the number of days\n",
        "\n",
        "def rental_car_cost(days):\n",
        "  if days <= 3:\n",
        "    cost = 20 * days\n",
        "  elif days >= 7:\n",
        "    cost = 50 * days\n",
        "  else:\n",
        "    cost = 40 * days\n",
        "  return cost\n",
        "\n",
        "rental_car_cost(5)"
      ],
      "execution_count": 0,
      "outputs": [
        {
          "output_type": "execute_result",
          "data": {
            "text/plain": [
              "200"
            ]
          },
          "metadata": {
            "tags": []
          },
          "execution_count": 6
        }
      ]
    },
    {
      "cell_type": "code",
      "metadata": {
        "id": "yqVCvZwzvvhM",
        "colab_type": "code",
        "outputId": "4f54b642-5056-48f7-d6bc-f940b1e4d9e1",
        "colab": {
          "base_uri": "https://localhost:8080/",
          "height": 35
        }
      },
      "source": [
        "# challenge 3\n",
        "\n",
        "def hotel_cost(nights):\n",
        "    \n",
        "    price = 140 * nights\n",
        "    return price\n",
        "  \n",
        "hotel = hotel_cost(4)\n",
        "\n",
        "\n",
        "def plane_ride_cost(city):\n",
        "    if city == \"Rome\":\n",
        "        return 183\n",
        "    elif city == \"Dublin\":\n",
        "        return 220\n",
        "    elif city == \"Prague\":\n",
        "        return 222\n",
        "    elif city == \"Madrid\":\n",
        "        return 475\n",
        "    else:\n",
        "      return 0\n",
        "    \n",
        "plane_cost = plane_ride_cost(city=\"Dublin\")\n",
        "\n",
        "\n",
        "def rental_car_cost(days):\n",
        "  if days <= 3:\n",
        "    cost = 20 * days\n",
        "  elif days >= 7:\n",
        "    cost = 50 * days\n",
        "  else:\n",
        "    cost = 40 * days\n",
        "  return cost\n",
        "\n",
        "car_costs = rental_car_cost(5)\n",
        "\n",
        "\n",
        "\n",
        "def trip_cost(hotel, plane_cost, car_costs):\n",
        "    return f'your total costs are {hotel + plane_cost + car_costs} euros'\n",
        "\n",
        "\n",
        "trip_cost(hotel, plane_cost, car_costs)\n"
      ],
      "execution_count": 0,
      "outputs": [
        {
          "output_type": "execute_result",
          "data": {
            "text/plain": [
              "'your total costs are 980 euros'"
            ]
          },
          "metadata": {
            "tags": []
          },
          "execution_count": 7
        }
      ]
    },
    {
      "cell_type": "code",
      "metadata": {
        "id": "rRL42GWOvvmM",
        "colab_type": "code",
        "outputId": "aa9c875c-a688-424f-b575-c9a809675f6a",
        "colab": {
          "base_uri": "https://localhost:8080/",
          "height": 52
        }
      },
      "source": [
        "# challenge 4\n",
        "\n",
        "lst = ['Beer', 'Wine', 'Water', 'Scotch', 'Orange juice', 'Milk', 'Red Bull', 'Coffee']\n",
        "\n",
        "# print ['Coffee', 'Milk', 'Scotch']\n",
        "\n",
        "print(lst[:1:-2])\n",
        "\n",
        "# this for example, prints all the even indexes in the list\n",
        "print(lst[::2])"
      ],
      "execution_count": 0,
      "outputs": [
        {
          "output_type": "stream",
          "text": [
            "['Coffee', 'Milk', 'Scotch']\n",
            "['Beer', 'Water', 'Orange juice', 'Red Bull']\n"
          ],
          "name": "stdout"
        }
      ]
    },
    {
      "cell_type": "code",
      "metadata": {
        "id": "WGuOJZl8vvpm",
        "colab_type": "code",
        "outputId": "9fab9e4d-4a84-475f-9213-b90e19e788bb",
        "colab": {
          "base_uri": "https://localhost:8080/",
          "height": 173
        }
      },
      "source": [
        "# challenge 5\n",
        "\n",
        "total_sum = 0\n",
        "a = int(input('What number to you choose? \\n'))\n",
        "while a > 0:\n",
        "  total_sum += a\n",
        "  if total_sum >= 21:\n",
        "    print('Total sum is', total_sum)\n",
        "    break\n",
        "  a = int(input('What number to you choose? \\n'))"
      ],
      "execution_count": 0,
      "outputs": [
        {
          "output_type": "stream",
          "text": [
            "What number to you choose? \n",
            "4\n",
            "What number to you choose? \n",
            "7\n",
            "What number to you choose? \n",
            "6\n",
            "What number to you choose? \n",
            "9\n",
            "Total sum is 26\n"
          ],
          "name": "stdout"
        }
      ]
    },
    {
      "cell_type": "markdown",
      "metadata": {
        "id": "i9XtC1cqIFQi",
        "colab_type": "text"
      },
      "source": [
        "## Session 3\n",
        "\n"
      ]
    },
    {
      "cell_type": "code",
      "metadata": {
        "id": "LI7vIASUBvFZ",
        "colab_type": "code",
        "colab": {}
      },
      "source": [
        "# challenge 1\n",
        "\n",
        "class BankAccount:\n",
        "    def __init__(self):\n",
        "        self.balance = 0\n",
        "\n",
        "    def withdraw(self, amount):\n",
        "        self.balance -= amount\n",
        "        return self.balance\n",
        "\n",
        "    def deposit(self, amount):\n",
        "        self.balance += amount\n",
        "        return self.balance"
      ],
      "execution_count": 0,
      "outputs": []
    },
    {
      "cell_type": "code",
      "metadata": {
        "id": "NJZGlP_uILNt",
        "colab_type": "code",
        "colab": {}
      },
      "source": [
        "# challenge 2\n",
        "\n",
        "bank_1 = BankAccount()\n",
        "bank_2 = BankAccount()"
      ],
      "execution_count": 0,
      "outputs": []
    },
    {
      "cell_type": "code",
      "metadata": {
        "id": "4WflPV1GILWw",
        "colab_type": "code",
        "colab": {}
      },
      "source": [
        "bank_1.deposit(158)\n",
        "bank_1.withdraw(55)\n",
        "bank_1.withdraw(200)"
      ],
      "execution_count": 0,
      "outputs": []
    },
    {
      "cell_type": "code",
      "metadata": {
        "id": "w5I1Te9TILad",
        "colab_type": "code",
        "colab": {}
      },
      "source": [
        "bank_2.withdraw(477)\n",
        "bank_2.deposit(546)\n",
        "bank_2.deposit(37)"
      ],
      "execution_count": 0,
      "outputs": []
    },
    {
      "cell_type": "code",
      "metadata": {
        "id": "5UbYG8GEILd6",
        "colab_type": "code",
        "colab": {}
      },
      "source": [
        "# challenge 3\n",
        "\n",
        "class BankAccount:\n",
        "    def __init__(self, balance):\n",
        "        self.balance = balance\n",
        "\n",
        "    def withdraw(self, amount):|\n",
        "        self.balance -= amount\n",
        "        return self.balance\n",
        "\n",
        "    def deposit(self, amount):\n",
        "        self.balance += amount\n",
        "        return self.balance\n",
        "      \n",
        "    def minimum_balance(self):\n",
        "      if (self.balance) >= 0:\n",
        "        return \"Enough credit\"\n",
        "      else:\n",
        "        return \"Not enough credit\"\n",
        "      \n",
        "c = BankAccount(12)\n",
        "print(c.minimum_balance())"
      ],
      "execution_count": 0,
      "outputs": []
    },
    {
      "cell_type": "markdown",
      "metadata": {
        "id": "X951kxh9CYgS",
        "colab_type": "text"
      },
      "source": [
        "## Session 4"
      ]
    },
    {
      "cell_type": "code",
      "metadata": {
        "id": "4nyEEVg3C8y2",
        "colab_type": "code",
        "colab": {}
      },
      "source": [
        "#In-class exercise #1\n",
        "#Now we want the grades of everyone above an 9.0 or below a 6.0\n",
        "grades[(grades.grade>9.0) | (grades.grade<6.0)] "
      ],
      "execution_count": 0,
      "outputs": []
    },
    {
      "cell_type": "code",
      "metadata": {
        "id": "kc-tnsBOC8qr",
        "colab_type": "code",
        "colab": {}
      },
      "source": [
        "#In-class exercise #2\n",
        "# If we want to find out what score the first student got on test_2 we can simply write the following command:\n",
        "print(test_2[0])\n",
        "# This prints the first score in our sample for test_2\n",
        "# You can double check by printing the entire array for test_2 like this:\n",
        "print(test_2)"
      ],
      "execution_count": 0,
      "outputs": []
    },
    {
      "cell_type": "code",
      "metadata": {
        "id": "5IoK7MwzCYmd",
        "colab_type": "code",
        "colab": {}
      },
      "source": [
        "#Challenge 1\n",
        "# As you may have noticed, you do not need a for loop to solve this problem.\n",
        "temperatures_fixed = temperatures + 2\n",
        "print(temperatures_fixed)"
      ],
      "execution_count": 0,
      "outputs": []
    },
    {
      "cell_type": "code",
      "metadata": {
        "id": "0bt9S_iECYzV",
        "colab_type": "code",
        "colab": {}
      },
      "source": [
        "#Challenge 2\n",
        "thursday_afternoon = temperatures_fixed[1,3]\n",
        "print(thursday_afternoon)"
      ],
      "execution_count": 0,
      "outputs": []
    },
    {
      "cell_type": "code",
      "metadata": {
        "id": "7AaHaJZqCY2k",
        "colab_type": "code",
        "colab": {}
      },
      "source": [
        "#Challenge 3\n",
        "temperatures_extremes = temperatures_fixed[(temperatures_fixed>20) | (temperatures_fixed < 5)]\n",
        "print(temperatures_extremes)"
      ],
      "execution_count": 0,
      "outputs": []
    },
    {
      "cell_type": "code",
      "metadata": {
        "id": "KoZPP9RtCY5e",
        "colab_type": "code",
        "colab": {}
      },
      "source": [
        "#Challenge 4\n",
        "temperatures_average = (temperatures_fixed + temperatures2)/2\n",
        "print(temperatures_average)"
      ],
      "execution_count": 0,
      "outputs": []
    },
    {
      "cell_type": "code",
      "metadata": {
        "id": "XzRtCwkBCgNq",
        "colab_type": "code",
        "colab": {}
      },
      "source": [
        "#Challenge 5\n",
        "temperatures_average_transpose = temperatures_average.transpose()\n",
        "\n",
        "temperatures_average_wednesday = temperatures_average_transpose[2,:]\n",
        "\n",
        "print(temperatures_average_wednesday)"
      ],
      "execution_count": 0,
      "outputs": []
    },
    {
      "cell_type": "code",
      "metadata": {
        "id": "95AxjEUOCgRu",
        "colab_type": "code",
        "colab": {}
      },
      "source": [
        "#Challenge 6\n",
        "#One way to solve this challenge\n",
        "newrow = [6,5,3]\n",
        "temperatures_average_transpose_new_row = np.vstack([temperatures_average_transpose, newrow])\n",
        "print(temperatures_average_transpose_new_row)"
      ],
      "execution_count": 0,
      "outputs": []
    },
    {
      "cell_type": "code",
      "metadata": {
        "id": "6rY0Q8A8CgVN",
        "colab_type": "code",
        "colab": {}
      },
      "source": [
        "#Challenge 7\n",
        "np.arange(285, 12, -13)"
      ],
      "execution_count": 0,
      "outputs": []
    },
    {
      "cell_type": "markdown",
      "metadata": {
        "id": "uqB-MwvoAkKt",
        "colab_type": "text"
      },
      "source": [
        "## Session 5\n"
      ]
    },
    {
      "cell_type": "code",
      "metadata": {
        "id": "-60-PRMRAl14",
        "colab_type": "code",
        "colab": {}
      },
      "source": [
        "# challenge 1\n",
        "\n",
        "# list of attendees\n",
        "present = [102, 101, 79,96]\n",
        "# num absent students\n",
        "absent = [25,26,48,31]\n",
        "\n",
        "# x axis\n",
        "sessions = ['1','2','3','4']\n",
        "\n",
        "new_df = pd.DataFrame({'present': present,'absent': absent}, index=sessions)\n",
        "\n",
        "plot_it = new_df.plot.bar(rot=0, x_)"
      ],
      "execution_count": 0,
      "outputs": []
    },
    {
      "cell_type": "code",
      "metadata": {
        "id": "W2tGHxI_AnBS",
        "colab_type": "code",
        "colab": {}
      },
      "source": [
        "# challenge 2\n",
        "# get age question\n",
        "age = df['Q2'].iloc[1:]\n",
        "age = age.value_counts()[:10].plot('bar', figsize=(20,6),rot=0, fontsize=12,\n",
        "                                            title='Age of the respondents')"
      ],
      "execution_count": 0,
      "outputs": []
    },
    {
      "cell_type": "code",
      "metadata": {
        "id": "TCXxwHjlAnDi",
        "colab_type": "code",
        "colab": {}
      },
      "source": [
        "# challenge 3\n",
        "all_countries = df['Q3'] \n",
        "\n",
        "# No people from Moldova, sad, but used Romania instead\n",
        "romanians = all_countries == 'Romania'\n",
        "\n",
        "share = sum(romanians)/len(all_countries)\n",
        "print(f'There were {share*100} % of Romanians')"
      ],
      "execution_count": 0,
      "outputs": []
    },
    {
      "cell_type": "code",
      "metadata": {
        "id": "6qidEqqDAnGc",
        "colab_type": "code",
        "colab": {}
      },
      "source": [
        "# challenge 4\n",
        "\n",
        "# changed to >> find the range of the median\n",
        "\n",
        "\n",
        "earnings = df['Q9'].iloc[1:]\n",
        "\n",
        "earnings_wo = earnings[earnings != 'I do not wish to disclose my approximate yearly compensation']\n",
        "\n",
        "\n",
        "earnings_visualized = earnings_wo.value_counts()[:30].plot('barh', figsize=(10,6),rot=0, fontsize=10,\n",
        "                                            title='Income of the respondents')\n",
        "\n",
        "# median is the middle value or ordered list\n",
        "\n",
        "print(f'There were {len(earnings_wo)} respondents in total\\n')\n",
        "\n",
        "resp = len(earnings_wo)\n",
        "print(f'median is number {resp/2}')\n",
        "\n",
        "\n",
        "val = earnings_wo.value_counts()\n",
        "\n",
        "print(val)\n",
        "\n",
        "# check in which range the median is\n",
        "print(4398 + 1937 + 1395 + 1119+ 965)\n",
        "\n",
        "# so the median is in category 40-50.000\n"
      ],
      "execution_count": 0,
      "outputs": []
    }
  ]
}