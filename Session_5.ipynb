{
  "nbformat": 4,
  "nbformat_minor": 0,
  "metadata": {
    "colab": {
      "name": "Session_5.ipynb",
      "provenance": [],
      "collapsed_sections": [
        "L2g8TjONW3Yt",
        "gqxXorUat0Iy"
      ]
    },
    "kernelspec": {
      "name": "python3",
      "display_name": "Python 3"
    },
    "accelerator": "GPU"
  },
  "cells": [
    {
      "cell_type": "markdown",
      "metadata": {
        "id": "R3ss1RLg-LGO",
        "colab_type": "text"
      },
      "source": [
        "# Week 2\n",
        "\n",
        "## Session 5 Data Visualisation\n",
        "\n",
        "Outline\n",
        "\n",
        "- Charts and variables\n",
        "- Plot data with matplotlib\n",
        "- Exploring a big dataset\n",
        "- Visualising features of the data\n",
        "\n",
        "\n",
        "\n",
        "![alt text](https://imgs.xkcd.com/comics/extrapolating.png)"
      ]
    },
    {
      "cell_type": "markdown",
      "metadata": {
        "id": "kx_i5magCFP4",
        "colab_type": "text"
      },
      "source": [
        "## Motivation\n"
      ]
    },
    {
      "cell_type": "markdown",
      "metadata": {
        "id": "LGPKgV4ACyrT",
        "colab_type": "text"
      },
      "source": [
        "Being able to visualise your data properly is very important in data science. It is usually the first step in the data analysis process, whether the end goal is to do A/B testing or machine learning.\n",
        "\n",
        "We humans are often just better at interpreting something when we can see it. Before you are able to do useful work with a dataset, you need to know how the data looks like. Visualising the data will give you an intuitive understanding of the features and distributions of the data, that then help you to work more effectively with the data itself.\n",
        "\n",
        "In the last session, we saw that using third party libraries such as pandas and numpy can help us to do much more in fewer lines of code. For visualising data you will need two main libraries: `pandas` and `matplotlib` .\n"
      ]
    },
    {
      "cell_type": "markdown",
      "metadata": {
        "id": "ZwQtA_IRX_xY",
        "colab_type": "text"
      },
      "source": [
        "## Matplotlib\n",
        "\n",
        "Matplotlib is a very popular visualisation library for Python. It is very easy and intuitive to use. Using Matplotlib we can make all kinds of visualisations such as line charts, bar charts and histograms.\n",
        "\n",
        "Which type of chart we should use depends on the type of data."
      ]
    },
    {
      "cell_type": "markdown",
      "metadata": {
        "id": "ibITBysIUeXI",
        "colab_type": "text"
      },
      "source": [
        "<table>\n",
        "  \n",
        "<tr>\n",
        "<td><img src=\"https://i.imgur.com/skaZPhb.png\" width=\"350px\" height='180px'/></td>\n",
        "<td><img src=\"https://i.imgur.com/gaNttYd.png\" width=\"350px\" height='180px'/></td>\n",
        "<td><img src=\"https://i.imgur.com/pampioh.png\" width=\"350px\" height='180px'/></td>\n",
        "<td><img src=\"https://i.imgur.com/OSbuszd.png\" width=\"350px\" height='180px'/></td>\n",
        " </tr>\n",
        "\n",
        "<tr>\n",
        "<td style=\"font-weight:bold; font-size:16px;\">Bar Chat</td>\n",
        "<td style=\"font-weight:bold; font-size:16px;\">Line Chart</td>\n",
        "<td style=\"font-weight:bold; font-size:16px;\">Area Chart</td>\n",
        "<td style=\"font-weight:bold; font-size:16px;\">Histogram</td>\n",
        "</tr>\n",
        "  \n",
        "<tr>\n",
        "<td>df.plot.bar()</td>\n",
        "<td>df.plot.line()</td>\n",
        "<td>df.plot.area()</td>\n",
        "<td>df.plot.hist()</td>\n",
        "</tr>\n",
        "  \n",
        "<tr>\n",
        "<td>Good for nominal and small ordinal categorical data.</td>\n",
        "<td>Good for ordinal categorical and interval data.</td>\n",
        "<td>Good for ordinal categorical and interval data.</td>\n",
        "<td>Good for interval data.</td>\n",
        "  \n",
        "</tr>\n",
        "  \n",
        "</table>\n",
        "[credits to kaggle ](https://www.kaggle.com/residentmario/univariate-plotting-with-pandas)"
      ]
    },
    {
      "cell_type": "markdown",
      "metadata": {
        "id": "-qr0ea4Z69VK",
        "colab_type": "text"
      },
      "source": [
        "###  Recap from statistics 101\n",
        "\n",
        "Know your variables\n",
        "\n",
        "![alt text](http://my.ilstu.edu/~wjschne/138/Stevens.png)\n",
        "\n",
        "\n",
        "---\n",
        "\n",
        "\n",
        "**Nominal variables.**  when there are 2 or more categories, but there is no specific order. The data can be distinguished into clear categories but you can not rank them. Take coffee: we have black, cappucino, latte and espresso. Clearly different types of coffee, but there is no order.\n",
        "\n",
        "**Ordinal. ** these are similar to nominal variables, clearly distinct categories but now there is no clear order. Think about a question like: how satisfied are you with your coffee? Answer: dissatisfied, satisfied, neutral or extremely satisfied. \n",
        "\n",
        "**Interval** these are more quantitative. Let's say we have a variable including the price of a coffee. People that buy their coffee at Starbucks will pay > 3 euro's while at Spar it is only 1 euro. These variables are more quantitative. We can measure the distance between different datapoints. (i.e. 1 - 2 has a smaller difference than 2 - 4)\n",
        "\n",
        "\n",
        "\n"
      ]
    },
    {
      "cell_type": "markdown",
      "metadata": {
        "id": "NC_FCMMgnCMS",
        "colab_type": "text"
      },
      "source": [
        "## Line Charts"
      ]
    },
    {
      "cell_type": "code",
      "metadata": {
        "id": "KfqkKML_X_LZ",
        "colab_type": "code",
        "colab": {}
      },
      "source": [
        "# import matplotlib\n",
        "from matplotlib import pyplot as plt\n",
        "import pandas as pd\n",
        "import numpy as np"
      ],
      "execution_count": 0,
      "outputs": []
    },
    {
      "cell_type": "code",
      "metadata": {
        "id": "YcRQPtJEZyb7",
        "colab_type": "code",
        "outputId": "a885f773-613a-4f06-c4f3-d60d150679d1",
        "colab": {
          "base_uri": "https://localhost:8080/",
          "height": 347
        }
      },
      "source": [
        "# plot something\n",
        "plt.plot([1,2,3],[2,4,6]);"
      ],
      "execution_count": 0,
      "outputs": [
        {
          "output_type": "display_data",
          "data": {
            "image/png": "[encoded data removed]",
            "text/plain": [
              "<Figure size 576x396 with 1 Axes>"
            ]
          },
          "metadata": {
            "tags": []
          }
        }
      ]
    },
    {
      "cell_type": "markdown",
      "metadata": {
        "id": "GYflYwXuaST0",
        "colab_type": "text"
      },
      "source": [
        "easy isn't it?"
      ]
    },
    {
      "cell_type": "code",
      "metadata": {
        "id": "yOF-KI8VZyj3",
        "colab_type": "code",
        "outputId": "fa789862-37f4-461a-cbf0-915c459c3e38",
        "colab": {
          "base_uri": "https://localhost:8080/",
          "height": 347
        }
      },
      "source": [
        "# plot something\n",
        "plt.plot([1,2,3],[2,4,6])\n",
        "# add another line\n",
        "plt.plot([3,4,5],[1,3,8])\n",
        "# add a legend\n",
        "plt.legend(['a line','another line'])\n",
        "plt.show()"
      ],
      "execution_count": 0,
      "outputs": [
        {
          "output_type": "display_data",
          "data": {
            "image/png": "[encoded data removed]",
            "text/plain": [
              "<Figure size 576x396 with 1 Axes>"
            ]
          },
          "metadata": {
            "tags": []
          }
        }
      ]
    },
    {
      "cell_type": "markdown",
      "metadata": {
        "id": "ElNXBzkxc38i",
        "colab_type": "text"
      },
      "source": [
        "We create some dummy data. What if we wanted to track how student behaviour changes related to how many weeks before the exam it is. We have 3 variables; the weeks before the exam, how many nights per week people go out on average, and the average coffee consumption per day.\n"
      ]
    },
    {
      "cell_type": "code",
      "metadata": {
        "id": "Frj6-tWkZynP",
        "colab_type": "code",
        "colab": {}
      },
      "source": [
        "# create some data\n",
        "data = {'weeks_into_semester':[4,5,6,7],\n",
        "        'avg_nights_out':[3,2,1,0],\n",
        "        'avg_coffee_consumption':[0,1,2,4]}\n",
        "\n",
        "# store data in pandas df\n",
        "df = pd.DataFrame(data)"
      ],
      "execution_count": 0,
      "outputs": []
    },
    {
      "cell_type": "code",
      "metadata": {
        "id": "jiJZ0ZonctlC",
        "colab_type": "code",
        "outputId": "cf9ede0b-0c41-4b73-9f2f-cec4dacadb8f",
        "colab": {
          "base_uri": "https://localhost:8080/",
          "height": 173
        }
      },
      "source": [
        "df"
      ],
      "execution_count": 0,
      "outputs": [
        {
          "output_type": "execute_result",
          "data": {
            "text/html": [
              "<div>\n",
              "<style scoped>\n",
              "    .dataframe tbody tr th:only-of-type {\n",
              "        vertical-align: middle;\n",
              "    }\n",
              "\n",
              "    .dataframe tbody tr th {\n",
              "        vertical-align: top;\n",
              "    }\n",
              "\n",
              "    .dataframe thead th {\n",
              "        text-align: right;\n",
              "    }\n",
              "</style>\n",
              "<table border=\"1\" class=\"dataframe\">\n",
              "  <thead>\n",
              "    <tr style=\"text-align: right;\">\n",
              "      <th></th>\n",
              "      <th>avg_coffee_consumption</th>\n",
              "      <th>avg_nights_out</th>\n",
              "      <th>weeks_into_semester</th>\n",
              "    </tr>\n",
              "  </thead>\n",
              "  <tbody>\n",
              "    <tr>\n",
              "      <th>0</th>\n",
              "      <td>0</td>\n",
              "      <td>3</td>\n",
              "      <td>4</td>\n",
              "    </tr>\n",
              "    <tr>\n",
              "      <th>1</th>\n",
              "      <td>1</td>\n",
              "      <td>2</td>\n",
              "      <td>5</td>\n",
              "    </tr>\n",
              "    <tr>\n",
              "      <th>2</th>\n",
              "      <td>2</td>\n",
              "      <td>1</td>\n",
              "      <td>6</td>\n",
              "    </tr>\n",
              "    <tr>\n",
              "      <th>3</th>\n",
              "      <td>4</td>\n",
              "      <td>0</td>\n",
              "      <td>7</td>\n",
              "    </tr>\n",
              "  </tbody>\n",
              "</table>\n",
              "</div>"
            ],
            "text/plain": [
              "   avg_coffee_consumption  avg_nights_out  weeks_into_semester\n",
              "0                       0               3                    4\n",
              "1                       1               2                    5\n",
              "2                       2               1                    6\n",
              "3                       4               0                    7"
            ]
          },
          "metadata": {
            "tags": []
          },
          "execution_count": 33
        }
      ]
    },
    {
      "cell_type": "code",
      "metadata": {
        "id": "hM89QcbDdcyg",
        "colab_type": "code",
        "outputId": "d614bc25-7960-4248-d72c-dde78f3d3b2c",
        "colab": {
          "base_uri": "https://localhost:8080/",
          "height": 361
        }
      },
      "source": [
        "# plot avg coffee consumption on x axis, weeks before on y axis\n",
        "plt.plot(df['avg_coffee_consumption'],df['weeks_into_semester'])\n",
        "plt.plot(df['avg_nights_out'],df['weeks_into_semester'])\n",
        "\n",
        "# put weeks on x axis, effectively flip the graph\n",
        "plt.xlabel('weeks into semester')\n",
        "\n",
        "# add a legend\n",
        "plt.legend(['coffee consumption','nights going out'])\n",
        "plt.show()"
      ],
      "execution_count": 0,
      "outputs": [
        {
          "output_type": "display_data",
          "data": {
            "image/png": "[encoded data removed]",
            "text/plain": [
              "<Figure size 576x396 with 1 Axes>"
            ]
          },
          "metadata": {
            "tags": []
          }
        }
      ]
    },
    {
      "cell_type": "markdown",
      "metadata": {
        "id": "vuChO_XSqL-a",
        "colab_type": "text"
      },
      "source": [
        "## Visualising attendance of PFD"
      ]
    },
    {
      "cell_type": "code",
      "metadata": {
        "id": "HYTSBQq9oITw",
        "colab_type": "code",
        "outputId": "88de7be8-3f46-464d-ceef-ee2266c5fcca",
        "colab": {
          "resources": {
            "http://localhost:8080/nbextensions/google.colab/files.js": {
              "data": "Ly8gQ29weXJpZ2h0IDIwMTcgR29vZ2xlIExMQwovLwovLyBMaWNlbnNlZCB1bmRlciB0aGUgQXBhY2hlIExpY2Vuc2UsIFZlcnNpb24gMi4wICh0aGUgIkxpY2Vuc2UiKTsKLy8geW91IG1heSBub3QgdXNlIHRoaXMgZmlsZSBleGNlcHQgaW4gY29tcGxpYW5jZSB3aXRoIHRoZSBMaWNlbnNlLgovLyBZb3UgbWF5IG9idGFpbiBhIGNvcHkgb2YgdGhlIExpY2Vuc2UgYXQKLy8KLy8gICAgICBodHRwOi8vd3d3LmFwYWNoZS5vcmcvbGljZW5zZXMvTElDRU5TRS0yLjAKLy8KLy8gVW5sZXNzIHJlcXVpcmVkIGJ5IGFwcGxpY2FibGUgbGF3IG9yIGFncmVlZCB0byBpbiB3cml0aW5nLCBzb2Z0d2FyZQovLyBkaXN0cmlidXRlZCB1bmRlciB0aGUgTGljZW5zZSBpcyBkaXN0cmlidXRlZCBvbiBhbiAiQVMgSVMiIEJBU0lTLAovLyBXSVRIT1VUIFdBUlJBTlRJRVMgT1IgQ09ORElUSU9OUyBPRiBBTlkgS0lORCwgZWl0aGVyIGV4cHJlc3Mgb3IgaW1wbGllZC4KLy8gU2VlIHRoZSBMaWNlbnNlIGZvciB0aGUgc3BlY2lmaWMgbGFuZ3VhZ2UgZ292ZXJuaW5nIHBlcm1pc3Npb25zIGFuZAovLyBsaW1pdGF0aW9ucyB1bmRlciB0aGUgTGljZW5zZS4KCi8qKgogKiBAZmlsZW92ZXJ2aWV3IEhlbHBlcnMgZm9yIGdvb2dsZS5jb2xhYiBQeXRob24gbW9kdWxlLgogKi8KKGZ1bmN0aW9uKHNjb3BlKSB7CmZ1bmN0aW9uIHNwYW4odGV4dCwgc3R5bGVBdHRyaWJ1dGVzID0ge30pIHsKICBjb25zdCBlbGVtZW50ID0gZG9jdW1lbnQuY3JlYXRlRWxlbWVudCgnc3BhbicpOwogIGVsZW1lbnQudGV4dENvbnRlbnQgPSB0ZXh0OwogIGZvciAoY29uc3Qga2V5IG9mIE9iamVjdC5rZXlzKHN0eWxlQXR0cmlidXRlcykpIHsKICAgIGVsZW1lbnQuc3R5bGVba2V5XSA9IHN0eWxlQXR0cmlidXRlc1trZXldOwogIH0KICByZXR1cm4gZWxlbWVudDsKfQoKLy8gTWF4IG51bWJlciBvZiBieXRlcyB3aGljaCB3aWxsIGJlIHVwbG9hZGVkIGF0IGEgdGltZS4KY29uc3QgTUFYX1BBWUxPQURfU0laRSA9IDEwMCAqIDEwMjQ7Ci8vIE1heCBhbW91bnQgb2YgdGltZSB0byBibG9jayB3YWl0aW5nIGZvciB0aGUgdXNlci4KY29uc3QgRklMRV9DSEFOR0VfVElNRU9VVF9NUyA9IDMwICogMTAwMDsKCmZ1bmN0aW9uIF91cGxvYWRGaWxlcyhpbnB1dElkLCBvdXRwdXRJZCkgewogIGNvbnN0IHN0ZXBzID0gdXBsb2FkRmlsZXNTdGVwKGlucHV0SWQsIG91dHB1dElkKTsKICBjb25zdCBvdXRwdXRFbGVtZW50ID0gZG9jdW1lbnQuZ2V0RWxlbWVudEJ5SWQob3V0cHV0SWQpOwogIC8vIENhY2hlIHN0ZXBzIG9uIHRoZSBvdXRwdXRFbGVtZW50IHRvIG1ha2UgaXQgYXZhaWxhYmxlIGZvciB0aGUgbmV4dCBjYWxsCiAgLy8gdG8gdXBsb2FkRmlsZXNDb250aW51ZSBmcm9tIFB5dGhvbi4KICBvdXRwdXRFbGVtZW50LnN0ZXBzID0gc3RlcHM7CgogIHJldHVybiBfdXBsb2FkRmlsZXNDb250aW51ZShvdXRwdXRJZCk7Cn0KCi8vIFRoaXMgaXMgcm91Z2hseSBhbiBhc3luYyBnZW5lcmF0b3IgKG5vdCBzdXBwb3J0ZWQgaW4gdGhlIGJyb3dzZXIgeWV0KSwKLy8gd2hlcmUgdGhlcmUgYXJlIG11bHRpcGxlIGFzeW5jaHJvbm91cyBzdGVwcyBhbmQgdGhlIFB5dGhvbiBzaWRlIGlzIGdvaW5nCi8vIHRvIHBvbGwgZm9yIGNvbXBsZXRpb24gb2YgZWFjaCBzdGVwLgovLyBUaGlzIHVzZXMgYSBQcm9taXNlIHRvIGJsb2NrIHRoZSBweXRob24gc2lkZSBvbiBjb21wbGV0aW9uIG9mIGVhY2ggc3RlcCwKLy8gdGhlbiBwYXNzZXMgdGhlIHJlc3VsdCBvZiB0aGUgcHJldmlvdXMgc3RlcCBhcyB0aGUgaW5wdXQgdG8gdGhlIG5leHQgc3RlcC4KZnVuY3Rpb24gX3VwbG9hZEZpbGVzQ29udGludWUob3V0cHV0SWQpIHsKICBjb25zdCBvdXRwdXRFbGVtZW50ID0gZG9jdW1lbnQuZ2V0RWxlbWVudEJ5SWQob3V0cHV0SWQpOwogIGNvbnN0IHN0ZXBzID0gb3V0cHV0RWxlbWVudC5zdGVwczsKCiAgY29uc3QgbmV4dCA9IHN0ZXBzLm5leHQob3V0cHV0RWxlbWVudC5sYXN0UHJvbWlzZVZhbHVlKTsKICByZXR1cm4gUHJvbWlzZS5yZXNvbHZlKG5leHQudmFsdWUucHJvbWlzZSkudGhlbigodmFsdWUpID0+IHsKICAgIC8vIENhY2hlIHRoZSBsYXN0IHByb21pc2UgdmFsdWUgdG8gbWFrZSBpdCBhdmFpbGFibGUgdG8gdGhlIG5leHQKICAgIC8vIHN0ZXAgb2YgdGhlIGdlbmVyYXRvci4KICAgIG91dHB1dEVsZW1lbnQubGFzdFByb21pc2VWYWx1ZSA9IHZhbHVlOwogICAgcmV0dXJuIG5leHQudmFsdWUucmVzcG9uc2U7CiAgfSk7Cn0KCi8qKgogKiBHZW5lcmF0b3IgZnVuY3Rpb24gd2hpY2ggaXMgY2FsbGVkIGJldHdlZW4gZWFjaCBhc3luYyBzdGVwIG9mIHRoZSB1cGxvYWQKICogcHJvY2Vzcy4KICogQHBhcmFtIHtzdHJpbmd9IGlucHV0SWQgRWxlbWVudCBJRCBvZiB0aGUgaW5wdXQgZmlsZSBwaWNrZXIgZWxlbWVudC4KICogQHBhcmFtIHtzdHJpbmd9IG91dHB1dElkIEVsZW1lbnQgSUQgb2YgdGhlIG91dHB1dCBkaXNwbGF5LgogKiBAcmV0dXJuIHshSXRlcmFibGU8IU9iamVjdD59IEl0ZXJhYmxlIG9mIG5leHQgc3RlcHMuCiAqLwpmdW5jdGlvbiogdXBsb2FkRmlsZXNTdGVwKGlucHV0SWQsIG91dHB1dElkKSB7CiAgY29uc3QgaW5wdXRFbGVtZW50ID0gZG9jdW1lbnQuZ2V0RWxlbWVudEJ5SWQoaW5wdXRJZCk7CiAgaW5wdXRFbGVtZW50LmRpc2FibGVkID0gZmFsc2U7CgogIGNvbnN0IG91dHB1dEVsZW1lbnQgPSBkb2N1bWVudC5nZXRFbGVtZW50QnlJZChvdXRwdXRJZCk7CiAgb3V0cHV0RWxlbWVudC5pbm5lckhUTUwgPSAnJzsKCiAgY29uc3QgcGlja2VkUHJvbWlzZSA9IG5ldyBQcm9taXNlKChyZXNvbHZlKSA9PiB7CiAgICBpbnB1dEVsZW1lbnQuYWRkRXZlbnRMaXN0ZW5lcignY2hhbmdlJywgKGUpID0+IHsKICAgICAgcmVzb2x2ZShlLnRhcmdldC5maWxlcyk7CiAgICB9KTsKICB9KTsKCiAgY29uc3QgY2FuY2VsID0gZG9jdW1lbnQuY3JlYXRlRWxlbWVudCgnYnV0dG9uJyk7CiAgaW5wdXRFbGVtZW50LnBhcmVudEVsZW1lbnQuYXBwZW5kQ2hpbGQoY2FuY2VsKTsKICBjYW5jZWwudGV4dENvbnRlbnQgPSAnQ2FuY2VsIHVwbG9hZCc7CiAgY29uc3QgY2FuY2VsUHJvbWlzZSA9IG5ldyBQcm9taXNlKChyZXNvbHZlKSA9PiB7CiAgICBjYW5jZWwub25jbGljayA9ICgpID0+IHsKICAgICAgcmVzb2x2ZShudWxsKTsKICAgIH07CiAgfSk7CgogIC8vIENhbmNlbCB1cGxvYWQgaWYgdXNlciBoYXNuJ3QgcGlja2VkIGFueXRoaW5nIGluIHRpbWVvdXQuCiAgY29uc3QgdGltZW91dFByb21pc2UgPSBuZXcgUHJvbWlzZSgocmVzb2x2ZSkgPT4gewogICAgc2V0VGltZW91dCgoKSA9PiB7CiAgICAgIHJlc29sdmUobnVsbCk7CiAgICB9LCBGSUxFX0NIQU5HRV9USU1FT1VUX01TKTsKICB9KTsKCiAgLy8gV2FpdCBmb3IgdGhlIHVzZXIgdG8gcGljayB0aGUgZmlsZXMuCiAgY29uc3QgZmlsZXMgPSB5aWVsZCB7CiAgICBwcm9taXNlOiBQcm9taXNlLnJhY2UoW3BpY2tlZFByb21pc2UsIHRpbWVvdXRQcm9taXNlLCBjYW5jZWxQcm9taXNlXSksCiAgICByZXNwb25zZTogewogICAgICBhY3Rpb246ICdzdGFydGluZycsCiAgICB9CiAgfTsKCiAgaWYgKCFmaWxlcykgewogICAgcmV0dXJuIHsKICAgICAgcmVzcG9uc2U6IHsKICAgICAgICBhY3Rpb246ICdjb21wbGV0ZScsCiAgICAgIH0KICAgIH07CiAgfQoKICBjYW5jZWwucmVtb3ZlKCk7CgogIC8vIERpc2FibGUgdGhlIGlucHV0IGVsZW1lbnQgc2luY2UgZnVydGhlciBwaWNrcyBhcmUgbm90IGFsbG93ZWQuCiAgaW5wdXRFbGVtZW50LmRpc2FibGVkID0gdHJ1ZTsKCiAgZm9yIChjb25zdCBmaWxlIG9mIGZpbGVzKSB7CiAgICBjb25zdCBsaSA9IGRvY3VtZW50LmNyZWF0ZUVsZW1lbnQoJ2xpJyk7CiAgICBsaS5hcHBlbmQoc3BhbihmaWxlLm5hbWUsIHtmb250V2VpZ2h0OiAnYm9sZCd9KSk7CiAgICBsaS5hcHBlbmQoc3BhbigKICAgICAgICBgKCR7ZmlsZS50eXBlIHx8ICduL2EnfSkgLSAke2ZpbGUuc2l6ZX0gYnl0ZXMsIGAgKwogICAgICAgIGBsYXN0IG1vZGlmaWVkOiAkewogICAgICAgICAgICBmaWxlLmxhc3RNb2RpZmllZERhdGUgPyBmaWxlLmxhc3RNb2RpZmllZERhdGUudG9Mb2NhbGVEYXRlU3RyaW5nKCkgOgogICAgICAgICAgICAgICAgICAgICAgICAgICAgICAgICAgICAnbi9hJ30gLSBgKSk7CiAgICBjb25zdCBwZXJjZW50ID0gc3BhbignMCUgZG9uZScpOwogICAgbGkuYXBwZW5kQ2hpbGQocGVyY2VudCk7CgogICAgb3V0cHV0RWxlbWVudC5hcHBlbmRDaGlsZChsaSk7CgogICAgY29uc3QgZmlsZURhdGFQcm9taXNlID0gbmV3IFByb21pc2UoKHJlc29sdmUpID0+IHsKICAgICAgY29uc3QgcmVhZGVyID0gbmV3IEZpbGVSZWFkZXIoKTsKICAgICAgcmVhZGVyLm9ubG9hZCA9IChlKSA9PiB7CiAgICAgICAgcmVzb2x2ZShlLnRhcmdldC5yZXN1bHQpOwogICAgICB9OwogICAgICByZWFkZXIucmVhZEFzQXJyYXlCdWZmZXIoZmlsZSk7CiAgICB9KTsKICAgIC8vIFdhaXQgZm9yIHRoZSBkYXRhIHRvIGJlIHJlYWR5LgogICAgbGV0IGZpbGVEYXRhID0geWllbGQgewogICAgICBwcm9taXNlOiBmaWxlRGF0YVByb21pc2UsCiAgICAgIHJlc3BvbnNlOiB7CiAgICAgICAgYWN0aW9uOiAnY29udGludWUnLAogICAgICB9CiAgICB9OwoKICAgIC8vIFVzZSBhIGNodW5rZWQgc2VuZGluZyB0byBhdm9pZCBtZXNzYWdlIHNpemUgbGltaXRzLiBTZWUgYi82MjExNTY2MC4KICAgIGxldCBwb3NpdGlvbiA9IDA7CiAgICB3aGlsZSAocG9zaXRpb24gPCBmaWxlRGF0YS5ieXRlTGVuZ3RoKSB7CiAgICAgIGNvbnN0IGxlbmd0aCA9IE1hdGgubWluKGZpbGVEYXRhLmJ5dGVMZW5ndGggLSBwb3NpdGlvbiwgTUFYX1BBWUxPQURfU0laRSk7CiAgICAgIGNvbnN0IGNodW5rID0gbmV3IFVpbnQ4QXJyYXkoZmlsZURhdGEsIHBvc2l0aW9uLCBsZW5ndGgpOwogICAgICBwb3NpdGlvbiArPSBsZW5ndGg7CgogICAgICBjb25zdCBiYXNlNjQgPSBidG9hKFN0cmluZy5mcm9tQ2hhckNvZGUuYXBwbHkobnVsbCwgY2h1bmspKTsKICAgICAgeWllbGQgewogICAgICAgIHJlc3BvbnNlOiB7CiAgICAgICAgICBhY3Rpb246ICdhcHBlbmQnLAogICAgICAgICAgZmlsZTogZmlsZS5uYW1lLAogICAgICAgICAgZGF0YTogYmFzZTY0LAogICAgICAgIH0sCiAgICAgIH07CiAgICAgIHBlcmNlbnQudGV4dENvbnRlbnQgPQogICAgICAgICAgYCR7TWF0aC5yb3VuZCgocG9zaXRpb24gLyBmaWxlRGF0YS5ieXRlTGVuZ3RoKSAqIDEwMCl9JSBkb25lYDsKICAgIH0KICB9CgogIC8vIEFsbCBkb25lLgogIHlpZWxkIHsKICAgIHJlc3BvbnNlOiB7CiAgICAgIGFjdGlvbjogJ2NvbXBsZXRlJywKICAgIH0KICB9Owp9CgpzY29wZS5nb29nbGUgPSBzY29wZS5nb29nbGUgfHwge307CnNjb3BlLmdvb2dsZS5jb2xhYiA9IHNjb3BlLmdvb2dsZS5jb2xhYiB8fCB7fTsKc2NvcGUuZ29vZ2xlLmNvbGFiLl9maWxlcyA9IHsKICBfdXBsb2FkRmlsZXMsCiAgX3VwbG9hZEZpbGVzQ29udGludWUsCn07Cn0pKHNlbGYpOwo=",
              "ok": true,
              "headers": [
                [
                  "content-type",
                  "application/javascript"
                ]
              ],
              "status": 200,
              "status_text": ""
            }
          },
          "base_uri": "https://localhost:8080/",
          "height": 86
        }
      },
      "source": [
        "from google.colab import files\n",
        "\n",
        "uploaded = files.upload()\n",
        "\n",
        "for fn in uploaded.keys():\n",
        "  print('User uploaded file \"{name}\" with length {length} bytes'.format(\n",
        "      name=fn, length=len(uploaded[fn])))\n",
        " "
      ],
      "execution_count": 0,
      "outputs": [
        {
          "output_type": "display_data",
          "data": {
            "text/html": [
              "\n",
              "     <input type=\"file\" id=\"files-3e518f02-f80f-444b-89ed-3f432cce9b15\" name=\"files[]\" multiple disabled />\n",
              "     <output id=\"result-3e518f02-f80f-444b-89ed-3f432cce9b15\">\n",
              "      Upload widget is only available when the cell has been executed in the\n",
              "      current browser session. Please rerun this cell to enable.\n",
              "      </output>\n",
              "      <script src=\"/nbextensions/google.colab/files.js\"></script> "
            ],
            "text/plain": [
              "<IPython.core.display.HTML object>"
            ]
          },
          "metadata": {
            "tags": []
          }
        },
        {
          "output_type": "stream",
          "text": [
            "Saving attendance.csv to attendance.csv\n",
            "User uploaded file \"attendance.csv\" with length 1055 bytes\n"
          ],
          "name": "stdout"
        }
      ]
    },
    {
      "cell_type": "code",
      "metadata": {
        "id": "ZtEz2cChoOcV",
        "colab_type": "code",
        "colab": {}
      },
      "source": [
        "import pandas as pd\n",
        "import matplotlib.pyplot as plt\n",
        "\n",
        "df = pd.read_csv('attendance.csv')"
      ],
      "execution_count": 0,
      "outputs": []
    },
    {
      "cell_type": "code",
      "metadata": {
        "id": "r6NGvbEXoL31",
        "colab_type": "code",
        "outputId": "1982fc22-03c0-4ecc-e293-7faaf9700551",
        "colab": {
          "base_uri": "https://localhost:8080/",
          "height": 204
        }
      },
      "source": [
        "df.head()"
      ],
      "execution_count": 0,
      "outputs": [
        {
          "output_type": "execute_result",
          "data": {
            "text/html": [
              "<div>\n",
              "<style scoped>\n",
              "    .dataframe tbody tr th:only-of-type {\n",
              "        vertical-align: middle;\n",
              "    }\n",
              "\n",
              "    .dataframe tbody tr th {\n",
              "        vertical-align: top;\n",
              "    }\n",
              "\n",
              "    .dataframe thead th {\n",
              "        text-align: right;\n",
              "    }\n",
              "</style>\n",
              "<table border=\"1\" class=\"dataframe\">\n",
              "  <thead>\n",
              "    <tr style=\"text-align: right;\">\n",
              "      <th></th>\n",
              "      <th>Session_1</th>\n",
              "      <th>Session_2</th>\n",
              "      <th>Session_3</th>\n",
              "      <th>Session_4</th>\n",
              "    </tr>\n",
              "  </thead>\n",
              "  <tbody>\n",
              "    <tr>\n",
              "      <th>0</th>\n",
              "      <td>1</td>\n",
              "      <td>0</td>\n",
              "      <td>1</td>\n",
              "      <td>1</td>\n",
              "    </tr>\n",
              "    <tr>\n",
              "      <th>1</th>\n",
              "      <td>1</td>\n",
              "      <td>0</td>\n",
              "      <td>1</td>\n",
              "      <td>1</td>\n",
              "    </tr>\n",
              "    <tr>\n",
              "      <th>2</th>\n",
              "      <td>1</td>\n",
              "      <td>1</td>\n",
              "      <td>1</td>\n",
              "      <td>1</td>\n",
              "    </tr>\n",
              "    <tr>\n",
              "      <th>3</th>\n",
              "      <td>1</td>\n",
              "      <td>1</td>\n",
              "      <td>1</td>\n",
              "      <td>0</td>\n",
              "    </tr>\n",
              "    <tr>\n",
              "      <th>4</th>\n",
              "      <td>1</td>\n",
              "      <td>1</td>\n",
              "      <td>1</td>\n",
              "      <td>1</td>\n",
              "    </tr>\n",
              "  </tbody>\n",
              "</table>\n",
              "</div>"
            ],
            "text/plain": [
              "   Session_1  Session_2  Session_3  Session_4\n",
              "0          1          0          1          1\n",
              "1          1          0          1          1\n",
              "2          1          1          1          1\n",
              "3          1          1          1          0\n",
              "4          1          1          1          1"
            ]
          },
          "metadata": {
            "tags": []
          },
          "execution_count": 49
        }
      ]
    },
    {
      "cell_type": "code",
      "metadata": {
        "id": "PqJOipENoMFi",
        "colab_type": "code",
        "outputId": "4a7723fb-19ab-4bb3-85d3-5a92db30269f",
        "colab": {
          "base_uri": "https://localhost:8080/",
          "height": 34
        }
      },
      "source": [
        "# we have 127 rows (participants) and 4 columns (sessions)\n",
        "df.shape"
      ],
      "execution_count": 0,
      "outputs": [
        {
          "output_type": "execute_result",
          "data": {
            "text/plain": [
              "(127, 4)"
            ]
          },
          "metadata": {
            "tags": []
          },
          "execution_count": 50
        }
      ]
    },
    {
      "cell_type": "code",
      "metadata": {
        "id": "tYPXDzLUoqu8",
        "colab_type": "code",
        "outputId": "4a4fb96b-9847-47c9-b7c7-4a3192e527e2",
        "colab": {
          "base_uri": "https://localhost:8080/",
          "height": 221
        }
      },
      "source": [
        "one = df['Session_1'].value_counts()\n",
        "two = df['Session_2'].value_counts()\n",
        "three = df['Session_3'].value_counts()\n",
        "four = df['Session_4'].value_counts()\n",
        "\n",
        "print(one)\n",
        "print(two)\n",
        "print(three)\n",
        "print(four)"
      ],
      "execution_count": 0,
      "outputs": [
        {
          "output_type": "stream",
          "text": [
            "1    102\n",
            "0     25\n",
            "Name: Session_1, dtype: int64\n",
            "1    101\n",
            "0     26\n",
            "Name: Session_2, dtype: int64\n",
            "1    79\n",
            "0    48\n",
            "Name: Session_3, dtype: int64\n",
            "1    96\n",
            "0    31\n",
            "Name: Session_4, dtype: int64\n"
          ],
          "name": "stdout"
        }
      ]
    },
    {
      "cell_type": "code",
      "metadata": {
        "id": "jsPwKzi4wYlf",
        "colab_type": "code",
        "outputId": "eee6b885-0120-4d04-e7b6-4069755a2459",
        "colab": {
          "base_uri": "https://localhost:8080/",
          "height": 361
        }
      },
      "source": [
        "import numpy as np\n",
        "# plot present people\n",
        "plt.plot([1,2,3,4],[102,101,79,96])\n",
        "# plot people that werent there\n",
        "plt.plot([1,2,3,4],[25,26,48,31])\n",
        "# add a legend\n",
        "plt.legend(['present','absent'])\n",
        "# set x axis for intervals of 1\n",
        "#plt.xticks(np.arange(min(x), max(x)+1, 1.0))\n",
        "plt.xlabel('Sessions')\n",
        "plt.ylabel('# of people')\n",
        "plt.show()"
      ],
      "execution_count": 0,
      "outputs": [
        {
          "output_type": "display_data",
          "data": {
            "image/png": "[encoded data removed]",
            "text/plain": [
              "<Figure size 576x396 with 1 Axes>"
            ]
          },
          "metadata": {
            "tags": []
          }
        }
      ]
    },
    {
      "cell_type": "markdown",
      "metadata": {
        "id": "iWM488tmnNd4",
        "colab_type": "text"
      },
      "source": [
        "### Scatter Plots\n"
      ]
    },
    {
      "cell_type": "code",
      "metadata": {
        "id": "giEv0YsfnO2U",
        "colab_type": "code",
        "outputId": "2622bb8d-b374-4bef-dc4f-b4aacf788b49",
        "colab": {
          "base_uri": "https://localhost:8080/",
          "height": 347
        }
      },
      "source": [
        "# Fixing random state for reproducibility\n",
        "np.random.seed(2573)\n",
        "\n",
        "num = 50\n",
        "x = np.random.rand(num)\n",
        "y = np.random.rand(num)\n",
        "colors = np.random.rand(num)\n",
        "# uncommment this to change the size of dots and add s=area below\n",
        "#area = (20 * np.random.rand(num))**2  \n",
        "\n",
        "# create scatterplot\n",
        "plt.scatter(x, y, c=colors, alpha=0.5)\n",
        "plt.show()"
      ],
      "execution_count": 0,
      "outputs": [
        {
          "output_type": "display_data",
          "data": {
            "image/png": "[encoded data removed]",
            "text/plain": [
              "<Figure size 576x396 with 1 Axes>"
            ]
          },
          "metadata": {
            "tags": []
          }
        }
      ]
    },
    {
      "cell_type": "markdown",
      "metadata": {
        "id": "Zs6FI4uNpO2T",
        "colab_type": "text"
      },
      "source": [
        "### Pie Charts"
      ]
    },
    {
      "cell_type": "code",
      "metadata": {
        "id": "st1D1lnmnO9l",
        "colab_type": "code",
        "outputId": "9b5a8cc1-b565-4fcd-87d7-0ed1e4192698",
        "colab": {
          "base_uri": "https://localhost:8080/",
          "height": 345
        }
      },
      "source": [
        "import matplotlib.pyplot as plt\n",
        "\n",
        "# Pie chart, where the slices will be ordered and plotted counter-clockwise:\n",
        "labels = 'Sleep', 'Gym', 'Study', 'Socialise'\n",
        "sizes = [8, 1.5, 10, 4.5]\n",
        "explode = (0, 0, 0.1, 0)  # only \"explode\" the 3rd one)\n",
        "\n",
        "fig1, ax1 = plt.subplots() # create subplots\n",
        "\n",
        "# create the pie chart\n",
        "ax1.pie(sizes, explode=explode, labels=labels, autopct='%1.1f%%',\n",
        "        shadow=False, startangle=90)\n",
        "ax1.axis('equal')  # Equal aspect ratio ensures that pie is drawn as a circle.\n",
        "plt.title('What I do in a day')\n",
        "plt.show()"
      ],
      "execution_count": 0,
      "outputs": [
        {
          "output_type": "display_data",
          "data": {
            "image/png": "[encoded data removed]",
            "text/plain": [
              "<Figure size 576x396 with 1 Axes>"
            ]
          },
          "metadata": {
            "tags": []
          }
        }
      ]
    },
    {
      "cell_type": "markdown",
      "metadata": {
        "id": "pWO4vVMEdvcH",
        "colab_type": "text"
      },
      "source": [
        "And this is just the tip of the iceberg! There are lots of examples and tutorials at [matplotlibs website.](https://matplotlib.org/tutorials/introductory/sample_plots.html#sphx-glr-tutorials-introductory-sample-plots-py). Other things you can do is 3D plots, vector fields, and images.\n",
        "\n",
        "\n",
        "\n",
        "\n",
        "Now we have a rought idea of what the possibilities are with matplotlib, lets take this a step further by using an existing dataset."
      ]
    },
    {
      "cell_type": "markdown",
      "metadata": {
        "id": "RuSG0SaiEbXM",
        "colab_type": "text"
      },
      "source": [
        "## Pandas - the underlying foundation\n",
        "\n",
        "As we discussed in session 5, pandas is the core framework that sticks everything together. We can even plot graphs with it!\n",
        "\n",
        "Let's start with some univariate visualisations (which have just one variable)."
      ]
    },
    {
      "cell_type": "markdown",
      "metadata": {
        "id": "oLBNTylrjYLB",
        "colab_type": "text"
      },
      "source": [
        "## Kaggle Survey Dataset 2018\n",
        "\n",
        "checkout the challenge on [Kaggle](https://www.kaggle.com/kaggle/kaggle-survey-2018/home)\n",
        "\n",
        "*Welcome to Kaggle's second annual Machine Learning and Data Science Survey ― and our first-ever survey data challenge.\n",
        "\n",
        "*This year, as last year, we set out to conduct an industry-wide survey that presents a truly comprehensive view of the state of data science and machine learning. The survey was live for one week in October, and after cleaning the data we finished with 23,859 responses, a 49% increase over last year!*\n",
        "\n",
        "*There's a lot to explore here. The results include raw numbers about who is working with data, what’s happening with machine learning in different industries, and the best ways for new data scientists to break into the field. We've published the data in as raw a format as possible without compromising anonymization, which makes it an unusual example of a survey dataset.*\n",
        "\n",
        "\n",
        "\n",
        "Use \n",
        "\n",
        "https://medium.com/@yvettewu.dw/tutorial-kaggle-api-google-colaboratory-1a054a382de0\n",
        "\n",
        "https://github.com/Kaggle/kaggle-api"
      ]
    },
    {
      "cell_type": "markdown",
      "metadata": {
        "id": "Y00nTCRio6XS",
        "colab_type": "text"
      },
      "source": [
        "## Commands to download data directly from Kaggle\n",
        "\n",
        "\n",
        "Store the kaggle.json file on your computer "
      ]
    },
    {
      "cell_type": "code",
      "metadata": {
        "id": "OSFuCHsX6Iwv",
        "colab_type": "code",
        "outputId": "9ab48367-569d-4b52-9573-e2f0a3d85511",
        "colab": {
          "resources": {
            "http://localhost:8080/nbextensions/google.colab/files.js": {
              "data": "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",
              "ok": true,
              "headers": [
                [
                  "content-type",
                  "application/javascript"
                ]
              ],
              "status": 200,
              "status_text": ""
            }
          },
          "base_uri": "https://localhost:8080/",
          "height": 86
        }
      },
      "source": [
        "# run this cell and select the kaggle.json file downloaded\n",
        "from google.colab import files\n",
        "files.upload()"
      ],
      "execution_count": 0,
      "outputs": [
        {
          "output_type": "display_data",
          "data": {
            "text/html": [
              "\n",
              "     <input type=\"file\" id=\"files-38469a78-6fbb-4e9e-bf92-93bf94de4788\" name=\"files[]\" multiple disabled />\n",
              "     <output id=\"result-38469a78-6fbb-4e9e-bf92-93bf94de4788\">\n",
              "      Upload widget is only available when the cell has been executed in the\n",
              "      current browser session. Please rerun this cell to enable.\n",
              "      </output>\n",
              "      <script src=\"/nbextensions/google.colab/files.js\"></script> "
            ],
            "text/plain": [
              "<IPython.core.display.HTML object>"
            ]
          },
          "metadata": {
            "tags": []
          }
        },
        {
          "output_type": "stream",
          "text": [
            "Saving kaggle.json to kaggle.json\n"
          ],
          "name": "stdout"
        },
        {
          "output_type": "execute_result",
          "data": {
            "text/plain": [
              "{'kaggle.json': b'{\"username\":\"daphnecor\",\"key\":\"5da97ab394b5ee662e9360f8b768ea4f\"}'}"
            ]
          },
          "metadata": {
            "tags": []
          },
          "execution_count": 1
        }
      ]
    },
    {
      "cell_type": "code",
      "metadata": {
        "id": "zKPgHNZs6I6V",
        "colab_type": "code",
        "colab": {}
      },
      "source": [
        "!pip install -q kaggle"
      ],
      "execution_count": 0,
      "outputs": []
    },
    {
      "cell_type": "code",
      "metadata": {
        "id": "-nlHaMP-6JEu",
        "colab_type": "code",
        "colab": {}
      },
      "source": [
        "# The Kaggle API client expects this file to be in ~/.kaggle,\n",
        "# so move it there.\n",
        "!mkdir -p ~/.kaggle\n",
        "!cp kaggle.json ~/.kaggle/\n",
        "\n",
        "# avoids warning\n",
        "!chmod 600 ~/.kaggle/kaggle.json"
      ],
      "execution_count": 0,
      "outputs": []
    },
    {
      "cell_type": "code",
      "metadata": {
        "id": "9sWhNrwJ7IHf",
        "colab_type": "code",
        "outputId": "7f6e1934-443b-440a-d62c-d9c6b501231a",
        "colab": {
          "base_uri": "https://localhost:8080/",
          "height": 411
        }
      },
      "source": [
        "# list all possible datasets\n",
        "!kaggle datasets list"
      ],
      "execution_count": 0,
      "outputs": [
        {
          "output_type": "stream",
          "text": [
            "ref                                                           title                                                size  lastUpdated          downloadCount  \n",
            "------------------------------------------------------------  --------------------------------------------------  -----  -------------------  -------------  \n",
            "mohansacharya/graduate-admissions                             Graduate Admissions                                   9KB  2018-12-28 10:07:14           4638  \n",
            "karangadiya/fifa19                                            FIFA 19 complete player dataset                       2MB  2018-12-21 03:52:59           3833  \n",
            "fivethirtyeight/fivethirtyeight-comic-characters-dataset      FiveThirtyEight Comic Characters Dataset            577KB  2019-01-13 15:02:19            600  \n",
            "lucabasa/dutch-energy                                         Energy consumption of the Netherlands               102MB  2018-12-17 23:41:45            673  \n",
            "gsutters/the-human-freedom-index                              The Human Freedom Index                             451KB  2018-12-17 21:42:23            900  \n",
            "lava18/google-play-store-apps                                 Google Play Store Apps                                2MB  2018-09-18 20:49:49          32635  \n",
            "cityofLA/los-angeles-parking-citations                        Los Angeles Parking Citations                       244MB  2019-01-23 22:18:25           1059  \n",
            "xvivancos/barcelona-data-sets                                 Barcelona data sets                                   1MB  2018-12-13 14:16:53            953  \n",
            "vbookshelf/v2-plant-seedlings-dataset                         V2 Plant Seedlings Dataset                            2GB  2018-12-13 14:20:52            279  \n",
            "sid321axn/amazon-alexa-reviews                                Amazon Alexa Reviews                                164KB  2018-07-31 17:45:14           2445  \n",
            "timoboz/stock-data-dow-jones                                  EOD data for all Dow Jones stocks                     2MB  2019-01-24 09:21:34            625  \n",
            "anokas/kuzushiji                                              Kuzushiji-MNIST                                     318MB  2018-12-17 01:19:31            199  \n",
            "nguyenhoc/plane-crash                                         Historical Plane Crashes                            700KB  2018-11-21 04:32:41           2598  \n",
            "safegraph/census-block-group-american-community-survey-data   Census Block Group American Community Survey Data     2GB  2018-12-22 00:29:56            109  \n",
            "jkkphys/english-wikipedia-articles-20170820-sqlite            English Wikipedia Articles 2017-08-20 SQLite          7GB  2018-11-27 21:54:22            358  \n",
            "noriuk/us-education-datasets-unification-project              U.S. Education Datasets: Unification Project         84MB  2018-12-22 17:09:05            493  \n",
            "thedownhill/art-images-drawings-painting-sculpture-engraving  Art Images: Drawing/Painting/Sculptures/Engravings  581MB  2018-05-25 18:00:50           1467  \n",
            "safegraph/visit-patterns-by-census-block-group                Consumer & Visitor Insights For Neighborhoods        66MB  2018-12-19 21:31:50            153  \n",
            "kaggle/kaggle-survey-2018                                     2018 Kaggle ML & DS Survey Challenge                  4MB  2018-11-03 22:35:07           7284  \n",
            "olistbr/marketing-funnel-olist                                Marketing Funnel by Olist                           275KB  2018-11-16 14:00:20            734  \n"
          ],
          "name": "stdout"
        }
      ]
    },
    {
      "cell_type": "markdown",
      "metadata": {
        "id": "5oF-UONgpV4P",
        "colab_type": "text"
      },
      "source": [
        "To download the dataset you want, go to the competition and click on \"Data\" tab. Then next to the blue button \"Kernel\" there is an option menu. Click that and then \"Copy API Command\".\n",
        "\n",
        "Below we did that for [this](https://www.kaggle.com/kaggle/kaggle-survey-2018) dataset. \n",
        "\n",
        "\n"
      ]
    },
    {
      "cell_type": "code",
      "metadata": {
        "id": "YoxjHGCJ7IVK",
        "colab_type": "code",
        "outputId": "e6d4e905-f7cf-4808-f23f-5be6e281f7b9",
        "colab": {
          "base_uri": "https://localhost:8080/",
          "height": 68
        }
      },
      "source": [
        "# download dataset that we want\n",
        "!kaggle datasets download -d kaggle/kaggle-survey-2018"
      ],
      "execution_count": 0,
      "outputs": [
        {
          "output_type": "stream",
          "text": [
            "Downloading kaggle-survey-2018.zip to /content\n",
            "\r  0% 0.00/3.86M [00:00<?, ?B/s]\n",
            "\r100% 3.86M/3.86M [00:00<00:00, 130MB/s]\n"
          ],
          "name": "stdout"
        }
      ]
    },
    {
      "cell_type": "code",
      "metadata": {
        "id": "MGmusgy77Idd",
        "colab_type": "code",
        "outputId": "bf0d0e3f-2a02-421f-db9a-6416868f6378",
        "colab": {
          "base_uri": "https://localhost:8080/",
          "height": 85
        }
      },
      "source": [
        "# unzip the files\n",
        "!unzip \\*.zip"
      ],
      "execution_count": 0,
      "outputs": [
        {
          "output_type": "stream",
          "text": [
            "Archive:  kaggle-survey-2018.zip\n",
            "  inflating: multipleChoiceResponses.csv  \n",
            "  inflating: freeFormResponses.csv   \n",
            "  inflating: SurveySchema.csv        \n"
          ],
          "name": "stdout"
        }
      ]
    },
    {
      "cell_type": "code",
      "metadata": {
        "id": "fhjPyMkI8hNp",
        "colab_type": "code",
        "outputId": "57694b4e-2241-4114-b977-5dfeed0e1170",
        "colab": {
          "base_uri": "https://localhost:8080/",
          "height": 71
        }
      },
      "source": [
        "# we only want to use the multiple choice questions, so select that\n",
        "df = pd.read_csv('multipleChoiceResponses.csv')"
      ],
      "execution_count": 0,
      "outputs": [
        {
          "output_type": "stream",
          "text": [
            "/usr/local/lib/python3.6/dist-packages/IPython/core/interactiveshell.py:2718: DtypeWarning: Columns (0,2,8,10,21,23,24,25,26,27,28,44,56,64,83,85,87,107,109,123,125,150,157,172,174,194,210,218,219,223,246,249,262,264,276,277,278,279,280,281,282,283,284,285,286,287,288,289,290,304,306,325,326,329,341,368,371,384,385,389,390,391,393,394) have mixed types. Specify dtype option on import or set low_memory=False.\n",
            "  interactivity=interactivity, compiler=compiler, result=result)\n"
          ],
          "name": "stderr"
        }
      ]
    },
    {
      "cell_type": "markdown",
      "metadata": {
        "id": "L2g8TjONW3Yt",
        "colab_type": "text"
      },
      "source": [
        "## Upload dataset from computer\n",
        "\n",
        "You can also download the dataset on kaggle and then upload it to colab through this command."
      ]
    },
    {
      "cell_type": "code",
      "metadata": {
        "id": "MZm6iAEqW23r",
        "colab_type": "code",
        "colab": {}
      },
      "source": [
        "# from google.colab import files\n",
        "\n",
        "# uploaded = files.upload()\n",
        "\n",
        "# for fn in uploaded.keys():\n",
        "#   print('User uploaded file \"{name}\" with length {length} bytes'.format(\n",
        "#       name=fn, length=len(uploaded[fn])))"
      ],
      "execution_count": 0,
      "outputs": []
    },
    {
      "cell_type": "markdown",
      "metadata": {
        "id": "sdXs2P4OWm6I",
        "colab_type": "text"
      },
      "source": [
        "## Dive in the data"
      ]
    },
    {
      "cell_type": "code",
      "metadata": {
        "id": "RDxRf42xoQnD",
        "colab_type": "code",
        "outputId": "15403d38-97cc-4865-f7a4-3fea71a04406",
        "colab": {
          "base_uri": "https://localhost:8080/",
          "height": 610
        }
      },
      "source": [
        "# checkout data\n",
        "df.head()"
      ],
      "execution_count": 0,
      "outputs": [
        {
          "output_type": "execute_result",
          "data": {
            "text/html": [
              "<div>\n",
              "<style scoped>\n",
              "    .dataframe tbody tr th:only-of-type {\n",
              "        vertical-align: middle;\n",
              "    }\n",
              "\n",
              "    .dataframe tbody tr th {\n",
              "        vertical-align: top;\n",
              "    }\n",
              "\n",
              "    .dataframe thead th {\n",
              "        text-align: right;\n",
              "    }\n",
              "</style>\n",
              "<table border=\"1\" class=\"dataframe\">\n",
              "  <thead>\n",
              "    <tr style=\"text-align: right;\">\n",
              "      <th></th>\n",
              "      <th>Time from Start to Finish (seconds)</th>\n",
              "      <th>Q1</th>\n",
              "      <th>Q1_OTHER_TEXT</th>\n",
              "      <th>Q2</th>\n",
              "      <th>Q3</th>\n",
              "      <th>Q4</th>\n",
              "      <th>Q5</th>\n",
              "      <th>Q6</th>\n",
              "      <th>Q6_OTHER_TEXT</th>\n",
              "      <th>Q7</th>\n",
              "      <th>...</th>\n",
              "      <th>Q49_OTHER_TEXT</th>\n",
              "      <th>Q50_Part_1</th>\n",
              "      <th>Q50_Part_2</th>\n",
              "      <th>Q50_Part_3</th>\n",
              "      <th>Q50_Part_4</th>\n",
              "      <th>Q50_Part_5</th>\n",
              "      <th>Q50_Part_6</th>\n",
              "      <th>Q50_Part_7</th>\n",
              "      <th>Q50_Part_8</th>\n",
              "      <th>Q50_OTHER_TEXT</th>\n",
              "    </tr>\n",
              "  </thead>\n",
              "  <tbody>\n",
              "    <tr>\n",
              "      <th>0</th>\n",
              "      <td>Duration (in seconds)</td>\n",
              "      <td>What is your gender? - Selected Choice</td>\n",
              "      <td>What is your gender? - Prefer to self-describe...</td>\n",
              "      <td>What is your age (# years)?</td>\n",
              "      <td>In which country do you currently reside?</td>\n",
              "      <td>What is the highest level of formal education ...</td>\n",
              "      <td>Which best describes your undergraduate major?...</td>\n",
              "      <td>Select the title most similar to your current ...</td>\n",
              "      <td>Select the title most similar to your current ...</td>\n",
              "      <td>In what industry is your current employer/cont...</td>\n",
              "      <td>...</td>\n",
              "      <td>What tools and methods do you use to make your...</td>\n",
              "      <td>What barriers prevent you from making your wor...</td>\n",
              "      <td>What barriers prevent you from making your wor...</td>\n",
              "      <td>What barriers prevent you from making your wor...</td>\n",
              "      <td>What barriers prevent you from making your wor...</td>\n",
              "      <td>What barriers prevent you from making your wor...</td>\n",
              "      <td>What barriers prevent you from making your wor...</td>\n",
              "      <td>What barriers prevent you from making your wor...</td>\n",
              "      <td>What barriers prevent you from making your wor...</td>\n",
              "      <td>What barriers prevent you from making your wor...</td>\n",
              "    </tr>\n",
              "    <tr>\n",
              "      <th>1</th>\n",
              "      <td>710</td>\n",
              "      <td>Female</td>\n",
              "      <td>-1</td>\n",
              "      <td>45-49</td>\n",
              "      <td>United States of America</td>\n",
              "      <td>Doctoral degree</td>\n",
              "      <td>Other</td>\n",
              "      <td>Consultant</td>\n",
              "      <td>-1</td>\n",
              "      <td>Other</td>\n",
              "      <td>...</td>\n",
              "      <td>-1</td>\n",
              "      <td>NaN</td>\n",
              "      <td>NaN</td>\n",
              "      <td>NaN</td>\n",
              "      <td>NaN</td>\n",
              "      <td>NaN</td>\n",
              "      <td>NaN</td>\n",
              "      <td>NaN</td>\n",
              "      <td>NaN</td>\n",
              "      <td>-1</td>\n",
              "    </tr>\n",
              "    <tr>\n",
              "      <th>2</th>\n",
              "      <td>434</td>\n",
              "      <td>Male</td>\n",
              "      <td>-1</td>\n",
              "      <td>30-34</td>\n",
              "      <td>Indonesia</td>\n",
              "      <td>Bachelor’s degree</td>\n",
              "      <td>Engineering (non-computer focused)</td>\n",
              "      <td>Other</td>\n",
              "      <td>0</td>\n",
              "      <td>Manufacturing/Fabrication</td>\n",
              "      <td>...</td>\n",
              "      <td>-1</td>\n",
              "      <td>NaN</td>\n",
              "      <td>NaN</td>\n",
              "      <td>NaN</td>\n",
              "      <td>NaN</td>\n",
              "      <td>NaN</td>\n",
              "      <td>NaN</td>\n",
              "      <td>NaN</td>\n",
              "      <td>NaN</td>\n",
              "      <td>-1</td>\n",
              "    </tr>\n",
              "    <tr>\n",
              "      <th>3</th>\n",
              "      <td>718</td>\n",
              "      <td>Female</td>\n",
              "      <td>-1</td>\n",
              "      <td>30-34</td>\n",
              "      <td>United States of America</td>\n",
              "      <td>Master’s degree</td>\n",
              "      <td>Computer science (software engineering, etc.)</td>\n",
              "      <td>Data Scientist</td>\n",
              "      <td>-1</td>\n",
              "      <td>I am a student</td>\n",
              "      <td>...</td>\n",
              "      <td>-1</td>\n",
              "      <td>NaN</td>\n",
              "      <td>Too time-consuming</td>\n",
              "      <td>NaN</td>\n",
              "      <td>NaN</td>\n",
              "      <td>NaN</td>\n",
              "      <td>NaN</td>\n",
              "      <td>NaN</td>\n",
              "      <td>NaN</td>\n",
              "      <td>-1</td>\n",
              "    </tr>\n",
              "    <tr>\n",
              "      <th>4</th>\n",
              "      <td>621</td>\n",
              "      <td>Male</td>\n",
              "      <td>-1</td>\n",
              "      <td>35-39</td>\n",
              "      <td>United States of America</td>\n",
              "      <td>Master’s degree</td>\n",
              "      <td>Social sciences (anthropology, psychology, soc...</td>\n",
              "      <td>Not employed</td>\n",
              "      <td>-1</td>\n",
              "      <td>NaN</td>\n",
              "      <td>...</td>\n",
              "      <td>-1</td>\n",
              "      <td>NaN</td>\n",
              "      <td>NaN</td>\n",
              "      <td>Requires too much technical knowledge</td>\n",
              "      <td>NaN</td>\n",
              "      <td>Not enough incentives to share my work</td>\n",
              "      <td>NaN</td>\n",
              "      <td>NaN</td>\n",
              "      <td>NaN</td>\n",
              "      <td>-1</td>\n",
              "    </tr>\n",
              "  </tbody>\n",
              "</table>\n",
              "<p>5 rows × 395 columns</p>\n",
              "</div>"
            ],
            "text/plain": [
              "  Time from Start to Finish (seconds)                                      Q1  \\\n",
              "0               Duration (in seconds)  What is your gender? - Selected Choice   \n",
              "1                                 710                                  Female   \n",
              "2                                 434                                    Male   \n",
              "3                                 718                                  Female   \n",
              "4                                 621                                    Male   \n",
              "\n",
              "                                       Q1_OTHER_TEXT  \\\n",
              "0  What is your gender? - Prefer to self-describe...   \n",
              "1                                                 -1   \n",
              "2                                                 -1   \n",
              "3                                                 -1   \n",
              "4                                                 -1   \n",
              "\n",
              "                            Q2                                         Q3  \\\n",
              "0  What is your age (# years)?  In which country do you currently reside?   \n",
              "1                        45-49                   United States of America   \n",
              "2                        30-34                                  Indonesia   \n",
              "3                        30-34                   United States of America   \n",
              "4                        35-39                   United States of America   \n",
              "\n",
              "                                                  Q4  \\\n",
              "0  What is the highest level of formal education ...   \n",
              "1                                    Doctoral degree   \n",
              "2                                  Bachelor’s degree   \n",
              "3                                    Master’s degree   \n",
              "4                                    Master’s degree   \n",
              "\n",
              "                                                  Q5  \\\n",
              "0  Which best describes your undergraduate major?...   \n",
              "1                                              Other   \n",
              "2                 Engineering (non-computer focused)   \n",
              "3      Computer science (software engineering, etc.)   \n",
              "4  Social sciences (anthropology, psychology, soc...   \n",
              "\n",
              "                                                  Q6  \\\n",
              "0  Select the title most similar to your current ...   \n",
              "1                                         Consultant   \n",
              "2                                              Other   \n",
              "3                                     Data Scientist   \n",
              "4                                       Not employed   \n",
              "\n",
              "                                       Q6_OTHER_TEXT  \\\n",
              "0  Select the title most similar to your current ...   \n",
              "1                                                 -1   \n",
              "2                                                  0   \n",
              "3                                                 -1   \n",
              "4                                                 -1   \n",
              "\n",
              "                                                  Q7  \\\n",
              "0  In what industry is your current employer/cont...   \n",
              "1                                              Other   \n",
              "2                          Manufacturing/Fabrication   \n",
              "3                                     I am a student   \n",
              "4                                                NaN   \n",
              "\n",
              "                         ...                          \\\n",
              "0                        ...                           \n",
              "1                        ...                           \n",
              "2                        ...                           \n",
              "3                        ...                           \n",
              "4                        ...                           \n",
              "\n",
              "                                      Q49_OTHER_TEXT  \\\n",
              "0  What tools and methods do you use to make your...   \n",
              "1                                                 -1   \n",
              "2                                                 -1   \n",
              "3                                                 -1   \n",
              "4                                                 -1   \n",
              "\n",
              "                                          Q50_Part_1  \\\n",
              "0  What barriers prevent you from making your wor...   \n",
              "1                                                NaN   \n",
              "2                                                NaN   \n",
              "3                                                NaN   \n",
              "4                                                NaN   \n",
              "\n",
              "                                          Q50_Part_2  \\\n",
              "0  What barriers prevent you from making your wor...   \n",
              "1                                                NaN   \n",
              "2                                                NaN   \n",
              "3                                 Too time-consuming   \n",
              "4                                                NaN   \n",
              "\n",
              "                                          Q50_Part_3  \\\n",
              "0  What barriers prevent you from making your wor...   \n",
              "1                                                NaN   \n",
              "2                                                NaN   \n",
              "3                                                NaN   \n",
              "4              Requires too much technical knowledge   \n",
              "\n",
              "                                          Q50_Part_4  \\\n",
              "0  What barriers prevent you from making your wor...   \n",
              "1                                                NaN   \n",
              "2                                                NaN   \n",
              "3                                                NaN   \n",
              "4                                                NaN   \n",
              "\n",
              "                                          Q50_Part_5  \\\n",
              "0  What barriers prevent you from making your wor...   \n",
              "1                                                NaN   \n",
              "2                                                NaN   \n",
              "3                                                NaN   \n",
              "4             Not enough incentives to share my work   \n",
              "\n",
              "                                          Q50_Part_6  \\\n",
              "0  What barriers prevent you from making your wor...   \n",
              "1                                                NaN   \n",
              "2                                                NaN   \n",
              "3                                                NaN   \n",
              "4                                                NaN   \n",
              "\n",
              "                                          Q50_Part_7  \\\n",
              "0  What barriers prevent you from making your wor...   \n",
              "1                                                NaN   \n",
              "2                                                NaN   \n",
              "3                                                NaN   \n",
              "4                                                NaN   \n",
              "\n",
              "                                          Q50_Part_8  \\\n",
              "0  What barriers prevent you from making your wor...   \n",
              "1                                                NaN   \n",
              "2                                                NaN   \n",
              "3                                                NaN   \n",
              "4                                                NaN   \n",
              "\n",
              "                                      Q50_OTHER_TEXT  \n",
              "0  What barriers prevent you from making your wor...  \n",
              "1                                                 -1  \n",
              "2                                                 -1  \n",
              "3                                                 -1  \n",
              "4                                                 -1  \n",
              "\n",
              "[5 rows x 395 columns]"
            ]
          },
          "metadata": {
            "tags": []
          },
          "execution_count": 11
        }
      ]
    },
    {
      "cell_type": "code",
      "metadata": {
        "id": "1Bvv-lauoQzm",
        "colab_type": "code",
        "outputId": "02cef304-9e73-4c76-defe-5256af580a3d",
        "colab": {
          "base_uri": "https://localhost:8080/",
          "height": 341
        }
      },
      "source": [
        "# we can look at a quick summary of our data\n",
        "df.describe()"
      ],
      "execution_count": 0,
      "outputs": [
        {
          "output_type": "execute_result",
          "data": {
            "text/html": [
              "<div>\n",
              "<style scoped>\n",
              "    .dataframe tbody tr th:only-of-type {\n",
              "        vertical-align: middle;\n",
              "    }\n",
              "\n",
              "    .dataframe tbody tr th {\n",
              "        vertical-align: top;\n",
              "    }\n",
              "\n",
              "    .dataframe thead th {\n",
              "        text-align: right;\n",
              "    }\n",
              "</style>\n",
              "<table border=\"1\" class=\"dataframe\">\n",
              "  <thead>\n",
              "    <tr style=\"text-align: right;\">\n",
              "      <th></th>\n",
              "      <th>Time from Start to Finish (seconds)</th>\n",
              "      <th>Q1</th>\n",
              "      <th>Q1_OTHER_TEXT</th>\n",
              "      <th>Q2</th>\n",
              "      <th>Q3</th>\n",
              "      <th>Q4</th>\n",
              "      <th>Q5</th>\n",
              "      <th>Q6</th>\n",
              "      <th>Q6_OTHER_TEXT</th>\n",
              "      <th>Q7</th>\n",
              "      <th>...</th>\n",
              "      <th>Q49_OTHER_TEXT</th>\n",
              "      <th>Q50_Part_1</th>\n",
              "      <th>Q50_Part_2</th>\n",
              "      <th>Q50_Part_3</th>\n",
              "      <th>Q50_Part_4</th>\n",
              "      <th>Q50_Part_5</th>\n",
              "      <th>Q50_Part_6</th>\n",
              "      <th>Q50_Part_7</th>\n",
              "      <th>Q50_Part_8</th>\n",
              "      <th>Q50_OTHER_TEXT</th>\n",
              "    </tr>\n",
              "  </thead>\n",
              "  <tbody>\n",
              "    <tr>\n",
              "      <th>count</th>\n",
              "      <td>23860</td>\n",
              "      <td>23860</td>\n",
              "      <td>23860</td>\n",
              "      <td>23860</td>\n",
              "      <td>23860</td>\n",
              "      <td>23439</td>\n",
              "      <td>22948</td>\n",
              "      <td>22901</td>\n",
              "      <td>23860</td>\n",
              "      <td>21686</td>\n",
              "      <td>...</td>\n",
              "      <td>23860</td>\n",
              "      <td>1372</td>\n",
              "      <td>6479</td>\n",
              "      <td>2675</td>\n",
              "      <td>2105</td>\n",
              "      <td>3570</td>\n",
              "      <td>1060</td>\n",
              "      <td>2501</td>\n",
              "      <td>521</td>\n",
              "      <td>23860</td>\n",
              "    </tr>\n",
              "    <tr>\n",
              "      <th>unique</th>\n",
              "      <td>7642</td>\n",
              "      <td>5</td>\n",
              "      <td>70</td>\n",
              "      <td>13</td>\n",
              "      <td>59</td>\n",
              "      <td>8</td>\n",
              "      <td>14</td>\n",
              "      <td>22</td>\n",
              "      <td>901</td>\n",
              "      <td>20</td>\n",
              "      <td>...</td>\n",
              "      <td>172</td>\n",
              "      <td>2</td>\n",
              "      <td>2</td>\n",
              "      <td>2</td>\n",
              "      <td>2</td>\n",
              "      <td>2</td>\n",
              "      <td>2</td>\n",
              "      <td>2</td>\n",
              "      <td>2</td>\n",
              "      <td>415</td>\n",
              "    </tr>\n",
              "    <tr>\n",
              "      <th>top</th>\n",
              "      <td>142</td>\n",
              "      <td>Male</td>\n",
              "      <td>-1</td>\n",
              "      <td>25-29</td>\n",
              "      <td>United States of America</td>\n",
              "      <td>Master’s degree</td>\n",
              "      <td>Computer science (software engineering, etc.)</td>\n",
              "      <td>Student</td>\n",
              "      <td>-1</td>\n",
              "      <td>Computers/Technology</td>\n",
              "      <td>...</td>\n",
              "      <td>-1</td>\n",
              "      <td>Too expensive</td>\n",
              "      <td>Too time-consuming</td>\n",
              "      <td>Requires too much technical knowledge</td>\n",
              "      <td>Afraid that others will use my work without gi...</td>\n",
              "      <td>Not enough incentives to share my work</td>\n",
              "      <td>I had never considered making my work easier f...</td>\n",
              "      <td>None of these reasons apply to me</td>\n",
              "      <td>Other</td>\n",
              "      <td>-1</td>\n",
              "    </tr>\n",
              "    <tr>\n",
              "      <th>freq</th>\n",
              "      <td>31</td>\n",
              "      <td>19430</td>\n",
              "      <td>21738</td>\n",
              "      <td>6159</td>\n",
              "      <td>4716</td>\n",
              "      <td>10855</td>\n",
              "      <td>9430</td>\n",
              "      <td>5253</td>\n",
              "      <td>20603</td>\n",
              "      <td>5584</td>\n",
              "      <td>...</td>\n",
              "      <td>21658</td>\n",
              "      <td>1371</td>\n",
              "      <td>6478</td>\n",
              "      <td>2674</td>\n",
              "      <td>2104</td>\n",
              "      <td>3569</td>\n",
              "      <td>1059</td>\n",
              "      <td>2500</td>\n",
              "      <td>520</td>\n",
              "      <td>21421</td>\n",
              "    </tr>\n",
              "  </tbody>\n",
              "</table>\n",
              "<p>4 rows × 395 columns</p>\n",
              "</div>"
            ],
            "text/plain": [
              "        Time from Start to Finish (seconds)     Q1  Q1_OTHER_TEXT     Q2  \\\n",
              "count                                 23860  23860          23860  23860   \n",
              "unique                                 7642      5             70     13   \n",
              "top                                     142   Male             -1  25-29   \n",
              "freq                                     31  19430          21738   6159   \n",
              "\n",
              "                              Q3               Q4  \\\n",
              "count                      23860            23439   \n",
              "unique                        59                8   \n",
              "top     United States of America  Master’s degree   \n",
              "freq                        4716            10855   \n",
              "\n",
              "                                                   Q5       Q6  Q6_OTHER_TEXT  \\\n",
              "count                                           22948    22901          23860   \n",
              "unique                                             14       22            901   \n",
              "top     Computer science (software engineering, etc.)  Student             -1   \n",
              "freq                                             9430     5253          20603   \n",
              "\n",
              "                          Q7      ...        Q49_OTHER_TEXT     Q50_Part_1  \\\n",
              "count                  21686      ...                 23860           1372   \n",
              "unique                    20      ...                   172              2   \n",
              "top     Computers/Technology      ...                    -1  Too expensive   \n",
              "freq                    5584      ...                 21658           1371   \n",
              "\n",
              "                Q50_Part_2                             Q50_Part_3  \\\n",
              "count                 6479                                   2675   \n",
              "unique                   2                                      2   \n",
              "top     Too time-consuming  Requires too much technical knowledge   \n",
              "freq                  6478                                   2674   \n",
              "\n",
              "                                               Q50_Part_4  \\\n",
              "count                                                2105   \n",
              "unique                                                  2   \n",
              "top     Afraid that others will use my work without gi...   \n",
              "freq                                                 2104   \n",
              "\n",
              "                                    Q50_Part_5  \\\n",
              "count                                     3570   \n",
              "unique                                       2   \n",
              "top     Not enough incentives to share my work   \n",
              "freq                                      3569   \n",
              "\n",
              "                                               Q50_Part_6  \\\n",
              "count                                                1060   \n",
              "unique                                                  2   \n",
              "top     I had never considered making my work easier f...   \n",
              "freq                                                 1059   \n",
              "\n",
              "                               Q50_Part_7 Q50_Part_8 Q50_OTHER_TEXT  \n",
              "count                                2501        521          23860  \n",
              "unique                                  2          2            415  \n",
              "top     None of these reasons apply to me      Other             -1  \n",
              "freq                                 2500        520          21421  \n",
              "\n",
              "[4 rows x 395 columns]"
            ]
          },
          "metadata": {
            "tags": []
          },
          "execution_count": 12
        }
      ]
    },
    {
      "cell_type": "markdown",
      "metadata": {
        "id": "-8USR_86F2ZB",
        "colab_type": "text"
      },
      "source": [
        "### Exploring the data\n",
        "\n",
        "There is a lot of data to analyse here, but let's look at a few features of the data. First of all, what is the distribution of male/female on Kaggle? \n",
        "\n",
        "There were four options; Male, Female, Prefer not to say and Prefer to self-describe."
      ]
    },
    {
      "cell_type": "code",
      "metadata": {
        "id": "9Bqrb59_HkPl",
        "colab_type": "code",
        "outputId": "ed0bc2c4-3540-4328-d3ed-c06cdbb3141e",
        "colab": {
          "base_uri": "https://localhost:8080/",
          "height": 102
        }
      },
      "source": [
        "# we want to select all rows except the first one (because that is the question itself)\n",
        "df['Q1'].iloc[1:].value_counts()"
      ],
      "execution_count": 0,
      "outputs": [
        {
          "output_type": "execute_result",
          "data": {
            "text/plain": [
              "Male                       19430\n",
              "Female                      4010\n",
              "Prefer not to say            340\n",
              "Prefer to self-describe       79\n",
              "Name: Q1, dtype: int64"
            ]
          },
          "metadata": {
            "tags": []
          },
          "execution_count": 13
        }
      ]
    },
    {
      "cell_type": "code",
      "metadata": {
        "id": "VwVlEvbE_e7J",
        "colab_type": "code",
        "outputId": "0ee44cb4-b628-4cde-8ddd-3650b01c4c5a",
        "colab": {
          "base_uri": "https://localhost:8080/",
          "height": 440
        }
      },
      "source": [
        "# make a plot \n",
        "distribution_gender = df['Q1'].iloc[1:].value_counts()\n",
        "\n",
        "gen_plot = distribution_gender.plot('bar', figsize=(10,6), width=0.3,\n",
        "                                rot=0, title='Gender Distribution')\n",
        "\n",
        "\n",
        "# total respondents\n",
        "print(f'There were {sum(distribution_gender)} respondents in total\\n')\n",
        "\n",
        "print(f'which means {19430/sum(distribution_gender)*100} percent is male' )"
      ],
      "execution_count": 0,
      "outputs": [
        {
          "output_type": "stream",
          "text": [
            "There were 23859 respondents in total\n",
            "\n",
            "which means 81.43677438283248 percent is male\n"
          ],
          "name": "stdout"
        },
        {
          "output_type": "display_data",
          "data": {
            "image/png": "[encoded data removed]",
            "text/plain": [
              "<Figure size 720x432 with 1 Axes>"
            ]
          },
          "metadata": {
            "tags": []
          }
        }
      ]
    },
    {
      "cell_type": "markdown",
      "metadata": {
        "id": "kdimN5dTKupj",
        "colab_type": "text"
      },
      "source": [
        "Interesting, but where do the Kagglers come from?"
      ]
    },
    {
      "cell_type": "code",
      "metadata": {
        "id": "XHauxjDEgyIw",
        "colab_type": "code",
        "outputId": "6215dfb2-130d-43eb-fa18-6ece3b997be0",
        "colab": {
          "base_uri": "https://localhost:8080/",
          "height": 54
        }
      },
      "source": [
        "distribution_country = df['Q3'].iloc[1:]\n",
        "\n",
        "# these are all the different countries mentioned\n",
        "print(set(distribution_country))"
      ],
      "execution_count": 0,
      "outputs": [
        {
          "output_type": "stream",
          "text": [
            "{'Switzerland', 'Turkey', 'Israel', 'South Africa', 'Colombia', 'Kenya', 'Japan', 'New Zealand', 'Other', 'Hungary', 'Norway', 'Denmark', 'Ukraine', 'United States of America', 'Hong Kong (S.A.R.)', 'Thailand', 'Indonesia', 'Iran, Islamic Republic of...', 'Peru', 'Nigeria', 'Greece', 'Belgium', 'Egypt', 'Spain', 'United Kingdom of Great Britain and Northern Ireland', 'Australia', 'Viet Nam', 'Russia', 'Bangladesh', 'Singapore', 'Pakistan', 'Canada', 'Morocco', 'Germany', 'South Korea', 'Romania', 'Netherlands', 'China', 'France', 'Argentina', 'Chile', 'Finland', 'Portugal', 'I do not wish to disclose my location', 'Poland', 'Czech Republic', 'Sweden', 'Austria', 'Ireland', 'Malaysia', 'Philippines', 'Republic of Korea', 'Tunisia', 'Brazil', 'India', 'Italy', 'Belarus', 'Mexico'}\n"
          ],
          "name": "stdout"
        }
      ]
    },
    {
      "cell_type": "markdown",
      "metadata": {
        "id": "a0n9wbSFMjFI",
        "colab_type": "text"
      },
      "source": [
        "notice that we have \"United Kingdom of Great Britain and Northern Ireland\" which is a bit long. Let's replace it with \"United Kingdom\""
      ]
    },
    {
      "cell_type": "code",
      "metadata": {
        "id": "az3JkVTHMhWK",
        "colab_type": "code",
        "colab": {}
      },
      "source": [
        "distribution_country = distribution_country.replace('United Kingdom of Great Britain and Northern Ireland','United Kingdom')\n",
        "\n"
      ],
      "execution_count": 0,
      "outputs": []
    },
    {
      "cell_type": "code",
      "metadata": {
        "id": "bgaR4R1XgyLy",
        "colab_type": "code",
        "outputId": "0061b869-7067-4b5a-8842-acf854c86535",
        "colab": {
          "base_uri": "https://localhost:8080/",
          "height": 389
        }
      },
      "source": [
        "# lets take the values from the df, then take the top 10\n",
        "distribution_country = distribution_country.value_counts()[:10]\n",
        "\n",
        "# get the total number of respondents for this question\n",
        "total_resp = sum(distribution_country)\n",
        "\n",
        "# make a plot\n",
        "count_plot = distribution_country.plot('bar', figsize=(15,6), rot=0, title='Country distribution')"
      ],
      "execution_count": 0,
      "outputs": [
        {
          "output_type": "display_data",
          "data": {
            "image/png": "[encoded data removed]",
            "text/plain": [
              "<Figure size 1080x432 with 1 Axes>"
            ]
          },
          "metadata": {
            "tags": []
          }
        }
      ]
    },
    {
      "cell_type": "markdown",
      "metadata": {
        "id": "AFAvx6zSNYdl",
        "colab_type": "text"
      },
      "source": [
        "Mmm, makes sense. Lots of people from the US, India and China. But of course we want to know how many people there are from the Netherlands!\n",
        "\n"
      ]
    },
    {
      "cell_type": "code",
      "metadata": {
        "id": "WSxoXzSPgyOX",
        "colab_type": "code",
        "outputId": "290b1fc2-117b-4a6c-dd86-91dba77abcae",
        "colab": {
          "base_uri": "https://localhost:8080/",
          "height": 34
        }
      },
      "source": [
        "# how many dutch people \n",
        "dutchies = len(df[df['Q3'] == 'Netherlands'])\n",
        "\n",
        "print(f'A mere {dutchies/total_resp*100} percent were Dutch')"
      ],
      "execution_count": 0,
      "outputs": [
        {
          "output_type": "stream",
          "text": [
            "A mere 1.679940268790443 percent were Dutch\n"
          ],
          "name": "stdout"
        }
      ]
    },
    {
      "cell_type": "markdown",
      "metadata": {
        "id": "9cruQ5whWUd9",
        "colab_type": "text"
      },
      "source": [
        "Question 5 is about what undergraduate major people studied. We can take a closer look at that distribution as well."
      ]
    },
    {
      "cell_type": "code",
      "metadata": {
        "id": "DkC4XkHyV40f",
        "colab_type": "code",
        "outputId": "624d5740-1124-4a61-c717-6c7ce21b7cb2",
        "colab": {
          "base_uri": "https://localhost:8080/",
          "height": 272
        }
      },
      "source": [
        "df['Q5'].value_counts()"
      ],
      "execution_count": 0,
      "outputs": [
        {
          "output_type": "execute_result",
          "data": {
            "text/plain": [
              "Computer science (software engineering, etc.)                       9430\n",
              "Engineering (non-computer focused)                                  3705\n",
              "Mathematics or statistics                                           2950\n",
              "A business discipline (accounting, economics, finance, etc.)        1791\n",
              "Physics or astronomy                                                1110\n",
              "Information technology, networking, or system administration        1029\n",
              "Medical or life sciences (biology, chemistry, medicine, etc.)        871\n",
              "Other                                                                770\n",
              "Social sciences (anthropology, psychology, sociology, etc.)          554\n",
              "Humanities (history, literature, philosophy, etc.)                   269\n",
              "Environmental science or geology                                     253\n",
              "I never declared a major                                             128\n",
              "Fine arts or performing arts                                          87\n",
              "Which best describes your undergraduate major? - Selected Choice       1\n",
              "Name: Q5, dtype: int64"
            ]
          },
          "metadata": {
            "tags": []
          },
          "execution_count": 19
        }
      ]
    },
    {
      "cell_type": "markdown",
      "metadata": {
        "id": "tupwymXwWhl6",
        "colab_type": "text"
      },
      "source": [
        "We used ['barh'](https://matplotlib.org/gallery/lines_bars_and_markers/barh.html) to display the text on the left."
      ]
    },
    {
      "cell_type": "code",
      "metadata": {
        "id": "56gzxYALDgoE",
        "colab_type": "code",
        "outputId": "25444fc6-84da-407b-b9c0-bd5c61435a10",
        "colab": {
          "base_uri": "https://localhost:8080/",
          "height": 643
        }
      },
      "source": [
        "# what did people study\n",
        "undergrad = df['Q5'].iloc[1:].value_counts()\n",
        "\n",
        "# barh display the text on the left\n",
        "ed_plot = undergrad.plot('barh', figsize=(10,10),rot=0, fontsize=12,\n",
        "                                title='Undergrad major choice')\n",
        "\n",
        "print(f'There were {sum(undergrad)} respondents in total\\n')"
      ],
      "execution_count": 0,
      "outputs": [
        {
          "output_type": "stream",
          "text": [
            "There were 22947 respondents in total\n",
            "\n"
          ],
          "name": "stdout"
        },
        {
          "output_type": "display_data",
          "data": {
            "image/png": "[encoded data removed]",
            "text/plain": [
              "<Figure size 720x720 with 1 Axes>"
            ]
          },
          "metadata": {
            "tags": []
          }
        }
      ]
    },
    {
      "cell_type": "markdown",
      "metadata": {
        "id": "aNNWIUtGZj78",
        "colab_type": "text"
      },
      "source": [
        "### Favorite programming language\n",
        "\n"
      ]
    },
    {
      "cell_type": "code",
      "metadata": {
        "id": "frD-kxQLB_A4",
        "colab_type": "code",
        "outputId": "e6c2356b-a56a-49a1-e2a4-60505930faa1",
        "colab": {
          "base_uri": "https://localhost:8080/",
          "height": 391
        }
      },
      "source": [
        "# again take the question, all rows except the first\n",
        "prog_lang = df['Q17'].iloc[1:]\n",
        "\n",
        "prog_plot = prog_lang.value_counts()[:10].plot('bar', figsize=(20,6),rot=0, fontsize=12,\n",
        "                                            title='Favorite Programming Language')"
      ],
      "execution_count": 0,
      "outputs": [
        {
          "output_type": "display_data",
          "data": {
            "image/png": "[encoded data removed]",
            "text/plain": [
              "<Figure size 1440x432 with 1 Axes>"
            ]
          },
          "metadata": {
            "tags": []
          }
        }
      ]
    },
    {
      "cell_type": "markdown",
      "metadata": {
        "id": "MlGbOYbTZ7NW",
        "colab_type": "text"
      },
      "source": [
        "as we can see Python wins with an overwhelming majority of the votes!"
      ]
    },
    {
      "cell_type": "markdown",
      "metadata": {
        "id": "A-Oa0eqQSz4f",
        "colab_type": "text"
      },
      "source": [
        "## Challenges\n",
        "\n"
      ]
    },
    {
      "cell_type": "markdown",
      "metadata": {
        "id": "gqxXorUat0Iy",
        "colab_type": "text"
      },
      "source": [
        "### Challenge 1\n",
        "\n",
        "For visualising the attendance of the students, is there a more efficient way? And if so, make a stacked bar plot or histogram out of it. [hint](http://pandas.pydata.org/pandas-docs/version/0.9.1/visualization.html)\n",
        "\n",
        "``\n",
        "1    102\n",
        "\n",
        "0     25\n",
        "\n",
        "Name: Session_1, dtype: int64\n",
        "\n",
        "1    101\n",
        "\n",
        "0     26\n",
        "\n",
        "\n",
        "Name: Session_2, dtype: int64\n",
        "\n",
        "1    79\n",
        "\n",
        "0    48\n",
        "\n",
        "Name: Session_3, dtype: int64\n",
        "\n",
        "1    96\n",
        "\n",
        "0    31\n",
        "\n",
        "Name: Session_4, dtype: int64\n",
        "``"
      ]
    },
    {
      "cell_type": "code",
      "metadata": {
        "id": "p4m5o4t-9rUp",
        "colab_type": "code",
        "colab": {}
      },
      "source": [
        ""
      ],
      "execution_count": 0,
      "outputs": []
    },
    {
      "cell_type": "markdown",
      "metadata": {
        "id": "Z_UnHe98UJoU",
        "colab_type": "text"
      },
      "source": [
        "### Challenge 2\n",
        "\n",
        "Visualise Question 2; what is the age of the respondents?"
      ]
    },
    {
      "cell_type": "code",
      "metadata": {
        "id": "NL15hMJIUMa5",
        "colab_type": "code",
        "colab": {}
      },
      "source": [
        ""
      ],
      "execution_count": 0,
      "outputs": []
    },
    {
      "cell_type": "markdown",
      "metadata": {
        "id": "RhtAfRudS3Q3",
        "colab_type": "text"
      },
      "source": [
        "### Challenge 3\n",
        "\n",
        "Check for the country where you come from what the percentage of respondents was in compared to the total number of respondents.\n"
      ]
    },
    {
      "cell_type": "code",
      "metadata": {
        "id": "zy2nWJPsS1BB",
        "colab_type": "code",
        "colab": {}
      },
      "source": [
        ""
      ],
      "execution_count": 0,
      "outputs": []
    },
    {
      "cell_type": "markdown",
      "metadata": {
        "id": "dzyLF5I7Tvn7",
        "colab_type": "text"
      },
      "source": [
        "### Challenge 4\n",
        "\n",
        "Visualise question 9 with a bar graph. What is the median income of the respondents?\n",
        "\n",
        "\n"
      ]
    },
    {
      "cell_type": "code",
      "metadata": {
        "id": "bvBWsKX_S2bu",
        "colab_type": "code",
        "colab": {}
      },
      "source": [
        ""
      ],
      "execution_count": 0,
      "outputs": []
    },
    {
      "cell_type": "markdown",
      "metadata": {
        "id": "xs97L2OCZDww",
        "colab_type": "text"
      },
      "source": [
        "### Challenge 5 \n",
        "\n",
        "Choose one question and visualise that question. Then write down your analysis (i.e. what you observe)"
      ]
    },
    {
      "cell_type": "code",
      "metadata": {
        "id": "X1gnkbe17MGz",
        "colab_type": "code",
        "colab": {}
      },
      "source": [
        ""
      ],
      "execution_count": 0,
      "outputs": []
    }
  ]
}